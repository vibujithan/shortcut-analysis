{
 "cells": [
  {
   "cell_type": "code",
   "execution_count": 59,
   "id": "initial_id",
   "metadata": {
    "ExecuteTime": {
     "end_time": "2024-12-12T17:06:28.226847Z",
     "start_time": "2024-12-12T17:06:28.219622Z"
    },
    "collapsed": true
   },
   "outputs": [],
   "source": [
    "import pandas as pd\n",
    "\n",
    "df = pd.read_csv(\"/data/Data/PD/all_df_2.csv\")\n",
    "df = df.rename(columns={\"Scanner_type\": \"Type\"})\n",
    "df = df.rename(columns={\"Study\": \"Site\"})\n"
   ]
  },
  {
   "cell_type": "code",
   "execution_count": 61,
   "id": "d8a673c2bed03a4d",
   "metadata": {
    "ExecuteTime": {
     "end_time": "2024-12-12T17:06:28.585316Z",
     "start_time": "2024-12-12T17:06:28.582073Z"
    },
    "collapsed": false
   },
   "outputs": [
    {
     "data": {
      "text/plain": [
       "UKBB              245\n",
       "PD_MCI_CALGARY    121\n",
       "HAMBURG           113\n",
       "BIOCOG             94\n",
       "SALD               78\n",
       "C-BIG              76\n",
       "PD_MCI_PLS         62\n",
       "Japan_dataset      45\n",
       "Neurocon           42\n",
       "Taowu              37\n",
       "Name: Site, dtype: int64"
      ]
     },
     "execution_count": 61,
     "metadata": {},
     "output_type": "execute_result"
    }
   ],
   "source": [
    "df[\"Site\"].value_counts()"
   ]
  },
  {
   "cell_type": "code",
   "execution_count": 62,
   "id": "7791d50ea9971991",
   "metadata": {
    "ExecuteTime": {
     "end_time": "2024-12-12T17:06:29.050240Z",
     "start_time": "2024-12-12T17:06:29.048074Z"
    },
    "collapsed": false
   },
   "outputs": [],
   "source": [
    "def drop_study(df, sites):\n",
    "    mask = ~df[\"Site\"].str.contains(\"|\".join(sites), case=True, na=False)\n",
    "    df = df[mask]\n",
    "    df.reset_index(drop=True, inplace=True)\n",
    "    return df"
   ]
  },
  {
   "cell_type": "code",
   "execution_count": 63,
   "id": "dc4508235b77b34f",
   "metadata": {
    "ExecuteTime": {
     "end_time": "2024-12-12T17:06:30.340054Z",
     "start_time": "2024-12-12T17:06:30.336932Z"
    },
    "collapsed": false
   },
   "outputs": [],
   "source": [
    "df = drop_study(df, [\"PPMI\", \"HMC\", \"JGH\", \"RUH\", \"SBK\", \"MUC\", \"SALD\"])"
   ]
  },
  {
   "cell_type": "code",
   "execution_count": 93,
   "id": "a3a52c9def242744",
   "metadata": {
    "ExecuteTime": {
     "end_time": "2024-12-12T17:06:30.812993Z",
     "start_time": "2024-12-12T17:06:30.808537Z"
    },
    "collapsed": false
   },
   "outputs": [],
   "source": [
    "import numpy as np\n",
    "import matplotlib.pyplot as plt\n",
    "import seaborn as sns\n",
    "from textwrap import wrap\n",
    "\n",
    "\n",
    "def visualize(df, bias_vars):\n",
    "    fig, ax = plt.subplots(1, 2, gridspec_kw={\"width_ratios\": [6, 1]}, figsize=(7, 3))\n",
    "\n",
    "    for k in range(2):\n",
    "        count_df = df.groupby([bias_vars[k], \"Group\"]).size().unstack(fill_value=0)\n",
    "\n",
    "        # Create figure\n",
    "\n",
    "        # Create stacked bar plot\n",
    "        colors = sns.color_palette(\"husl\", n_colors=len(count_df.columns))\n",
    "        bottom = np.zeros(len(count_df.index))\n",
    "\n",
    "        for i, (colname, color) in enumerate(zip(count_df.columns, colors)):\n",
    "            values = count_df[colname]\n",
    "            ax[k].bar(count_df.index, values, bottom=bottom, label=colname, color=color)\n",
    "            # Add count labels in the middle of each segment\n",
    "            for j, v in enumerate(values):\n",
    "                if v > 0:  # Only add label if there's a value\n",
    "                    ax[k].text(\n",
    "                        j,\n",
    "                        bottom[j] + v / 2,\n",
    "                        str(int(v)),\n",
    "                        ha=\"center\",\n",
    "                        va=\"center\",\n",
    "                        fontweight=\"bold\",\n",
    "                        color=\"white\",\n",
    "                    )\n",
    "            bottom += values\n",
    "\n",
    "        # Customize the plot\n",
    "        ax[k].set_title(f\"Count by {bias_vars[k]}\", pad=5)\n",
    "        ax[k].set_xlabel(f\"{bias_vars[k]}\")\n",
    "        ax[0].set_ylabel(\"Count\")\n",
    "        ax[0].set_xticks(np.arange(9))\n",
    "\n",
    "        # wrapped_labels = [\n",
    "        #     \"\\n\".join(wrap(label.get_text(), width=7))\n",
    "        #     for label in ax[k].get_xticklabels()\n",
    "        # ]\n",
    "        # ax[k].set_xticks(np.arange(len(wrapped_labels)))\n",
    "        # ax[k].set_xticklabels(wrapped_labels)\n",
    "\n",
    "        # Add legend\n",
    "        ax[0].legend(title=\"PD Status\", ncols=2, loc=\"upper right\")\n",
    "\n",
    "        # Add total counts on top of each stack\n",
    "        # for i, total in enumerate(bottom):\n",
    "        #     ax[k].text(\n",
    "        #         i, total, f\"{int(total)}\", ha=\"center\", va=\"bottom\", fontweight=\"bold\"\n",
    "        #     )\n",
    "\n",
    "    # Adjust layout\n",
    "    plt.tight_layout()\n",
    "\n",
    "    # Show the plot\n",
    "    plt.show()\n",
    "\n",
    "    return fig"
   ]
  },
  {
   "cell_type": "code",
   "execution_count": 94,
   "id": "775339655b47ca0d",
   "metadata": {
    "ExecuteTime": {
     "end_time": "2024-12-12T17:06:32.766181Z",
     "start_time": "2024-12-12T17:06:32.126621Z"
    },
    "collapsed": false
   },
   "outputs": [
    {
     "data": {
      "image/png": "[encoded data removed]",
      "text/plain": [
       "<Figure size 504x216 with 2 Axes>"
      ]
     },
     "metadata": {
      "needs_background": "light"
     },
     "output_type": "display_data"
    }
   ],
   "source": [
    "visualize(df, [\"Site\", \"Sex\"]).savefig(\n",
    "    f\"/data/Papers/MICCAI-biases/data/sex_study_dist.pdf\"\n",
    ")"
   ]
  },
  {
   "cell_type": "code",
   "execution_count": 67,
   "id": "c6ff872c9c5876b7",
   "metadata": {
    "ExecuteTime": {
     "end_time": "2024-12-12T17:06:32.770811Z",
     "start_time": "2024-12-12T17:06:32.767616Z"
    },
    "collapsed": false
   },
   "outputs": [],
   "source": [
    "def categorize(df, col):\n",
    "    type_unique = df[col].unique()\n",
    "    type_categories = {k: v for k, v in zip(type_unique, np.arange(len(type_unique)))}\n",
    "    print(type_categories)\n",
    "    df[col] = df[col].map(type_categories)\n",
    "    return df, type_categories\n",
    "\n",
    "\n",
    "def binarize(df, col, val):\n",
    "    df[col] = (df[col] == val).astype(\"int\")\n",
    "    return df"
   ]
  },
  {
   "cell_type": "code",
   "execution_count": 69,
   "id": "edf56ebc94aa0aea",
   "metadata": {
    "ExecuteTime": {
     "end_time": "2024-12-12T17:06:38.859196Z",
     "start_time": "2024-12-12T17:06:38.854325Z"
    },
    "collapsed": false
   },
   "outputs": [
    {
     "name": "stdout",
     "output_type": "stream",
     "text": [
      "{0: 0, 1: 1, 2: 2, 3: 3, 4: 4, 5: 5, 6: 6, 7: 7}\n",
      "{'PD_MCI_CALGARY': 0, 'UKBB': 1, 'HAMBURG': 2, 'C-BIG': 3, 'Neurocon': 4, 'Japan_dataset': 5, 'PD_MCI_PLS': 6, 'Taowu': 7, 'BIOCOG': 8}\n"
     ]
    }
   ],
   "source": [
    "df, scanner_dict = categorize(df, \"Type\")\n",
    "df, study_dict = categorize(df, \"Site\")\n",
    "# df = binarize(df, 'Sex', 'M')\n",
    "df = binarize(df, \"Group\", \"PD\")"
   ]
  },
  {
   "cell_type": "code",
   "execution_count": 97,
   "id": "751cfdd8",
   "metadata": {},
   "outputs": [
    {
     "data": {
      "text/plain": [
       "1    426\n",
       "0    409\n",
       "Name: Group, dtype: int64"
      ]
     },
     "execution_count": 97,
     "metadata": {},
     "output_type": "execute_result"
    }
   ],
   "source": [
    "df[\"Group\"].value_counts()"
   ]
  },
  {
   "cell_type": "code",
   "execution_count": 23,
   "id": "eb774e807d195bf9",
   "metadata": {
    "ExecuteTime": {
     "end_time": "2024-12-12T17:07:20.545861Z",
     "start_time": "2024-12-12T17:07:20.539382Z"
    },
    "collapsed": false
   },
   "outputs": [
    {
     "data": {
      "text/plain": [
       "[0.48982035928143713, 0.5101796407185629]"
      ]
     },
     "execution_count": 23,
     "metadata": {},
     "output_type": "execute_result"
    }
   ],
   "source": [
    "grouped_df = df.groupby('Group')['Group'].value_counts()\n",
    "percentages = (grouped_df / grouped_df.sum()).to_list()\n",
    "percentages"
   ]
  },
  {
   "cell_type": "code",
   "execution_count": 24,
   "id": "598219e1a6f64e79",
   "metadata": {
    "ExecuteTime": {
     "end_time": "2024-12-12T17:07:22.781760Z",
     "start_time": "2024-12-12T17:07:22.778027Z"
    },
    "collapsed": false
   },
   "outputs": [
    {
     "data": {
      "text/plain": [
       "[0.4227544910179641, 0.577245508982036]"
      ]
     },
     "execution_count": 24,
     "metadata": {},
     "output_type": "execute_result"
    }
   ],
   "source": [
    "grouped_df = df.groupby('Sex')['Sex'].value_counts()\n",
    "percentages = (grouped_df / grouped_df.sum()).to_list()\n",
    "percentages"
   ]
  },
  {
   "cell_type": "code",
   "execution_count": 25,
   "id": "42a16276bc43466d",
   "metadata": {
    "ExecuteTime": {
     "end_time": "2024-12-12T17:07:24.644275Z",
     "start_time": "2024-12-12T17:07:24.639481Z"
    },
    "collapsed": false
   },
   "outputs": [
    {
     "data": {
      "text/plain": [
       "[0.14491017964071856,\n",
       " 0.2934131736526946,\n",
       " 0.13532934131736526,\n",
       " 0.09101796407185629,\n",
       " 0.05029940119760479,\n",
       " 0.05389221556886228,\n",
       " 0.07425149700598803,\n",
       " 0.04431137724550898,\n",
       " 0.1125748502994012]"
      ]
     },
     "execution_count": 25,
     "metadata": {},
     "output_type": "execute_result"
    }
   ],
   "source": [
    "grouped_df = df.groupby('Study')['Study'].value_counts()\n",
    "percentages = (grouped_df / grouped_df.sum()).to_list()\n",
    "percentages"
   ]
  },
  {
   "cell_type": "code",
   "execution_count": 26,
   "id": "6c84e9ff3da2af5c",
   "metadata": {
    "ExecuteTime": {
     "end_time": "2024-12-12T17:09:59.910679Z",
     "start_time": "2024-12-12T17:09:59.878623Z"
    },
    "collapsed": false
   },
   "outputs": [],
   "source": [
    "from sklearn.model_selection import train_test_split\n",
    "\n",
    "def stratified_data_split(df, target_column, train_size=0.5, val_size=0.1, test_size=0.4, random_state=42):\n",
    "    train_val, test = train_test_split(df, test_size=test_size, stratify=df[target_column], random_state=random_state)\n",
    "    train, val = train_test_split(train_val, test_size=val_size / (train_size + val_size),\n",
    "                                  stratify=train_val[target_column], random_state=random_state)\n",
    "    return train, val, test"
   ]
  },
  {
   "cell_type": "code",
   "execution_count": 27,
   "id": "d0e1e7b45bacce95",
   "metadata": {
    "ExecuteTime": {
     "end_time": "2024-12-12T17:10:08.653573Z",
     "start_time": "2024-12-12T17:10:08.640430Z"
    },
    "collapsed": false
   },
   "outputs": [
    {
     "data": {
      "text/html": [
       "<div>\n",
       "<style scoped>\n",
       "    .dataframe tbody tr th:only-of-type {\n",
       "        vertical-align: middle;\n",
       "    }\n",
       "\n",
       "    .dataframe tbody tr th {\n",
       "        vertical-align: top;\n",
       "    }\n",
       "\n",
       "    .dataframe thead th {\n",
       "        text-align: right;\n",
       "    }\n",
       "</style>\n",
       "<table border=\"1\" class=\"dataframe\">\n",
       "  <thead>\n",
       "    <tr style=\"text-align: right;\">\n",
       "      <th></th>\n",
       "      <th>Subject</th>\n",
       "      <th>participant_id</th>\n",
       "      <th>Study</th>\n",
       "      <th>Extension</th>\n",
       "      <th>Root</th>\n",
       "      <th>Path_old</th>\n",
       "      <th>Site_2</th>\n",
       "      <th>Group</th>\n",
       "      <th>Group_bin</th>\n",
       "      <th>Sex</th>\n",
       "      <th>Type</th>\n",
       "      <th>Unnamed: 11</th>\n",
       "      <th>Sex_bin</th>\n",
       "      <th>Scanner</th>\n",
       "      <th>Vendor</th>\n",
       "      <th>Path</th>\n",
       "      <th>Home</th>\n",
       "      <th>Site_3</th>\n",
       "      <th>Age</th>\n",
       "      <th>strat_column</th>\n",
       "    </tr>\n",
       "  </thead>\n",
       "  <tbody>\n",
       "    <tr>\n",
       "      <th>0</th>\n",
       "      <td>sub-0144</td>\n",
       "      <td>sub-1343</td>\n",
       "      <td>0</td>\n",
       "      <td>.nii.gz</td>\n",
       "      <td>../affine_using_nifty_reg/</td>\n",
       "      <td>../affine_using_nifty_reg/sub-0144.nii.gz</td>\n",
       "      <td>9</td>\n",
       "      <td>1</td>\n",
       "      <td>1</td>\n",
       "      <td>0</td>\n",
       "      <td>0</td>\n",
       "      <td>NaN</td>\n",
       "      <td>0</td>\n",
       "      <td>0</td>\n",
       "      <td>0</td>\n",
       "      <td>/home/raissa/Documents/Parkinson/Milton_repo/d...</td>\n",
       "      <td>/home/raissa/Documents/Parkinson/Milton_repo/d...</td>\n",
       "      <td>5</td>\n",
       "      <td>68.500000</td>\n",
       "      <td>0_0_1</td>\n",
       "    </tr>\n",
       "    <tr>\n",
       "      <th>1</th>\n",
       "      <td>1288906</td>\n",
       "      <td>sub-1943</td>\n",
       "      <td>1</td>\n",
       "      <td>.nii.gz</td>\n",
       "      <td>../affine_using_nifty_reg/</td>\n",
       "      <td>../affine_using_nifty_reg/1288906.nii.gz</td>\n",
       "      <td>39</td>\n",
       "      <td>1</td>\n",
       "      <td>1</td>\n",
       "      <td>1</td>\n",
       "      <td>1</td>\n",
       "      <td>NaN</td>\n",
       "      <td>1</td>\n",
       "      <td>13</td>\n",
       "      <td>3</td>\n",
       "      <td>/home/raissa/Documents/Parkinson/Milton_repo/d...</td>\n",
       "      <td>/home/raissa/Documents/Parkinson/Milton_repo/d...</td>\n",
       "      <td>9</td>\n",
       "      <td>72.750000</td>\n",
       "      <td>1_1_1</td>\n",
       "    </tr>\n",
       "    <tr>\n",
       "      <th>2</th>\n",
       "      <td>PASIM_N040</td>\n",
       "      <td>PASIM_N040</td>\n",
       "      <td>2</td>\n",
       "      <td>.nii.gz</td>\n",
       "      <td>../affine_using_nifty_reg/</td>\n",
       "      <td>../affine_using_nifty_reg/PASIM_N040.nii.gz</td>\n",
       "      <td>2</td>\n",
       "      <td>0</td>\n",
       "      <td>0</td>\n",
       "      <td>1</td>\n",
       "      <td>1</td>\n",
       "      <td>NaN</td>\n",
       "      <td>1</td>\n",
       "      <td>13</td>\n",
       "      <td>3</td>\n",
       "      <td>/home/raissa/Documents/Parkinson/Milton_repo/d...</td>\n",
       "      <td>/home/raissa/Documents/Parkinson/Milton_repo/d...</td>\n",
       "      <td>2</td>\n",
       "      <td>68.200000</td>\n",
       "      <td>2_1_0</td>\n",
       "    </tr>\n",
       "    <tr>\n",
       "      <th>3</th>\n",
       "      <td>sub-258358</td>\n",
       "      <td>sub-1446</td>\n",
       "      <td>3</td>\n",
       "      <td>.nii.gz</td>\n",
       "      <td>../affine_using_nifty_reg/</td>\n",
       "      <td>../affine_using_nifty_reg/sub-258358.nii.gz</td>\n",
       "      <td>1</td>\n",
       "      <td>1</td>\n",
       "      <td>1</td>\n",
       "      <td>1</td>\n",
       "      <td>2</td>\n",
       "      <td>NaN</td>\n",
       "      <td>1</td>\n",
       "      <td>12</td>\n",
       "      <td>3</td>\n",
       "      <td>/home/raissa/Documents/Parkinson/Milton_repo/d...</td>\n",
       "      <td>/home/raissa/Documents/Parkinson/Milton_repo/d...</td>\n",
       "      <td>1</td>\n",
       "      <td>78.000000</td>\n",
       "      <td>3_1_1</td>\n",
       "    </tr>\n",
       "    <tr>\n",
       "      <th>4</th>\n",
       "      <td>patient032036</td>\n",
       "      <td>sub-1614</td>\n",
       "      <td>4</td>\n",
       "      <td>.nii.gz</td>\n",
       "      <td>../affine_using_nifty_reg/</td>\n",
       "      <td>../affine_using_nifty_reg/patient032036.nii.gz</td>\n",
       "      <td>7</td>\n",
       "      <td>1</td>\n",
       "      <td>1</td>\n",
       "      <td>0</td>\n",
       "      <td>3</td>\n",
       "      <td>NaN</td>\n",
       "      <td>0</td>\n",
       "      <td>8</td>\n",
       "      <td>3</td>\n",
       "      <td>/home/raissa/Documents/Parkinson/Milton_repo/d...</td>\n",
       "      <td>/home/raissa/Documents/Parkinson/Milton_repo/d...</td>\n",
       "      <td>4</td>\n",
       "      <td>67.000000</td>\n",
       "      <td>4_0_1</td>\n",
       "    </tr>\n",
       "    <tr>\n",
       "      <th>...</th>\n",
       "      <td>...</td>\n",
       "      <td>...</td>\n",
       "      <td>...</td>\n",
       "      <td>...</td>\n",
       "      <td>...</td>\n",
       "      <td>...</td>\n",
       "      <td>...</td>\n",
       "      <td>...</td>\n",
       "      <td>...</td>\n",
       "      <td>...</td>\n",
       "      <td>...</td>\n",
       "      <td>...</td>\n",
       "      <td>...</td>\n",
       "      <td>...</td>\n",
       "      <td>...</td>\n",
       "      <td>...</td>\n",
       "      <td>...</td>\n",
       "      <td>...</td>\n",
       "      <td>...</td>\n",
       "      <td>...</td>\n",
       "    </tr>\n",
       "    <tr>\n",
       "      <th>830</th>\n",
       "      <td>PASIM_P031</td>\n",
       "      <td>sub-1124</td>\n",
       "      <td>2</td>\n",
       "      <td>.nii.gz</td>\n",
       "      <td>../affine_using_nifty_reg/</td>\n",
       "      <td>../affine_using_nifty_reg/PASIM_P031.nii.gz</td>\n",
       "      <td>2</td>\n",
       "      <td>1</td>\n",
       "      <td>1</td>\n",
       "      <td>0</td>\n",
       "      <td>1</td>\n",
       "      <td>NaN</td>\n",
       "      <td>0</td>\n",
       "      <td>13</td>\n",
       "      <td>3</td>\n",
       "      <td>/home/raissa/Documents/Parkinson/Milton_repo/d...</td>\n",
       "      <td>/home/raissa/Documents/Parkinson/Milton_repo/d...</td>\n",
       "      <td>2</td>\n",
       "      <td>41.000000</td>\n",
       "      <td>2_0_1</td>\n",
       "    </tr>\n",
       "    <tr>\n",
       "      <th>831</th>\n",
       "      <td>1051005</td>\n",
       "      <td>sub-1878</td>\n",
       "      <td>1</td>\n",
       "      <td>.nii.gz</td>\n",
       "      <td>../affine_using_nifty_reg/</td>\n",
       "      <td>../affine_using_nifty_reg/1051005.nii.gz</td>\n",
       "      <td>39</td>\n",
       "      <td>0</td>\n",
       "      <td>0</td>\n",
       "      <td>1</td>\n",
       "      <td>1</td>\n",
       "      <td>NaN</td>\n",
       "      <td>1</td>\n",
       "      <td>13</td>\n",
       "      <td>3</td>\n",
       "      <td>/home/raissa/Documents/Parkinson/Milton_repo/d...</td>\n",
       "      <td>/home/raissa/Documents/Parkinson/Milton_repo/d...</td>\n",
       "      <td>9</td>\n",
       "      <td>62.416667</td>\n",
       "      <td>1_1_0</td>\n",
       "    </tr>\n",
       "    <tr>\n",
       "      <th>832</th>\n",
       "      <td>ODN08</td>\n",
       "      <td>sub-1657</td>\n",
       "      <td>5</td>\n",
       "      <td>.nii.gz</td>\n",
       "      <td>../affine_using_nifty_reg/</td>\n",
       "      <td>../affine_using_nifty_reg/ODN08.nii.gz</td>\n",
       "      <td>4</td>\n",
       "      <td>1</td>\n",
       "      <td>1</td>\n",
       "      <td>0</td>\n",
       "      <td>4</td>\n",
       "      <td>NaN</td>\n",
       "      <td>0</td>\n",
       "      <td>18</td>\n",
       "      <td>3</td>\n",
       "      <td>/home/raissa/Documents/Parkinson/Milton_repo/d...</td>\n",
       "      <td>/home/raissa/Documents/Parkinson/Milton_repo/d...</td>\n",
       "      <td>3</td>\n",
       "      <td>66.000000</td>\n",
       "      <td>5_0_1</td>\n",
       "    </tr>\n",
       "    <tr>\n",
       "      <th>833</th>\n",
       "      <td>PASIM_P203</td>\n",
       "      <td>sub-1167</td>\n",
       "      <td>2</td>\n",
       "      <td>.nii.gz</td>\n",
       "      <td>../affine_using_nifty_reg/</td>\n",
       "      <td>../affine_using_nifty_reg/PASIM_P203.nii.gz</td>\n",
       "      <td>2</td>\n",
       "      <td>1</td>\n",
       "      <td>1</td>\n",
       "      <td>1</td>\n",
       "      <td>1</td>\n",
       "      <td>NaN</td>\n",
       "      <td>1</td>\n",
       "      <td>13</td>\n",
       "      <td>3</td>\n",
       "      <td>/home/raissa/Documents/Parkinson/Milton_repo/d...</td>\n",
       "      <td>/home/raissa/Documents/Parkinson/Milton_repo/d...</td>\n",
       "      <td>2</td>\n",
       "      <td>55.000000</td>\n",
       "      <td>2_1_1</td>\n",
       "    </tr>\n",
       "    <tr>\n",
       "      <th>834</th>\n",
       "      <td>BIOCOG_083</td>\n",
       "      <td>sub-635</td>\n",
       "      <td>8</td>\n",
       "      <td>.nii.gz</td>\n",
       "      <td>../affine_using_nifty_reg/</td>\n",
       "      <td>../affine_using_nifty_reg/BIOCOG_083.nii.gz</td>\n",
       "      <td>0</td>\n",
       "      <td>0</td>\n",
       "      <td>0</td>\n",
       "      <td>0</td>\n",
       "      <td>7</td>\n",
       "      <td>NaN</td>\n",
       "      <td>0</td>\n",
       "      <td>14</td>\n",
       "      <td>3</td>\n",
       "      <td>/home/raissa/Documents/Parkinson/Milton_repo/d...</td>\n",
       "      <td>/home/raissa/Documents/Parkinson/Milton_repo/d...</td>\n",
       "      <td>0</td>\n",
       "      <td>81.080000</td>\n",
       "      <td>8_0_0</td>\n",
       "    </tr>\n",
       "  </tbody>\n",
       "</table>\n",
       "<p>835 rows × 20 columns</p>\n",
       "</div>"
      ],
      "text/plain": [
       "           Subject participant_id  Study Extension  \\\n",
       "0         sub-0144       sub-1343      0   .nii.gz   \n",
       "1          1288906       sub-1943      1   .nii.gz   \n",
       "2       PASIM_N040     PASIM_N040      2   .nii.gz   \n",
       "3       sub-258358       sub-1446      3   .nii.gz   \n",
       "4    patient032036       sub-1614      4   .nii.gz   \n",
       "..             ...            ...    ...       ...   \n",
       "830     PASIM_P031       sub-1124      2   .nii.gz   \n",
       "831        1051005       sub-1878      1   .nii.gz   \n",
       "832          ODN08       sub-1657      5   .nii.gz   \n",
       "833     PASIM_P203       sub-1167      2   .nii.gz   \n",
       "834     BIOCOG_083        sub-635      8   .nii.gz   \n",
       "\n",
       "                           Root  \\\n",
       "0    ../affine_using_nifty_reg/   \n",
       "1    ../affine_using_nifty_reg/   \n",
       "2    ../affine_using_nifty_reg/   \n",
       "3    ../affine_using_nifty_reg/   \n",
       "4    ../affine_using_nifty_reg/   \n",
       "..                          ...   \n",
       "830  ../affine_using_nifty_reg/   \n",
       "831  ../affine_using_nifty_reg/   \n",
       "832  ../affine_using_nifty_reg/   \n",
       "833  ../affine_using_nifty_reg/   \n",
       "834  ../affine_using_nifty_reg/   \n",
       "\n",
       "                                           Path_old  Site_2  Group  Group_bin  \\\n",
       "0         ../affine_using_nifty_reg/sub-0144.nii.gz       9      1          1   \n",
       "1          ../affine_using_nifty_reg/1288906.nii.gz      39      1          1   \n",
       "2       ../affine_using_nifty_reg/PASIM_N040.nii.gz       2      0          0   \n",
       "3       ../affine_using_nifty_reg/sub-258358.nii.gz       1      1          1   \n",
       "4    ../affine_using_nifty_reg/patient032036.nii.gz       7      1          1   \n",
       "..                                              ...     ...    ...        ...   \n",
       "830     ../affine_using_nifty_reg/PASIM_P031.nii.gz       2      1          1   \n",
       "831        ../affine_using_nifty_reg/1051005.nii.gz      39      0          0   \n",
       "832          ../affine_using_nifty_reg/ODN08.nii.gz       4      1          1   \n",
       "833     ../affine_using_nifty_reg/PASIM_P203.nii.gz       2      1          1   \n",
       "834     ../affine_using_nifty_reg/BIOCOG_083.nii.gz       0      0          0   \n",
       "\n",
       "     Sex  Type  Unnamed: 11  Sex_bin  Scanner  Vendor  \\\n",
       "0      0     0          NaN        0        0       0   \n",
       "1      1     1          NaN        1       13       3   \n",
       "2      1     1          NaN        1       13       3   \n",
       "3      1     2          NaN        1       12       3   \n",
       "4      0     3          NaN        0        8       3   \n",
       "..   ...   ...          ...      ...      ...     ...   \n",
       "830    0     1          NaN        0       13       3   \n",
       "831    1     1          NaN        1       13       3   \n",
       "832    0     4          NaN        0       18       3   \n",
       "833    1     1          NaN        1       13       3   \n",
       "834    0     7          NaN        0       14       3   \n",
       "\n",
       "                                                  Path  \\\n",
       "0    /home/raissa/Documents/Parkinson/Milton_repo/d...   \n",
       "1    /home/raissa/Documents/Parkinson/Milton_repo/d...   \n",
       "2    /home/raissa/Documents/Parkinson/Milton_repo/d...   \n",
       "3    /home/raissa/Documents/Parkinson/Milton_repo/d...   \n",
       "4    /home/raissa/Documents/Parkinson/Milton_repo/d...   \n",
       "..                                                 ...   \n",
       "830  /home/raissa/Documents/Parkinson/Milton_repo/d...   \n",
       "831  /home/raissa/Documents/Parkinson/Milton_repo/d...   \n",
       "832  /home/raissa/Documents/Parkinson/Milton_repo/d...   \n",
       "833  /home/raissa/Documents/Parkinson/Milton_repo/d...   \n",
       "834  /home/raissa/Documents/Parkinson/Milton_repo/d...   \n",
       "\n",
       "                                                  Home  Site_3        Age  \\\n",
       "0    /home/raissa/Documents/Parkinson/Milton_repo/d...       5  68.500000   \n",
       "1    /home/raissa/Documents/Parkinson/Milton_repo/d...       9  72.750000   \n",
       "2    /home/raissa/Documents/Parkinson/Milton_repo/d...       2  68.200000   \n",
       "3    /home/raissa/Documents/Parkinson/Milton_repo/d...       1  78.000000   \n",
       "4    /home/raissa/Documents/Parkinson/Milton_repo/d...       4  67.000000   \n",
       "..                                                 ...     ...        ...   \n",
       "830  /home/raissa/Documents/Parkinson/Milton_repo/d...       2  41.000000   \n",
       "831  /home/raissa/Documents/Parkinson/Milton_repo/d...       9  62.416667   \n",
       "832  /home/raissa/Documents/Parkinson/Milton_repo/d...       3  66.000000   \n",
       "833  /home/raissa/Documents/Parkinson/Milton_repo/d...       2  55.000000   \n",
       "834  /home/raissa/Documents/Parkinson/Milton_repo/d...       0  81.080000   \n",
       "\n",
       "    strat_column  \n",
       "0          0_0_1  \n",
       "1          1_1_1  \n",
       "2          2_1_0  \n",
       "3          3_1_1  \n",
       "4          4_0_1  \n",
       "..           ...  \n",
       "830        2_0_1  \n",
       "831        1_1_0  \n",
       "832        5_0_1  \n",
       "833        2_1_1  \n",
       "834        8_0_0  \n",
       "\n",
       "[835 rows x 20 columns]"
      ]
     },
     "execution_count": 27,
     "metadata": {},
     "output_type": "execute_result"
    }
   ],
   "source": [
    "df['strat_column'] = df['Study'].astype('str') + '_' + df['Sex'].astype('str') + '_' + df['Group'].astype('str')\n",
    "df"
   ]
  },
  {
   "cell_type": "markdown",
   "id": "3aa9763b",
   "metadata": {},
   "source": []
  },
  {
   "cell_type": "code",
   "execution_count": 28,
   "id": "f3325b99bd659ba5",
   "metadata": {
    "ExecuteTime": {
     "end_time": "2024-12-12T17:10:18.326031Z",
     "start_time": "2024-12-12T17:10:18.322489Z"
    },
    "collapsed": false
   },
   "outputs": [
    {
     "name": "stdout",
     "output_type": "stream",
     "text": [
      "Index(['3_1_0'], dtype='object')\n"
     ]
    }
   ],
   "source": [
    "strata_counts = df['strat_column'].value_counts()\n",
    "strata_to_drop = strata_counts[strata_counts < 3].index\n",
    "print(strata_to_drop)\n",
    "df= df[~df['strat_column'].isin(strata_to_drop)]"
   ]
  },
  {
   "cell_type": "code",
   "execution_count": 29,
   "id": "dd974e19913cb3b4",
   "metadata": {
    "ExecuteTime": {
     "end_time": "2024-12-12T17:10:20.629552Z",
     "start_time": "2024-12-12T17:10:20.623899Z"
    },
    "collapsed": false
   },
   "outputs": [],
   "source": [
    "train, val, test = stratified_data_split(df, 'strat_column')"
   ]
  },
  {
   "cell_type": "code",
   "execution_count": 30,
   "id": "31b1f7b74da6f695",
   "metadata": {
    "ExecuteTime": {
     "end_time": "2024-12-12T17:10:24.453965Z",
     "start_time": "2024-12-12T17:10:24.449773Z"
    },
    "collapsed": false
   },
   "outputs": [],
   "source": [
    "def split_plot(train, test, val, column):\n",
    "    \"\"\"\n",
    "    Seaborn-based visualization of splits\n",
    "    \"\"\"\n",
    "    # Prepare long-format data\n",
    "    plot_data = pd.concat([\n",
    "        train[column].to_frame().assign(Split='Train'),\n",
    "        test[column].to_frame().assign(Split='Test'),\n",
    "        val[column].to_frame().assign(Split='Validation')\n",
    "    ])\n",
    "    \n",
    "    # Create plot\n",
    "    plt.figure(figsize=(12, 6))\n",
    "    sns.countplot(data=plot_data, x=column, hue='Split')\n",
    "    plt.title(f'Split Counts by {column}')\n",
    "    plt.xticks(rotation=45)\n",
    "    plt.tight_layout()\n",
    "    plt.savefig(f'/data/Papers/MICCAI-biases/data/data_split_{column}.pdf')\n",
    "    plt.show()\n",
    "    \n",
    "    return "
   ]
  },
  {
   "cell_type": "code",
   "execution_count": 31,
   "id": "c200b7479ee0f6fb",
   "metadata": {
    "ExecuteTime": {
     "end_time": "2024-12-12T17:10:49.720680Z",
     "start_time": "2024-12-12T17:10:49.317893Z"
    },
    "collapsed": false
   },
   "outputs": [
    {
     "data": {
      "image/png": "[encoded data removed]",
      "text/plain": [
       "<Figure size 864x432 with 1 Axes>"
      ]
     },
     "metadata": {
      "needs_background": "light"
     },
     "output_type": "display_data"
    }
   ],
   "source": [
    "split_plot(train, test, val, 'Study')"
   ]
  },
  {
   "cell_type": "code",
   "execution_count": 32,
   "id": "4d4c45cfedf252e7",
   "metadata": {
    "ExecuteTime": {
     "end_time": "2024-12-12T17:12:06.051857Z",
     "start_time": "2024-12-12T17:12:06.044098Z"
    },
    "collapsed": false
   },
   "outputs": [],
   "source": [
    "train.to_csv('/data/Data/PD/train.csv', index=False)\n",
    "test.to_csv('/data/Data/PD/test.csv', index=False)\n",
    "val.to_csv('/data/Data/PD/val.csv', index=False)"
   ]
  },
  {
   "cell_type": "code",
   "execution_count": 33,
   "id": "d83a3521d232ea01",
   "metadata": {
    "ExecuteTime": {
     "end_time": "2024-12-12T17:10:31.688027Z",
     "start_time": "2024-12-12T17:10:31.672814Z"
    },
    "collapsed": false
   },
   "outputs": [],
   "source": [
    "import pandas as pd\n",
    "\n",
    "def generate_summary_df(df, name):\n",
    "  \"\"\"Generates a DataFrame summarizing the counts of 'Sex' and 'Group' within each 'Study' in a DataFrame.\n",
    "\n",
    "  Args:\n",
    "    df: The DataFrame to summarize.\n",
    "    name: The name of the DataFrame (e.g., 'train', 'test', 'validation').\n",
    "\n",
    "  Returns:\n",
    "    A DataFrame with columns 'Study', 'Sex', 'Count', and 'Group', 'Count'.\n",
    "  \"\"\"\n",
    "\n",
    "  summary_list = []\n",
    "  for study, group in df.groupby('Study'):\n",
    "    for sex, count in group['Sex'].value_counts().items():\n",
    "      summary_list.append([study, 'Sex', sex, count])\n",
    "    for group_val, count in group['Group'].value_counts().items():\n",
    "      summary_list.append([study, 'Group', group_val, count])\n",
    "\n",
    "  summary_df = pd.DataFrame(summary_list, columns=['Study', 'Category', 'Value', 'Count'])\n",
    "  return summary_df\n",
    "\n",
    "# Generate summary DataFrames for each dataset\n",
    "train_summary_df = generate_summary_df(train, 'Train')\n",
    "test_summary_df = generate_summary_df(test, 'Test')\n",
    "val_summary_df = generate_summary_df(val, 'Validation')"
   ]
  },
  {
   "cell_type": "code",
   "execution_count": 34,
   "id": "69a0e2013a9790d3",
   "metadata": {
    "ExecuteTime": {
     "end_time": "2024-12-12T17:10:34.320557Z",
     "start_time": "2024-12-12T17:10:34.313129Z"
    },
    "collapsed": false
   },
   "outputs": [
    {
     "data": {
      "text/html": [
       "<div>\n",
       "<style scoped>\n",
       "    .dataframe tbody tr th:only-of-type {\n",
       "        vertical-align: middle;\n",
       "    }\n",
       "\n",
       "    .dataframe tbody tr th {\n",
       "        vertical-align: top;\n",
       "    }\n",
       "\n",
       "    .dataframe thead th {\n",
       "        text-align: right;\n",
       "    }\n",
       "</style>\n",
       "<table border=\"1\" class=\"dataframe\">\n",
       "  <thead>\n",
       "    <tr style=\"text-align: right;\">\n",
       "      <th></th>\n",
       "      <th>Study</th>\n",
       "      <th>Category</th>\n",
       "      <th>Value</th>\n",
       "      <th>Count</th>\n",
       "      <th>Source</th>\n",
       "    </tr>\n",
       "  </thead>\n",
       "  <tbody>\n",
       "    <tr>\n",
       "      <th>0</th>\n",
       "      <td>0</td>\n",
       "      <td>Sex</td>\n",
       "      <td>1</td>\n",
       "      <td>37</td>\n",
       "      <td>0_Train</td>\n",
       "    </tr>\n",
       "    <tr>\n",
       "      <th>1</th>\n",
       "      <td>0</td>\n",
       "      <td>Sex</td>\n",
       "      <td>0</td>\n",
       "      <td>24</td>\n",
       "      <td>0_Train</td>\n",
       "    </tr>\n",
       "    <tr>\n",
       "      <th>2</th>\n",
       "      <td>0</td>\n",
       "      <td>Group</td>\n",
       "      <td>1</td>\n",
       "      <td>40</td>\n",
       "      <td>0_Train</td>\n",
       "    </tr>\n",
       "    <tr>\n",
       "      <th>3</th>\n",
       "      <td>0</td>\n",
       "      <td>Group</td>\n",
       "      <td>0</td>\n",
       "      <td>21</td>\n",
       "      <td>0_Train</td>\n",
       "    </tr>\n",
       "    <tr>\n",
       "      <th>4</th>\n",
       "      <td>1</td>\n",
       "      <td>Sex</td>\n",
       "      <td>1</td>\n",
       "      <td>73</td>\n",
       "      <td>0_Train</td>\n",
       "    </tr>\n",
       "    <tr>\n",
       "      <th>...</th>\n",
       "      <td>...</td>\n",
       "      <td>...</td>\n",
       "      <td>...</td>\n",
       "      <td>...</td>\n",
       "      <td>...</td>\n",
       "    </tr>\n",
       "    <tr>\n",
       "      <th>103</th>\n",
       "      <td>7</td>\n",
       "      <td>Group</td>\n",
       "      <td>1</td>\n",
       "      <td>2</td>\n",
       "      <td>1_Val</td>\n",
       "    </tr>\n",
       "    <tr>\n",
       "      <th>104</th>\n",
       "      <td>8</td>\n",
       "      <td>Sex</td>\n",
       "      <td>1</td>\n",
       "      <td>6</td>\n",
       "      <td>1_Val</td>\n",
       "    </tr>\n",
       "    <tr>\n",
       "      <th>105</th>\n",
       "      <td>8</td>\n",
       "      <td>Sex</td>\n",
       "      <td>0</td>\n",
       "      <td>4</td>\n",
       "      <td>1_Val</td>\n",
       "    </tr>\n",
       "    <tr>\n",
       "      <th>106</th>\n",
       "      <td>8</td>\n",
       "      <td>Group</td>\n",
       "      <td>1</td>\n",
       "      <td>5</td>\n",
       "      <td>1_Val</td>\n",
       "    </tr>\n",
       "    <tr>\n",
       "      <th>107</th>\n",
       "      <td>8</td>\n",
       "      <td>Group</td>\n",
       "      <td>0</td>\n",
       "      <td>5</td>\n",
       "      <td>1_Val</td>\n",
       "    </tr>\n",
       "  </tbody>\n",
       "</table>\n",
       "<p>108 rows × 5 columns</p>\n",
       "</div>"
      ],
      "text/plain": [
       "     Study Category  Value  Count   Source\n",
       "0        0      Sex      1     37  0_Train\n",
       "1        0      Sex      0     24  0_Train\n",
       "2        0    Group      1     40  0_Train\n",
       "3        0    Group      0     21  0_Train\n",
       "4        1      Sex      1     73  0_Train\n",
       "..     ...      ...    ...    ...      ...\n",
       "103      7    Group      1      2    1_Val\n",
       "104      8      Sex      1      6    1_Val\n",
       "105      8      Sex      0      4    1_Val\n",
       "106      8    Group      1      5    1_Val\n",
       "107      8    Group      0      5    1_Val\n",
       "\n",
       "[108 rows x 5 columns]"
      ]
     },
     "execution_count": 34,
     "metadata": {},
     "output_type": "execute_result"
    }
   ],
   "source": [
    "\n",
    "# Add a 'Source' column to each DataFrame\n",
    "train_summary_df['Source'] = '0_Train'\n",
    "test_summary_df['Source'] = '2_Test'\n",
    "val_summary_df['Source'] = '1_Val'\n",
    "\n",
    "# Concatenate the DataFrames\n",
    "combined_df = pd.concat([train_summary_df, test_summary_df, val_summary_df], ignore_index=True)\n",
    "combined_df"
   ]
  },
  {
   "cell_type": "code",
   "execution_count": 35,
   "id": "da3301899fc225f7",
   "metadata": {
    "ExecuteTime": {
     "end_time": "2024-12-12T17:10:39.843954Z",
     "start_time": "2024-12-12T17:10:39.826090Z"
    },
    "collapsed": false
   },
   "outputs": [
    {
     "data": {
      "text/html": [
       "<div>\n",
       "<style scoped>\n",
       "    .dataframe tbody tr th:only-of-type {\n",
       "        vertical-align: middle;\n",
       "    }\n",
       "\n",
       "    .dataframe tbody tr th {\n",
       "        vertical-align: top;\n",
       "    }\n",
       "\n",
       "    .dataframe thead tr th {\n",
       "        text-align: left;\n",
       "    }\n",
       "\n",
       "    .dataframe thead tr:last-of-type th {\n",
       "        text-align: right;\n",
       "    }\n",
       "</style>\n",
       "<table border=\"1\" class=\"dataframe\">\n",
       "  <thead>\n",
       "    <tr>\n",
       "      <th></th>\n",
       "      <th>Study</th>\n",
       "      <th colspan=\"3\" halign=\"left\">0</th>\n",
       "      <th colspan=\"3\" halign=\"left\">1</th>\n",
       "      <th colspan=\"3\" halign=\"left\">2</th>\n",
       "      <th>3</th>\n",
       "      <th>...</th>\n",
       "      <th>5</th>\n",
       "      <th colspan=\"3\" halign=\"left\">6</th>\n",
       "      <th colspan=\"3\" halign=\"left\">7</th>\n",
       "      <th colspan=\"3\" halign=\"left\">8</th>\n",
       "    </tr>\n",
       "    <tr>\n",
       "      <th></th>\n",
       "      <th>Source</th>\n",
       "      <th>0_Train</th>\n",
       "      <th>1_Val</th>\n",
       "      <th>2_Test</th>\n",
       "      <th>0_Train</th>\n",
       "      <th>1_Val</th>\n",
       "      <th>2_Test</th>\n",
       "      <th>0_Train</th>\n",
       "      <th>1_Val</th>\n",
       "      <th>2_Test</th>\n",
       "      <th>0_Train</th>\n",
       "      <th>...</th>\n",
       "      <th>2_Test</th>\n",
       "      <th>0_Train</th>\n",
       "      <th>1_Val</th>\n",
       "      <th>2_Test</th>\n",
       "      <th>0_Train</th>\n",
       "      <th>1_Val</th>\n",
       "      <th>2_Test</th>\n",
       "      <th>0_Train</th>\n",
       "      <th>1_Val</th>\n",
       "      <th>2_Test</th>\n",
       "    </tr>\n",
       "    <tr>\n",
       "      <th>Category</th>\n",
       "      <th>Value</th>\n",
       "      <th></th>\n",
       "      <th></th>\n",
       "      <th></th>\n",
       "      <th></th>\n",
       "      <th></th>\n",
       "      <th></th>\n",
       "      <th></th>\n",
       "      <th></th>\n",
       "      <th></th>\n",
       "      <th></th>\n",
       "      <th></th>\n",
       "      <th></th>\n",
       "      <th></th>\n",
       "      <th></th>\n",
       "      <th></th>\n",
       "      <th></th>\n",
       "      <th></th>\n",
       "      <th></th>\n",
       "      <th></th>\n",
       "      <th></th>\n",
       "      <th></th>\n",
       "    </tr>\n",
       "  </thead>\n",
       "  <tbody>\n",
       "    <tr>\n",
       "      <th rowspan=\"2\" valign=\"top\">Group</th>\n",
       "      <th>0</th>\n",
       "      <td>21</td>\n",
       "      <td>4</td>\n",
       "      <td>17</td>\n",
       "      <td>98</td>\n",
       "      <td>20</td>\n",
       "      <td>79</td>\n",
       "      <td>20</td>\n",
       "      <td>3</td>\n",
       "      <td>16</td>\n",
       "      <td>4</td>\n",
       "      <td>...</td>\n",
       "      <td>6</td>\n",
       "      <td>11</td>\n",
       "      <td>2</td>\n",
       "      <td>8</td>\n",
       "      <td>10</td>\n",
       "      <td>2</td>\n",
       "      <td>8</td>\n",
       "      <td>25</td>\n",
       "      <td>5</td>\n",
       "      <td>19</td>\n",
       "    </tr>\n",
       "    <tr>\n",
       "      <th>1</th>\n",
       "      <td>40</td>\n",
       "      <td>8</td>\n",
       "      <td>31</td>\n",
       "      <td>24</td>\n",
       "      <td>5</td>\n",
       "      <td>19</td>\n",
       "      <td>37</td>\n",
       "      <td>7</td>\n",
       "      <td>30</td>\n",
       "      <td>32</td>\n",
       "      <td>...</td>\n",
       "      <td>12</td>\n",
       "      <td>21</td>\n",
       "      <td>4</td>\n",
       "      <td>16</td>\n",
       "      <td>8</td>\n",
       "      <td>2</td>\n",
       "      <td>7</td>\n",
       "      <td>22</td>\n",
       "      <td>5</td>\n",
       "      <td>18</td>\n",
       "    </tr>\n",
       "    <tr>\n",
       "      <th rowspan=\"2\" valign=\"top\">Sex</th>\n",
       "      <th>0</th>\n",
       "      <td>24</td>\n",
       "      <td>5</td>\n",
       "      <td>19</td>\n",
       "      <td>49</td>\n",
       "      <td>10</td>\n",
       "      <td>39</td>\n",
       "      <td>19</td>\n",
       "      <td>3</td>\n",
       "      <td>15</td>\n",
       "      <td>19</td>\n",
       "      <td>...</td>\n",
       "      <td>10</td>\n",
       "      <td>14</td>\n",
       "      <td>2</td>\n",
       "      <td>10</td>\n",
       "      <td>8</td>\n",
       "      <td>2</td>\n",
       "      <td>7</td>\n",
       "      <td>21</td>\n",
       "      <td>4</td>\n",
       "      <td>16</td>\n",
       "    </tr>\n",
       "    <tr>\n",
       "      <th>1</th>\n",
       "      <td>37</td>\n",
       "      <td>7</td>\n",
       "      <td>29</td>\n",
       "      <td>73</td>\n",
       "      <td>15</td>\n",
       "      <td>59</td>\n",
       "      <td>38</td>\n",
       "      <td>7</td>\n",
       "      <td>31</td>\n",
       "      <td>17</td>\n",
       "      <td>...</td>\n",
       "      <td>8</td>\n",
       "      <td>18</td>\n",
       "      <td>4</td>\n",
       "      <td>14</td>\n",
       "      <td>10</td>\n",
       "      <td>2</td>\n",
       "      <td>8</td>\n",
       "      <td>26</td>\n",
       "      <td>6</td>\n",
       "      <td>21</td>\n",
       "    </tr>\n",
       "  </tbody>\n",
       "</table>\n",
       "<p>4 rows × 27 columns</p>\n",
       "</div>"
      ],
      "text/plain": [
       "Study                0                    1                    2               \\\n",
       "Source         0_Train 1_Val 2_Test 0_Train 1_Val 2_Test 0_Train 1_Val 2_Test   \n",
       "Category Value                                                                  \n",
       "Group    0          21     4     17      98    20     79      20     3     16   \n",
       "         1          40     8     31      24     5     19      37     7     30   \n",
       "Sex      0          24     5     19      49    10     39      19     3     15   \n",
       "         1          37     7     29      73    15     59      38     7     31   \n",
       "\n",
       "Study                3  ...      5       6                    7               \\\n",
       "Source         0_Train  ... 2_Test 0_Train 1_Val 2_Test 0_Train 1_Val 2_Test   \n",
       "Category Value          ...                                                    \n",
       "Group    0           4  ...      6      11     2      8      10     2      8   \n",
       "         1          32  ...     12      21     4     16       8     2      7   \n",
       "Sex      0          19  ...     10      14     2     10       8     2      7   \n",
       "         1          17  ...      8      18     4     14      10     2      8   \n",
       "\n",
       "Study                8               \n",
       "Source         0_Train 1_Val 2_Test  \n",
       "Category Value                       \n",
       "Group    0          25     5     19  \n",
       "         1          22     5     18  \n",
       "Sex      0          21     4     16  \n",
       "         1          26     6     21  \n",
       "\n",
       "[4 rows x 27 columns]"
      ]
     },
     "execution_count": 35,
     "metadata": {},
     "output_type": "execute_result"
    }
   ],
   "source": [
    "df_pivot = pd.pivot_table(combined_df, index=['Category', 'Value'], columns=['Study', 'Source'], values='Count', fill_value=0)\n",
    "df_pivot.to_csv('/data/Papers/MICCAI-biases/data/data_split.csv')\n",
    "df_pivot"
   ]
  },
  {
   "cell_type": "code",
   "execution_count": null,
   "id": "59553a556dbdf68e",
   "metadata": {
    "collapsed": false
   },
   "outputs": [],
   "source": []
  }
 ],
 "metadata": {
  "kernelspec": {
   "display_name": "Python 3",
   "language": "python",
   "name": "python3"
  },
  "language_info": {
   "codemirror_mode": {
    "name": "ipython",
    "version": 2
   },
   "file_extension": ".py",
   "mimetype": "text/x-python",
   "name": "python",
   "nbconvert_exporter": "python",
   "pygments_lexer": "ipython2",
   "version": "2.7.6"
  }
 },
 "nbformat": 4,
 "nbformat_minor": 5
}
