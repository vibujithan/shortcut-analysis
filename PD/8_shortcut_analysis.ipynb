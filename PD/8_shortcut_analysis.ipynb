{
 "cells": [
  {
   "cell_type": "code",
   "execution_count": 1,
   "id": "initial_id",
   "metadata": {
    "ExecuteTime": {
     "end_time": "2024-12-14T22:08:40.685649Z",
     "start_time": "2024-12-14T22:08:40.246102Z"
    },
    "collapsed": true
   },
   "outputs": [],
   "source": [
    "import pandas as pd\n",
    "import torch\n",
    "from torch.utils.data import DataLoader\n",
    "\n",
    "from models.macaw import MACAW\n",
    "\n",
    "import sys\n",
    "\n",
    "sys.path.append(\"..\")\n",
    "\n",
    "\n",
    "from utils.datasets import TorchDataset as TD\n",
    "import matplotlib.pyplot as plt\n",
    "import seaborn as sns"
   ]
  },
  {
   "cell_type": "code",
   "execution_count": 2,
   "id": "189a1428486165c3",
   "metadata": {
    "ExecuteTime": {
     "end_time": "2024-12-14T22:08:41.565670Z",
     "start_time": "2024-12-14T22:08:40.686513Z"
    },
    "collapsed": false
   },
   "outputs": [],
   "source": [
    "model_name = \"PD-SFCN-GroupDRO\"\n",
    "mode = \"test\"\n",
    "test_block = \"flat\"\n",
    "nlatents = 64\n",
    "ncauses = 19\n",
    "sex_idx = 9\n",
    "PD_idx = 18\n",
    "\n",
    "checkpoint = torch.load(f\"checkpoints/{model_name}/latest_checkpoint.pt\")\n",
    "weights = checkpoint[\"model_state_dict\"][\"classifier.fc.weight\"].data.cpu().numpy()\n",
    "bias = checkpoint[\"model_state_dict\"][\"classifier.fc.bias\"].data.cpu().numpy()"
   ]
  },
  {
   "cell_type": "code",
   "execution_count": 3,
   "id": "6fe61544d81a122f",
   "metadata": {
    "ExecuteTime": {
     "end_time": "2024-12-14T22:08:41.629181Z",
     "start_time": "2024-12-14T22:08:41.570700Z"
    },
    "collapsed": false
   },
   "outputs": [
    {
     "data": {
      "text/plain": [
       "<All keys matched successfully>"
      ]
     },
     "execution_count": 3,
     "metadata": {},
     "output_type": "execute_result"
    }
   ],
   "source": [
    "model = MACAW(nlatents=nlatents).to(\"cuda\")\n",
    "checkpoint = torch.load(\n",
    "    f\"checkpoints/{model_name}-act-macaw-{test_block}/best_model.pt\"\n",
    ")\n",
    "model.load_state_dict(checkpoint[\"model_state_dict\"])"
   ]
  },
  {
   "cell_type": "code",
   "execution_count": 4,
   "id": "2c67ac7b",
   "metadata": {},
   "outputs": [],
   "source": [
    "ds = TD(f\"/data/Data/PD/{model_name}_activations_{test_block}_{mode}\")\n",
    "data_loader = DataLoader(ds, batch_size=128, shuffle=False)"
   ]
  },
  {
   "cell_type": "code",
   "execution_count": 5,
   "id": "aaadd84cd992cdc3",
   "metadata": {
    "ExecuteTime": {
     "end_time": "2024-12-14T22:08:42.137242Z",
     "start_time": "2024-12-14T22:08:42.134736Z"
    },
    "collapsed": false
   },
   "outputs": [],
   "source": [
    "def BinaryCrossEntropy(y_true, y_pred):\n",
    "    y_pred = np.clip(y_pred, 1e-7, 1 - 1e-7)\n",
    "    term_0 = (1 - y_true) * np.log(1 - y_pred + 1e-7)\n",
    "    term_1 = y_true * np.log(y_pred + 1e-7)\n",
    "    return -np.mean(term_0 + term_1, axis=0)\n",
    "\n",
    "\n",
    "def sigmoid(z):\n",
    "    return 1 / (1 + np.exp(-z))\n",
    "\n",
    "\n",
    "def accuracy(y_true, y_pred, threshold=0.5):\n",
    "    y_pred = y_pred > threshold\n",
    "    return np.mean(y_pred == y_true)\n"
   ]
  },
  {
   "cell_type": "code",
   "execution_count": 6,
   "id": "bda6b1b3",
   "metadata": {},
   "outputs": [],
   "source": [
    "import numpy as np\n",
    "\n",
    "g_dict = {\"Study\": np.arange(9), \"Sex\": [0, 1]}\n",
    "cf_dict = {}\n",
    "\n",
    "\n",
    "temp = {k: 0 for k in range(9)}\n",
    "model.eval()\n",
    "\n",
    "grp_mean = np.zeros((len(ds), nlatents + ncauses))\n",
    "for v in range(9):\n",
    "    obs = []\n",
    "    cfs = []\n",
    "    cf_vals = temp.copy()\n",
    "    cf_vals[v] = 1\n",
    "    for b in data_loader:\n",
    "        x_obs, x_cf = model.counterfactuals(b.to(\"cuda\"), cf_vals=cf_vals)\n",
    "        obs.append(x_obs)\n",
    "        cfs.append(x_cf)\n",
    "\n",
    "    obs = np.vstack(obs)\n",
    "    cf = np.vstack(cfs)\n",
    "    grp_mean += cf\n",
    "\n",
    "    cf_dict[f\"Study_{v}\"] = cf\n",
    "\n",
    "cf_dict[f\"Study_mean\"] = grp_mean / 9\n",
    "\n",
    "grp_mean = np.zeros((len(ds), nlatents + ncauses))\n",
    "for v in [0, 1]:\n",
    "    obs = []\n",
    "    cfs = []\n",
    "    for b in data_loader:\n",
    "        x_obs, x_cf = model.counterfactuals(b.to(\"cuda\"), cf_vals={sex_idx: v})\n",
    "        obs.append(x_obs)\n",
    "        cfs.append(x_cf)\n",
    "\n",
    "    obs = np.vstack(obs)\n",
    "    cf = np.vstack(cfs)\n",
    "    grp_mean += cf\n",
    "\n",
    "    cf_dict[f\"Sex_{v}\"] = cf\n",
    "\n",
    "cf_dict[f\"Sex_mean\"] = grp_mean / 2\n"
   ]
  },
  {
   "cell_type": "code",
   "execution_count": 7,
   "id": "f66f4a5be71af659",
   "metadata": {
    "ExecuteTime": {
     "end_time": "2024-12-14T22:08:45.555816Z",
     "start_time": "2024-12-14T22:08:45.471654Z"
    },
    "collapsed": false
   },
   "outputs": [
    {
     "name": "stdout",
     "output_type": "stream",
     "text": [
      "Obs- AUROC: 0.802403156384505, BCE:0.5493478178977966\n"
     ]
    },
    {
     "data": {
      "text/html": [
       "<div>\n",
       "<style scoped>\n",
       "    .dataframe tbody tr th:only-of-type {\n",
       "        vertical-align: middle;\n",
       "    }\n",
       "\n",
       "    .dataframe tbody tr th {\n",
       "        vertical-align: top;\n",
       "    }\n",
       "\n",
       "    .dataframe thead th {\n",
       "        text-align: right;\n",
       "    }\n",
       "</style>\n",
       "<table border=\"1\" class=\"dataframe\">\n",
       "  <thead>\n",
       "    <tr style=\"text-align: right;\">\n",
       "      <th></th>\n",
       "      <th>pd_true</th>\n",
       "      <th>obs_pred</th>\n",
       "      <th>sex</th>\n",
       "      <th>study</th>\n",
       "      <th>scanner</th>\n",
       "    </tr>\n",
       "  </thead>\n",
       "  <tbody>\n",
       "    <tr>\n",
       "      <th>0</th>\n",
       "      <td>1.0</td>\n",
       "      <td>0.747584</td>\n",
       "      <td>1.0</td>\n",
       "      <td>3</td>\n",
       "      <td>2</td>\n",
       "    </tr>\n",
       "    <tr>\n",
       "      <th>1</th>\n",
       "      <td>0.0</td>\n",
       "      <td>0.220626</td>\n",
       "      <td>1.0</td>\n",
       "      <td>1</td>\n",
       "      <td>1</td>\n",
       "    </tr>\n",
       "    <tr>\n",
       "      <th>2</th>\n",
       "      <td>0.0</td>\n",
       "      <td>0.695722</td>\n",
       "      <td>1.0</td>\n",
       "      <td>0</td>\n",
       "      <td>0</td>\n",
       "    </tr>\n",
       "    <tr>\n",
       "      <th>3</th>\n",
       "      <td>0.0</td>\n",
       "      <td>0.441227</td>\n",
       "      <td>0.0</td>\n",
       "      <td>8</td>\n",
       "      <td>7</td>\n",
       "    </tr>\n",
       "    <tr>\n",
       "      <th>4</th>\n",
       "      <td>0.0</td>\n",
       "      <td>0.610017</td>\n",
       "      <td>1.0</td>\n",
       "      <td>6</td>\n",
       "      <td>5</td>\n",
       "    </tr>\n",
       "    <tr>\n",
       "      <th>...</th>\n",
       "      <td>...</td>\n",
       "      <td>...</td>\n",
       "      <td>...</td>\n",
       "      <td>...</td>\n",
       "      <td>...</td>\n",
       "    </tr>\n",
       "    <tr>\n",
       "      <th>329</th>\n",
       "      <td>1.0</td>\n",
       "      <td>0.840976</td>\n",
       "      <td>1.0</td>\n",
       "      <td>4</td>\n",
       "      <td>3</td>\n",
       "    </tr>\n",
       "    <tr>\n",
       "      <th>330</th>\n",
       "      <td>1.0</td>\n",
       "      <td>0.688228</td>\n",
       "      <td>0.0</td>\n",
       "      <td>5</td>\n",
       "      <td>4</td>\n",
       "    </tr>\n",
       "    <tr>\n",
       "      <th>331</th>\n",
       "      <td>0.0</td>\n",
       "      <td>0.283981</td>\n",
       "      <td>0.0</td>\n",
       "      <td>1</td>\n",
       "      <td>1</td>\n",
       "    </tr>\n",
       "    <tr>\n",
       "      <th>332</th>\n",
       "      <td>1.0</td>\n",
       "      <td>0.623537</td>\n",
       "      <td>1.0</td>\n",
       "      <td>8</td>\n",
       "      <td>7</td>\n",
       "    </tr>\n",
       "    <tr>\n",
       "      <th>333</th>\n",
       "      <td>1.0</td>\n",
       "      <td>0.754260</td>\n",
       "      <td>1.0</td>\n",
       "      <td>5</td>\n",
       "      <td>4</td>\n",
       "    </tr>\n",
       "  </tbody>\n",
       "</table>\n",
       "<p>334 rows × 5 columns</p>\n",
       "</div>"
      ],
      "text/plain": [
       "     pd_true  obs_pred  sex  study  scanner\n",
       "0        1.0  0.747584  1.0      3        2\n",
       "1        0.0  0.220626  1.0      1        1\n",
       "2        0.0  0.695722  1.0      0        0\n",
       "3        0.0  0.441227  0.0      8        7\n",
       "4        0.0  0.610017  1.0      6        5\n",
       "..       ...       ...  ...    ...      ...\n",
       "329      1.0  0.840976  1.0      4        3\n",
       "330      1.0  0.688228  0.0      5        4\n",
       "331      0.0  0.283981  0.0      1        1\n",
       "332      1.0  0.623537  1.0      8        7\n",
       "333      1.0  0.754260  1.0      5        4\n",
       "\n",
       "[334 rows x 5 columns]"
      ]
     },
     "execution_count": 7,
     "metadata": {},
     "output_type": "execute_result"
    }
   ],
   "source": [
    "from sklearn.metrics import roc_curve, auc\n",
    "\n",
    "obs_pred = sigmoid(obs[:, ncauses:] @ weights.T + bias).squeeze()\n",
    "fpr, tpr, thresholds = roc_curve(obs[:, PD_idx], obs_pred)\n",
    "obs_roc_auc = auc(fpr, tpr)\n",
    "obs_bce = BinaryCrossEntropy(obs[:, PD_idx], obs_pred)\n",
    "print(f\"Obs- AUROC: {obs_roc_auc}, BCE:{obs_bce}\")\n",
    "\n",
    "df = pd.DataFrame(\n",
    "    {\n",
    "        \"pd_true\": obs[:, PD_idx],\n",
    "        \"obs_pred\": obs_pred,\n",
    "        \"sex\": obs[:, sex_idx],\n",
    "        \"study\": np.argmax(obs[:, :9], axis=1),\n",
    "        \"scanner\": np.argmax(obs[:, 10:18], axis=1),\n",
    "    }\n",
    ")\n",
    "df"
   ]
  },
  {
   "cell_type": "code",
   "execution_count": 8,
   "id": "6f918fb11d0df136",
   "metadata": {
    "ExecuteTime": {
     "end_time": "2024-12-14T22:08:48.389470Z",
     "start_time": "2024-12-14T22:08:48.381190Z"
    },
    "collapsed": false
   },
   "outputs": [
    {
     "name": "stdout",
     "output_type": "stream",
     "text": [
      "Study- AUROC: 0.6650286944045911, BCE:0.6580887931201886\n",
      "Sex- AUROC: 0.8026901004304161, BCE:0.5497384278889929\n"
     ]
    }
   ],
   "source": [
    "for k, v in g_dict.items():\n",
    "    mean_pred = sigmoid(cf_dict[f\"{k}_mean\"][:, ncauses:] @ weights.T + bias).squeeze()\n",
    "    fpr, tpr, thresholds = roc_curve(obs[:, PD_idx], mean_pred)\n",
    "    obs_roc_auc = auc(fpr, tpr)\n",
    "    obs_bce = BinaryCrossEntropy(obs[:, PD_idx], mean_pred)\n",
    "    print(f\"{k}- AUROC: {obs_roc_auc}, BCE:{obs_bce}\")\n",
    "    df[f\"{k}_pred\"] = mean_pred"
   ]
  },
  {
   "cell_type": "code",
   "execution_count": 9,
   "id": "65b52bde80f125d3",
   "metadata": {
    "ExecuteTime": {
     "end_time": "2024-12-14T22:09:49.625851Z",
     "start_time": "2024-12-14T22:09:49.620021Z"
    },
    "collapsed": false
   },
   "outputs": [],
   "source": [
    "def compute_subgroup_metrics(\n",
    "    df, y_true_col=\"pd_true\", y_prob_col=\"pd_pred\", subgroup_col=\"scanner\"\n",
    "):\n",
    "    unique_scanners = df[subgroup_col].unique()\n",
    "\n",
    "    subgroup_metrics = {}\n",
    "    for subgroup in unique_scanners:\n",
    "        scanner_df = df[df[subgroup_col] == subgroup]\n",
    "        y_true = scanner_df[y_true_col]\n",
    "        y_prob = scanner_df[y_prob_col]\n",
    "\n",
    "        try:\n",
    "            fpr, tpr, thresholds = roc_curve(y_true, y_prob)\n",
    "            roc_auc = auc(fpr, tpr)\n",
    "\n",
    "            subgroup_metrics[subgroup] = {\n",
    "                \"fpr\": fpr,\n",
    "                \"tpr\": tpr,\n",
    "                \"thresholds\": thresholds,\n",
    "                \"auc\": roc_auc,\n",
    "                \"total_samples\": len(scanner_df),\n",
    "            }\n",
    "\n",
    "        except ValueError as e:\n",
    "            print(f\"Error computing ROC for {subgroup_col} {subgroup}: {e}\")\n",
    "\n",
    "    return subgroup_metrics"
   ]
  },
  {
   "cell_type": "code",
   "execution_count": 10,
   "id": "63c9d17145a95729",
   "metadata": {
    "ExecuteTime": {
     "end_time": "2024-12-14T22:10:06.247312Z",
     "start_time": "2024-12-14T22:10:05.236966Z"
    },
    "collapsed": false
   },
   "outputs": [],
   "source": [
    "study_obs_metrics = compute_subgroup_metrics(\n",
    "    df, y_true_col=\"pd_true\", y_prob_col=\"obs_pred\", subgroup_col=\"study\"\n",
    ")\n",
    "\n",
    "sex_obs_metrics = compute_subgroup_metrics(\n",
    "    df, y_true_col=\"pd_true\", y_prob_col=\"obs_pred\", subgroup_col=\"sex\"\n",
    ")\n",
    "\n",
    "study_cf_study_metrics = compute_subgroup_metrics(\n",
    "    df, y_true_col=\"pd_true\", y_prob_col=\"Study_pred\", subgroup_col=\"study\"\n",
    ")\n",
    "\n",
    "sex_cf_sex_metrics = compute_subgroup_metrics(\n",
    "    df, y_true_col=\"pd_true\", y_prob_col=\"Sex_pred\", subgroup_col=\"sex\"\n",
    ")"
   ]
  },
  {
   "cell_type": "code",
   "execution_count": 11,
   "id": "b50fc544a74b583e",
   "metadata": {
    "ExecuteTime": {
     "end_time": "2024-12-14T22:10:09.192037Z",
     "start_time": "2024-12-14T22:10:09.189612Z"
    },
    "collapsed": false
   },
   "outputs": [],
   "source": [
    "cf_study_study_auc = {}\n",
    "\n",
    "for a in study_obs_metrics.keys():\n",
    "    cf_study_study_auc[a] = (\n",
    "        study_cf_study_metrics[a][\"auc\"] - study_obs_metrics[a][\"auc\"]\n",
    "    )\n",
    "\n",
    "cf_sex_sex_auc = {}\n",
    "\n",
    "for a in sex_obs_metrics.keys():\n",
    "    cf_sex_sex_auc[a] = sex_cf_sex_metrics[a][\"auc\"] - sex_obs_metrics[a][\"auc\"]"
   ]
  },
  {
   "cell_type": "code",
   "execution_count": 12,
   "id": "d1c00e956b4771e9",
   "metadata": {
    "ExecuteTime": {
     "end_time": "2024-12-14T22:19:36.606954Z",
     "start_time": "2024-12-14T22:19:36.382854Z"
    },
    "collapsed": false
   },
   "outputs": [
    {
     "data": {
      "image/png": "[encoded data removed]",
      "text/plain": [
       "<Figure size 288x288 with 2 Axes>"
      ]
     },
     "metadata": {
      "needs_background": "light"
     },
     "output_type": "display_data"
    }
   ],
   "source": [
    "fig, ax = plt.subplots(1, 2, figsize=(4, 4), gridspec_kw={\"width_ratios\": [5, 1]})\n",
    "\n",
    "# Create bar plot with custom colors\n",
    "bars = ax[0].bar(cf_study_study_auc.keys(), cf_study_study_auc.values())\n",
    "\n",
    "# Color bars based on positive/negative values\n",
    "for i, value in enumerate(cf_study_study_auc.values()):\n",
    "    if value >= 0:\n",
    "        bars[i].set_color(\"#5B5F97\")\n",
    "    else:\n",
    "        bars[i].set_color(\"#FFC145\")\n",
    "\n",
    "# Customize the plot\n",
    "fig.suptitle(\n",
    "    \"AUROC difference in PD classification after \\n counterfactually removing protected attributes\",\n",
    "    fontsize=11,\n",
    ")\n",
    "ax[0].set(xlabel=\"Site\", ylabel=\"AUROC\")\n",
    "\n",
    "bars = plt.bar(cf_sex_sex_auc.keys(), cf_sex_sex_auc.values())\n",
    "\n",
    "\n",
    "# Color bars based on positive/negative values\n",
    "for i, value in enumerate(cf_sex_sex_auc.values()):\n",
    "    if value >= 0:\n",
    "        bars[i].set_color(\"#5B5F97\")\n",
    "    else:\n",
    "        bars[i].set_color(\"#FFC145\")\n",
    "\n",
    "# Customize the plot\n",
    "ax[1].set(xlabel=\"Sex\", ylim=[-0.08, 0.04], xticks=[0, 1], yticks=[])\n",
    "\n",
    "# Show the plot\n",
    "plt.tight_layout()\n",
    "plt.savefig(f\"/data/Papers/MIDL2025/macaw-analysis/{model_name}_cf_diff.pdf\", dpi=300)\n",
    "plt.show()"
   ]
  },
  {
   "cell_type": "code",
   "execution_count": null,
   "id": "e6d47773",
   "metadata": {},
   "outputs": [],
   "source": []
  }
 ],
 "metadata": {
  "kernelspec": {
   "display_name": "deep",
   "language": "python",
   "name": "python3"
  },
  "language_info": {
   "codemirror_mode": {
    "name": "ipython",
    "version": 3
   },
   "file_extension": ".py",
   "mimetype": "text/x-python",
   "name": "python",
   "nbconvert_exporter": "python",
   "pygments_lexer": "ipython3",
   "version": "3.8.13"
  }
 },
 "nbformat": 4,
 "nbformat_minor": 5
}
