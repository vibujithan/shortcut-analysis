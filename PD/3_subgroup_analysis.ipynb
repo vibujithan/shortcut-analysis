{
 "cells": [
  {
   "cell_type": "code",
   "execution_count": 2,
   "id": "initial_id",
   "metadata": {
    "ExecuteTime": {
     "end_time": "2024-12-12T20:52:37.195616Z",
     "start_time": "2024-12-12T20:52:36.844375Z"
    },
    "collapsed": true
   },
   "outputs": [],
   "source": [
    "import matplotlib.pyplot as plt\n",
    "import numpy as np\n",
    "import seaborn as sns\n",
    "import torch\n",
    "from sklearn.metrics import roc_curve, auc\n",
    "from torch.cuda.amp import autocast\n",
    "from torch.utils.data import DataLoader\n",
    "from tqdm import tqdm\n",
    "\n",
    "from models.sfcn import SFCN\n",
    "\n",
    "import sys\n",
    "\n",
    "sys.path.append(\"..\")\n",
    "from utils.datasets import TorchDataset as TD"
   ]
  },
  {
   "cell_type": "code",
   "execution_count": 3,
   "id": "a1275a0f3af9acfc",
   "metadata": {
    "ExecuteTime": {
     "end_time": "2024-12-12T20:52:37.198288Z",
     "start_time": "2024-12-12T20:52:37.196365Z"
    },
    "collapsed": false
   },
   "outputs": [],
   "source": [
    "mode = \"test\"\n",
    "dataloader = DataLoader(TD(f\"/data/Data/PD/{mode}\"), batch_size=8, shuffle=False)"
   ]
  },
  {
   "cell_type": "code",
   "execution_count": 4,
   "id": "6fe61544d81a122f",
   "metadata": {
    "ExecuteTime": {
     "end_time": "2024-12-12T20:52:38.717609Z",
     "start_time": "2024-12-12T20:52:37.904432Z"
    },
    "collapsed": false
   },
   "outputs": [
    {
     "data": {
      "text/plain": [
       "<All keys matched successfully>"
      ]
     },
     "execution_count": 4,
     "metadata": {},
     "output_type": "execute_result"
    }
   ],
   "source": [
    "model = SFCN(output_dim=1, channel_number=[28, 58, 128, 256, 256, 64]).to(\"cuda\")\n",
    "checkpoint = torch.load(\"checkpoints/PD-SFCN/best_model.pt\")\n",
    "model.load_state_dict(checkpoint[\"model_state_dict\"])"
   ]
  },
  {
   "cell_type": "code",
   "execution_count": 5,
   "id": "6c8a5d48ab5e3b30",
   "metadata": {
    "ExecuteTime": {
     "end_time": "2024-12-12T20:52:43.066364Z",
     "start_time": "2024-12-12T20:52:43.063848Z"
    },
    "collapsed": false
   },
   "outputs": [],
   "source": [
    "def sigmoid(z):\n",
    "    return 1 / (1 + np.exp(-z))\n",
    "\n",
    "\n",
    "def accuracy(y_true, y_pred, threshold=0.5):\n",
    "    y_pred = y_pred > threshold\n",
    "    return np.mean(y_pred == y_true)"
   ]
  },
  {
   "cell_type": "code",
   "execution_count": 6,
   "id": "4d7f288cf27516b",
   "metadata": {
    "ExecuteTime": {
     "end_time": "2024-12-12T20:52:43.499303Z",
     "start_time": "2024-12-12T20:52:43.495410Z"
    },
    "collapsed": false
   },
   "outputs": [],
   "source": [
    "@torch.no_grad()\n",
    "def test(model, dataloader, device=\"cuda\"):\n",
    "    model.eval()\n",
    "\n",
    "    pd_true = []\n",
    "    pd_pred = []\n",
    "    study = []\n",
    "    sex = []\n",
    "    scanner = []\n",
    "    for batch in tqdm(dataloader, desc=\"Test\"):\n",
    "        x = batch[0].to(device)\n",
    "        pd_true += batch[1].tolist()\n",
    "        sex += batch[2].tolist()\n",
    "        study += batch[3].tolist()\n",
    "        scanner += batch[4].tolist()\n",
    "\n",
    "        # Forward pass with mixed precision\n",
    "        with autocast():\n",
    "            pd_pred += model(x).detach().cpu().tolist()\n",
    "\n",
    "    return pd_true, pd_pred, sex, study, scanner"
   ]
  },
  {
   "cell_type": "code",
   "execution_count": 7,
   "id": "9e79692b2184bb20",
   "metadata": {
    "ExecuteTime": {
     "end_time": "2024-12-12T20:52:51.013842Z",
     "start_time": "2024-12-12T20:52:44.336682Z"
    },
    "collapsed": false
   },
   "outputs": [
    {
     "name": "stderr",
     "output_type": "stream",
     "text": [
      "Test: 100%|██████████| 42/42 [00:09<00:00,  4.53it/s]\n"
     ]
    }
   ],
   "source": [
    "pd_true, pd_pred, sex, study, scanner = test(model, dataloader)"
   ]
  },
  {
   "cell_type": "code",
   "execution_count": 8,
   "id": "d01087ccefaed4b0",
   "metadata": {
    "ExecuteTime": {
     "end_time": "2024-12-12T20:52:51.993060Z",
     "start_time": "2024-12-12T20:52:51.989750Z"
    },
    "collapsed": false
   },
   "outputs": [],
   "source": [
    "pd_pred = sigmoid(np.array(pd_pred).flatten())\n",
    "pd_true = np.array(pd_true).flatten()\n",
    "acc = accuracy(pd_true, pd_pred)"
   ]
  },
  {
   "cell_type": "code",
   "execution_count": 10,
   "id": "868706e55a0716f9",
   "metadata": {
    "ExecuteTime": {
     "end_time": "2024-12-12T20:52:52.949855Z",
     "start_time": "2024-12-12T20:52:52.658121Z"
    },
    "collapsed": false
   },
   "outputs": [
    {
     "data": {
      "image/png": "[encoded data removed]",
      "text/plain": [
       "<Figure size 432x288 with 1 Axes>"
      ]
     },
     "metadata": {
      "needs_background": "light"
     },
     "output_type": "display_data"
    }
   ],
   "source": [
    "fpr, tpr, thresholds = roc_curve(pd_true, pd_pred)\n",
    "roc_auc = auc(fpr, tpr)\n",
    "\n",
    "plt.plot(fpr, tpr, label=f\"Overall ROC curve (area = {roc_auc})\")\n",
    "plt.xlim([0.0, 1.0])\n",
    "plt.ylim([0.0, 1.05])\n",
    "plt.xlabel(\"False Positive Rate\", fontsize=12)\n",
    "plt.ylabel(\"True Positive Rate\", fontsize=12)\n",
    "plt.title(\n",
    "    f\"Overall ROC Curve (area = {round(roc_auc, 2)}, accuracy = {round(acc, 3)})\",\n",
    "    fontsize=14,\n",
    ")\n",
    "plt.savefig(f\"/data/Papers/MIDL2025/subgroup-analysis/overall.pdf\", dpi=300)"
   ]
  },
  {
   "cell_type": "code",
   "execution_count": 11,
   "id": "b5159e65f960dda6",
   "metadata": {
    "ExecuteTime": {
     "end_time": "2024-12-12T20:52:59.020546Z",
     "start_time": "2024-12-12T20:52:59.010405Z"
    },
    "collapsed": false
   },
   "outputs": [],
   "source": [
    "import pandas as pd\n",
    "\n",
    "df = pd.DataFrame(\n",
    "    {\n",
    "        \"pd_true\": pd_true,\n",
    "        \"pd_pred\": pd_pred,\n",
    "        \"Sex\": sex,\n",
    "        \"Site\": study,\n",
    "        \"scanner\": scanner,\n",
    "    }\n",
    ")"
   ]
  },
  {
   "cell_type": "code",
   "execution_count": 12,
   "id": "1e6f75b2edd0737b",
   "metadata": {
    "ExecuteTime": {
     "end_time": "2024-12-12T20:53:08.479649Z",
     "start_time": "2024-12-12T20:53:08.466044Z"
    },
    "collapsed": false
   },
   "outputs": [],
   "source": [
    "def compute_subgroup_rocs(\n",
    "    df, y_true_col=\"pd_true\", y_prob_col=\"pd_pred\", subgroup_col=\"scanner\"\n",
    "):\n",
    "    unique_scanners = df[subgroup_col].unique()\n",
    "\n",
    "    metrics = {}\n",
    "    for scanner in unique_scanners:\n",
    "        scanner_df = df[df[subgroup_col] == scanner]\n",
    "        y_true = scanner_df[y_true_col]\n",
    "        y_prob = scanner_df[y_prob_col]\n",
    "\n",
    "        try:\n",
    "            fpr, tpr, thresholds = roc_curve(y_true, y_prob)\n",
    "            roc_auc = auc(fpr, tpr)\n",
    "\n",
    "            metrics[scanner] = {\n",
    "                \"fpr\": fpr,\n",
    "                \"tpr\": tpr,\n",
    "                \"thresholds\": thresholds,\n",
    "                \"auc\": roc_auc,\n",
    "                \"total_samples\": len(scanner_df),\n",
    "            }\n",
    "\n",
    "        except ValueError as e:\n",
    "            print(f\"Error computing ROC for {subgroup_col} {scanner}: {e}\")\n",
    "\n",
    "    return metrics"
   ]
  },
  {
   "cell_type": "code",
   "execution_count": 15,
   "id": "35b2c9c4445ac9a",
   "metadata": {
    "ExecuteTime": {
     "end_time": "2024-12-12T20:57:36.275691Z",
     "start_time": "2024-12-12T20:57:35.366046Z"
    },
    "collapsed": false
   },
   "outputs": [],
   "source": [
    "site_metrics = compute_subgroup_rocs(df, subgroup_col=\"Site\")\n",
    "site_rocs = [site_metrics[i][\"auc\"] for i in range(len(site_metrics))]\n",
    "\n",
    "sex_metrics = compute_subgroup_rocs(df, subgroup_col=\"Sex\")\n",
    "sex_rocs = [sex_metrics[0][\"auc\"], sex_metrics[1][\"auc\"]]"
   ]
  },
  {
   "cell_type": "code",
   "execution_count": 17,
   "id": "821f44f1",
   "metadata": {},
   "outputs": [
    {
     "data": {
      "image/png": "[encoded data removed]",
      "text/plain": [
       "<Figure size 360x288 with 2 Axes>"
      ]
     },
     "metadata": {
      "needs_background": "light"
     },
     "output_type": "display_data"
    }
   ],
   "source": [
    "fig, ax = plt.subplots(1, 2, figsize=(5, 4), gridspec_kw={\"width_ratios\": [6, 1]})\n",
    "sns.barplot(x=np.arange(9), y=site_rocs, ax=ax[0], color=\"skyblue\")\n",
    "ax[0].set(xlabel=\"Site\", ylabel=\"AUROC\")\n",
    "ax[0].axhline(0.5, color=\"red\", linestyle=\"--\", label=\"Chance level\")\n",
    "\n",
    "sns.barplot(x=[\"F\", \"M\"], y=sex_rocs, ax=ax[1], color=\"plum\")\n",
    "ax[1].set(xlabel=\"Sex\")\n",
    "ax[1].axhline(0.5, color=\"red\", linestyle=\"--\", label=\"Chance level\")\n",
    "\n",
    "fig.suptitle(\"PD classification AUROCs by subgroups\")\n",
    "\n",
    "plt.savefig(f\"/data/Papers/MIDL2025/subgroup-analysis/subgroups.pdf\", dpi=300)\n"
   ]
  }
 ],
 "metadata": {
  "kernelspec": {
   "display_name": "deep",
   "language": "python",
   "name": "python3"
  },
  "language_info": {
   "codemirror_mode": {
    "name": "ipython",
    "version": 3
   },
   "file_extension": ".py",
   "mimetype": "text/x-python",
   "name": "python",
   "nbconvert_exporter": "python",
   "pygments_lexer": "ipython3",
   "version": "3.8.13"
  }
 },
 "nbformat": 4,
 "nbformat_minor": 5
}
