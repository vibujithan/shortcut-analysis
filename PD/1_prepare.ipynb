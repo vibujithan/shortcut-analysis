{
 "cells": [
  {
   "cell_type": "code",
   "execution_count": 1,
   "id": "initial_id",
   "metadata": {
    "ExecuteTime": {
     "end_time": "2024-12-12T17:06:28.226847Z",
     "start_time": "2024-12-12T17:06:28.219622Z"
    },
    "collapsed": true
   },
   "outputs": [],
   "source": [
    "import pandas as pd\n",
    "import numpy as np\n",
    "import sys\n",
    "\n",
    "sys.path.append(\"..\")"
   ]
  },
  {
   "cell_type": "code",
   "execution_count": 2,
   "id": "b759821c",
   "metadata": {},
   "outputs": [
    {
     "data": {
      "text/plain": [
       "UKBB              245\n",
       "PD_MCI_CALGARY    121\n",
       "HAMBURG           113\n",
       "BIOCOG             94\n",
       "SALD               78\n",
       "C-BIG              76\n",
       "PD_MCI_PLS         62\n",
       "Japan_dataset      45\n",
       "Neurocon           42\n",
       "Taowu              37\n",
       "Name: Site, dtype: int64"
      ]
     },
     "execution_count": 2,
     "metadata": {},
     "output_type": "execute_result"
    }
   ],
   "source": [
    "df = pd.read_csv(\"/data/Data/PD/all_df_2.csv\")\n",
    "df = df.rename(columns={\"Scanner_type\": \"Type\"})\n",
    "df = df.rename(columns={\"Study\": \"Site\"})\n",
    "df[\"Site\"].value_counts()"
   ]
  },
  {
   "cell_type": "code",
   "execution_count": 3,
   "id": "7791d50ea9971991",
   "metadata": {
    "ExecuteTime": {
     "end_time": "2024-12-12T17:06:29.050240Z",
     "start_time": "2024-12-12T17:06:29.048074Z"
    },
    "collapsed": false
   },
   "outputs": [],
   "source": [
    "def drop_study(df, sites):\n",
    "    mask = ~df[\"Site\"].str.contains(\"|\".join(sites), case=True, na=False)\n",
    "    df = df[mask]\n",
    "    df.reset_index(drop=True, inplace=True)\n",
    "    return df\n",
    "\n",
    "\n",
    "df = drop_study(df, [\"PPMI\", \"HMC\", \"JGH\", \"RUH\", \"SBK\", \"MUC\", \"SALD\"])"
   ]
  },
  {
   "cell_type": "code",
   "execution_count": 4,
   "id": "8ffa43c5",
   "metadata": {},
   "outputs": [
    {
     "name": "stdout",
     "output_type": "stream",
     "text": [
      "{'GE Discovery 750': 0, 'Siemens Skyra': 1, 'Siemens Prisma_fit': 2, 'Siemens Avanto': 3, 'Siemens Verio': 4, 'Siemens Trio Tim': 5, 'Siemens Trio': 6, 'Siemens Sonata': 7}\n",
      "{'PD_MCI_CALGARY': 0, 'UKBB': 1, 'HAMBURG': 2, 'C-BIG': 3, 'Neurocon': 4, 'Japan_dataset': 5, 'PD_MCI_PLS': 6, 'Taowu': 7, 'BIOCOG': 8}\n"
     ]
    }
   ],
   "source": [
    "def categorize(df, col):\n",
    "    type_unique = df[col].unique()\n",
    "    type_categories = {k: v for k, v in zip(type_unique, np.arange(len(type_unique)))}\n",
    "    print(type_categories)\n",
    "    df[col] = df[col].map(type_categories)\n",
    "    return df, type_categories\n",
    "\n",
    "\n",
    "def binarize(df, col, val):\n",
    "    df[col] = (df[col] == val).astype(\"int\")\n",
    "    return df\n",
    "\n",
    "\n",
    "df, scanner_dict = categorize(df, \"Type\")\n",
    "df, study_dict = categorize(df, \"Site\")\n",
    "df = binarize(df, \"Group\", \"PD\")"
   ]
  },
  {
   "cell_type": "code",
   "execution_count": 5,
   "id": "a4904c97",
   "metadata": {},
   "outputs": [
    {
     "data": {
      "image/png": "[encoded data removed]",
      "text/plain": [
       "<Figure size 504x216 with 2 Axes>"
      ]
     },
     "metadata": {
      "needs_background": "light"
     },
     "output_type": "display_data"
    }
   ],
   "source": [
    "from utils.visualize import view_by_site_sex\n",
    "\n",
    "view_by_site_sex(df, [\"Site\", \"Sex\"]).savefig(\n",
    "    f\"/data/Papers/MIDL2025/data/sex_study_dist.pdf\"\n",
    ")\n",
    "\n",
    "df = binarize(df, \"Sex\", \"M\")"
   ]
  },
  {
   "cell_type": "code",
   "execution_count": 6,
   "id": "eb774e807d195bf9",
   "metadata": {
    "ExecuteTime": {
     "end_time": "2024-12-12T17:07:20.545861Z",
     "start_time": "2024-12-12T17:07:20.539382Z"
    },
    "collapsed": false
   },
   "outputs": [
    {
     "name": "stdout",
     "output_type": "stream",
     "text": [
      "[0.14491017964071856, 0.2934131736526946, 0.13532934131736526, 0.09101796407185629, 0.05029940119760479, 0.05389221556886228, 0.07425149700598803, 0.04431137724550898, 0.1125748502994012]\n",
      "[0.4227544910179641, 0.577245508982036]\n"
     ]
    }
   ],
   "source": [
    "def calculate_percentages(df, col):\n",
    "    grouped_df = df.groupby(col)[col].value_counts()\n",
    "    percentages = (grouped_df / grouped_df.sum()).to_list()\n",
    "    return percentages\n",
    "\n",
    "\n",
    "print(calculate_percentages(df, \"Site\"))\n",
    "print(calculate_percentages(df, \"Sex\"))"
   ]
  },
  {
   "cell_type": "code",
   "execution_count": 7,
   "id": "ff51ba19",
   "metadata": {},
   "outputs": [
    {
     "name": "stdout",
     "output_type": "stream",
     "text": [
      "Index(['3_1_0'], dtype='object')\n"
     ]
    }
   ],
   "source": [
    "df[\"strat_column\"] = (\n",
    "    df[\"Site\"].astype(\"str\")\n",
    "    + \"_\"\n",
    "    + df[\"Sex\"].astype(\"str\")\n",
    "    + \"_\"\n",
    "    + df[\"Group\"].astype(\"str\")\n",
    ")\n",
    "strata_counts = df[\"strat_column\"].value_counts()\n",
    "strata_to_drop = strata_counts[strata_counts < 3].index\n",
    "print(strata_to_drop)\n",
    "df = df[~df[\"strat_column\"].isin(strata_to_drop)]"
   ]
  },
  {
   "cell_type": "code",
   "execution_count": 8,
   "id": "6c84e9ff3da2af5c",
   "metadata": {
    "ExecuteTime": {
     "end_time": "2024-12-12T17:09:59.910679Z",
     "start_time": "2024-12-12T17:09:59.878623Z"
    },
    "collapsed": false
   },
   "outputs": [],
   "source": [
    "from sklearn.model_selection import train_test_split\n",
    "\n",
    "\n",
    "def stratified_data_split(\n",
    "    df, target_column, train_size=0.5, val_size=0.1, test_size=0.4, random_state=42\n",
    "):\n",
    "    train_val, test = train_test_split(\n",
    "        df, test_size=test_size, stratify=df[target_column], random_state=random_state\n",
    "    )\n",
    "    train, val = train_test_split(\n",
    "        train_val,\n",
    "        test_size=val_size / (train_size + val_size),\n",
    "        stratify=train_val[target_column],\n",
    "        random_state=random_state,\n",
    "    )\n",
    "    return train, val, test\n",
    "\n",
    "\n",
    "train, val, test = stratified_data_split(df, \"strat_column\")"
   ]
  },
  {
   "cell_type": "code",
   "execution_count": 10,
   "id": "31b1f7b74da6f695",
   "metadata": {
    "ExecuteTime": {
     "end_time": "2024-12-12T17:10:24.453965Z",
     "start_time": "2024-12-12T17:10:24.449773Z"
    },
    "collapsed": false
   },
   "outputs": [
    {
     "data": {
      "image/png": "[encoded data removed]",
      "text/plain": [
       "<Figure size 864x432 with 1 Axes>"
      ]
     },
     "metadata": {
      "needs_background": "light"
     },
     "output_type": "display_data"
    }
   ],
   "source": [
    "from utils.visualize import split_plot\n",
    "\n",
    "split_plot(train, test, val, \"Site\").savefig(\n",
    "    f\"/data/Papers/MIDL2025/data/data_split_site.pdf\"\n",
    ")"
   ]
  },
  {
   "cell_type": "code",
   "execution_count": 11,
   "id": "4d4c45cfedf252e7",
   "metadata": {
    "ExecuteTime": {
     "end_time": "2024-12-12T17:12:06.051857Z",
     "start_time": "2024-12-12T17:12:06.044098Z"
    },
    "collapsed": false
   },
   "outputs": [],
   "source": [
    "train.to_csv(\"/data/Data/PD/train.csv\", index=False)\n",
    "test.to_csv(\"/data/Data/PD/test.csv\", index=False)\n",
    "val.to_csv(\"/data/Data/PD/val.csv\", index=False)"
   ]
  },
  {
   "cell_type": "code",
   "execution_count": 15,
   "id": "d83a3521d232ea01",
   "metadata": {
    "ExecuteTime": {
     "end_time": "2024-12-12T17:10:31.688027Z",
     "start_time": "2024-12-12T17:10:31.672814Z"
    },
    "collapsed": false
   },
   "outputs": [],
   "source": [
    "def generate_summary_df(df, name):\n",
    "    \"\"\"Generates a DataFrame summarizing the counts of 'Sex' and 'Group' within each 'Study' in a DataFrame.\n",
    "\n",
    "    Args:\n",
    "      df: The DataFrame to summarize.\n",
    "      name: The name of the DataFrame (e.g., 'train', 'test', 'validation').\n",
    "\n",
    "    Returns:\n",
    "      A DataFrame with columns 'Study', 'Sex', 'Count', and 'Group', 'Count'.\n",
    "    \"\"\"\n",
    "\n",
    "    summary_list = []\n",
    "    for study, group in df.groupby(\"Site\"):\n",
    "        for sex, count in group[\"Sex\"].value_counts().items():\n",
    "            summary_list.append([study, \"Sex\", sex, count])\n",
    "        for group_val, count in group[\"Group\"].value_counts().items():\n",
    "            summary_list.append([study, \"Group\", group_val, count])\n",
    "\n",
    "    summary_df = pd.DataFrame(\n",
    "        summary_list, columns=[\"Site\", \"Category\", \"Value\", \"Count\"]\n",
    "    )\n",
    "    return summary_df\n",
    "\n",
    "\n",
    "# Generate summary DataFrames for each dataset\n",
    "train_summary_df = generate_summary_df(train, \"Train\")\n",
    "test_summary_df = generate_summary_df(test, \"Test\")\n",
    "val_summary_df = generate_summary_df(val, \"Validation\")"
   ]
  },
  {
   "cell_type": "code",
   "execution_count": 17,
   "id": "69a0e2013a9790d3",
   "metadata": {
    "ExecuteTime": {
     "end_time": "2024-12-12T17:10:34.320557Z",
     "start_time": "2024-12-12T17:10:34.313129Z"
    },
    "collapsed": false
   },
   "outputs": [],
   "source": [
    "# Add a 'Source' column to each DataFrame\n",
    "train_summary_df[\"Source\"] = \"0_Train\"\n",
    "test_summary_df[\"Source\"] = \"2_Test\"\n",
    "val_summary_df[\"Source\"] = \"1_Val\"\n",
    "\n",
    "# Concatenate the DataFrames\n",
    "combined_df = pd.concat(\n",
    "    [train_summary_df, test_summary_df, val_summary_df], ignore_index=True\n",
    ")"
   ]
  },
  {
   "cell_type": "code",
   "execution_count": 19,
   "id": "da3301899fc225f7",
   "metadata": {
    "ExecuteTime": {
     "end_time": "2024-12-12T17:10:39.843954Z",
     "start_time": "2024-12-12T17:10:39.826090Z"
    },
    "collapsed": false
   },
   "outputs": [
    {
     "data": {
      "text/html": [
       "<div>\n",
       "<style scoped>\n",
       "    .dataframe tbody tr th:only-of-type {\n",
       "        vertical-align: middle;\n",
       "    }\n",
       "\n",
       "    .dataframe tbody tr th {\n",
       "        vertical-align: top;\n",
       "    }\n",
       "\n",
       "    .dataframe thead tr th {\n",
       "        text-align: left;\n",
       "    }\n",
       "\n",
       "    .dataframe thead tr:last-of-type th {\n",
       "        text-align: right;\n",
       "    }\n",
       "</style>\n",
       "<table border=\"1\" class=\"dataframe\">\n",
       "  <thead>\n",
       "    <tr>\n",
       "      <th></th>\n",
       "      <th>Site</th>\n",
       "      <th colspan=\"3\" halign=\"left\">0</th>\n",
       "      <th colspan=\"3\" halign=\"left\">1</th>\n",
       "      <th colspan=\"3\" halign=\"left\">2</th>\n",
       "      <th>3</th>\n",
       "      <th>...</th>\n",
       "      <th>5</th>\n",
       "      <th colspan=\"3\" halign=\"left\">6</th>\n",
       "      <th colspan=\"3\" halign=\"left\">7</th>\n",
       "      <th colspan=\"3\" halign=\"left\">8</th>\n",
       "    </tr>\n",
       "    <tr>\n",
       "      <th></th>\n",
       "      <th>Source</th>\n",
       "      <th>0_Train</th>\n",
       "      <th>1_Val</th>\n",
       "      <th>2_Test</th>\n",
       "      <th>0_Train</th>\n",
       "      <th>1_Val</th>\n",
       "      <th>2_Test</th>\n",
       "      <th>0_Train</th>\n",
       "      <th>1_Val</th>\n",
       "      <th>2_Test</th>\n",
       "      <th>0_Train</th>\n",
       "      <th>...</th>\n",
       "      <th>2_Test</th>\n",
       "      <th>0_Train</th>\n",
       "      <th>1_Val</th>\n",
       "      <th>2_Test</th>\n",
       "      <th>0_Train</th>\n",
       "      <th>1_Val</th>\n",
       "      <th>2_Test</th>\n",
       "      <th>0_Train</th>\n",
       "      <th>1_Val</th>\n",
       "      <th>2_Test</th>\n",
       "    </tr>\n",
       "    <tr>\n",
       "      <th>Category</th>\n",
       "      <th>Value</th>\n",
       "      <th></th>\n",
       "      <th></th>\n",
       "      <th></th>\n",
       "      <th></th>\n",
       "      <th></th>\n",
       "      <th></th>\n",
       "      <th></th>\n",
       "      <th></th>\n",
       "      <th></th>\n",
       "      <th></th>\n",
       "      <th></th>\n",
       "      <th></th>\n",
       "      <th></th>\n",
       "      <th></th>\n",
       "      <th></th>\n",
       "      <th></th>\n",
       "      <th></th>\n",
       "      <th></th>\n",
       "      <th></th>\n",
       "      <th></th>\n",
       "      <th></th>\n",
       "    </tr>\n",
       "  </thead>\n",
       "  <tbody>\n",
       "    <tr>\n",
       "      <th rowspan=\"2\" valign=\"top\">Group</th>\n",
       "      <th>0</th>\n",
       "      <td>21</td>\n",
       "      <td>4</td>\n",
       "      <td>17</td>\n",
       "      <td>98</td>\n",
       "      <td>20</td>\n",
       "      <td>79</td>\n",
       "      <td>20</td>\n",
       "      <td>3</td>\n",
       "      <td>16</td>\n",
       "      <td>4</td>\n",
       "      <td>...</td>\n",
       "      <td>6</td>\n",
       "      <td>11</td>\n",
       "      <td>2</td>\n",
       "      <td>8</td>\n",
       "      <td>10</td>\n",
       "      <td>2</td>\n",
       "      <td>8</td>\n",
       "      <td>25</td>\n",
       "      <td>5</td>\n",
       "      <td>19</td>\n",
       "    </tr>\n",
       "    <tr>\n",
       "      <th>1</th>\n",
       "      <td>40</td>\n",
       "      <td>8</td>\n",
       "      <td>31</td>\n",
       "      <td>24</td>\n",
       "      <td>5</td>\n",
       "      <td>19</td>\n",
       "      <td>37</td>\n",
       "      <td>7</td>\n",
       "      <td>30</td>\n",
       "      <td>32</td>\n",
       "      <td>...</td>\n",
       "      <td>12</td>\n",
       "      <td>21</td>\n",
       "      <td>4</td>\n",
       "      <td>16</td>\n",
       "      <td>8</td>\n",
       "      <td>2</td>\n",
       "      <td>7</td>\n",
       "      <td>22</td>\n",
       "      <td>5</td>\n",
       "      <td>18</td>\n",
       "    </tr>\n",
       "    <tr>\n",
       "      <th rowspan=\"2\" valign=\"top\">Sex</th>\n",
       "      <th>0</th>\n",
       "      <td>24</td>\n",
       "      <td>5</td>\n",
       "      <td>19</td>\n",
       "      <td>49</td>\n",
       "      <td>10</td>\n",
       "      <td>39</td>\n",
       "      <td>19</td>\n",
       "      <td>3</td>\n",
       "      <td>15</td>\n",
       "      <td>19</td>\n",
       "      <td>...</td>\n",
       "      <td>10</td>\n",
       "      <td>14</td>\n",
       "      <td>2</td>\n",
       "      <td>10</td>\n",
       "      <td>8</td>\n",
       "      <td>2</td>\n",
       "      <td>7</td>\n",
       "      <td>21</td>\n",
       "      <td>4</td>\n",
       "      <td>16</td>\n",
       "    </tr>\n",
       "    <tr>\n",
       "      <th>1</th>\n",
       "      <td>37</td>\n",
       "      <td>7</td>\n",
       "      <td>29</td>\n",
       "      <td>73</td>\n",
       "      <td>15</td>\n",
       "      <td>59</td>\n",
       "      <td>38</td>\n",
       "      <td>7</td>\n",
       "      <td>31</td>\n",
       "      <td>17</td>\n",
       "      <td>...</td>\n",
       "      <td>8</td>\n",
       "      <td>18</td>\n",
       "      <td>4</td>\n",
       "      <td>14</td>\n",
       "      <td>10</td>\n",
       "      <td>2</td>\n",
       "      <td>8</td>\n",
       "      <td>26</td>\n",
       "      <td>6</td>\n",
       "      <td>21</td>\n",
       "    </tr>\n",
       "  </tbody>\n",
       "</table>\n",
       "<p>4 rows × 27 columns</p>\n",
       "</div>"
      ],
      "text/plain": [
       "Site                 0                    1                    2               \\\n",
       "Source         0_Train 1_Val 2_Test 0_Train 1_Val 2_Test 0_Train 1_Val 2_Test   \n",
       "Category Value                                                                  \n",
       "Group    0          21     4     17      98    20     79      20     3     16   \n",
       "         1          40     8     31      24     5     19      37     7     30   \n",
       "Sex      0          24     5     19      49    10     39      19     3     15   \n",
       "         1          37     7     29      73    15     59      38     7     31   \n",
       "\n",
       "Site                 3  ...      5       6                    7               \\\n",
       "Source         0_Train  ... 2_Test 0_Train 1_Val 2_Test 0_Train 1_Val 2_Test   \n",
       "Category Value          ...                                                    \n",
       "Group    0           4  ...      6      11     2      8      10     2      8   \n",
       "         1          32  ...     12      21     4     16       8     2      7   \n",
       "Sex      0          19  ...     10      14     2     10       8     2      7   \n",
       "         1          17  ...      8      18     4     14      10     2      8   \n",
       "\n",
       "Site                 8               \n",
       "Source         0_Train 1_Val 2_Test  \n",
       "Category Value                       \n",
       "Group    0          25     5     19  \n",
       "         1          22     5     18  \n",
       "Sex      0          21     4     16  \n",
       "         1          26     6     21  \n",
       "\n",
       "[4 rows x 27 columns]"
      ]
     },
     "execution_count": 19,
     "metadata": {},
     "output_type": "execute_result"
    }
   ],
   "source": [
    "df_pivot = pd.pivot_table(\n",
    "    combined_df,\n",
    "    index=[\"Category\", \"Value\"],\n",
    "    columns=[\"Site\", \"Source\"],\n",
    "    values=\"Count\",\n",
    "    fill_value=0,\n",
    ")\n",
    "df_pivot.to_csv(\"/data/Papers/MIDL2025/data/data_split.csv\")\n",
    "df_pivot"
   ]
  },
  {
   "cell_type": "code",
   "execution_count": null,
   "id": "58df93cb",
   "metadata": {},
   "outputs": [
    {
     "data": {
      "application/vnd.jupyter.widget-view+json": {
       "model_id": "bd8032536d2b4b349ddbe5d729eb2162",
       "version_major": 2,
       "version_minor": 0
      },
      "text/plain": [
       "  0%|          | 0/416 [00:00<?, ?it/s]"
      ]
     },
     "metadata": {},
     "output_type": "display_data"
    },
    {
     "data": {
      "application/vnd.jupyter.widget-view+json": {
       "model_id": "b593d70c52f74712af9022f6e94533a0",
       "version_major": 2,
       "version_minor": 0
      },
      "text/plain": [
       "  0%|          | 0/84 [00:00<?, ?it/s]"
      ]
     },
     "metadata": {},
     "output_type": "display_data"
    },
    {
     "data": {
      "application/vnd.jupyter.widget-view+json": {
       "model_id": "5ebbcbef06c24436ac4f1ff967e77e97",
       "version_major": 2,
       "version_minor": 0
      },
      "text/plain": [
       "  0%|          | 0/334 [00:00<?, ?it/s]"
      ]
     },
     "metadata": {},
     "output_type": "display_data"
    }
   ],
   "source": [
    "import os\n",
    "\n",
    "import nibabel as nib\n",
    "import torch\n",
    "from tqdm.auto import tqdm\n",
    "\n",
    "\n",
    "def prepare(csv_path, img_dir, save_dir):\n",
    "    os.makedirs(save_dir, exist_ok=True)\n",
    "    df = pd.read_csv(csv_path, low_memory=True)\n",
    "\n",
    "    for i in tqdm(range(len(df))):\n",
    "        file_name = str(df.iloc[i][\"Subject\"]) + \".nii.gz\"\n",
    "        img_name = os.path.join(img_dir, os.path.basename(file_name))\n",
    "        img = nib.load(img_name).get_fdata().astype(\"f4\")\n",
    "\n",
    "        PD = torch.tensor(df.iloc[i][\"Group\"])\n",
    "        sex = torch.tensor(df.iloc[i][\"Sex\"])\n",
    "        study = torch.tensor(df.iloc[i][\"Site\"])\n",
    "        scanner_type = torch.tensor(df.iloc[i][\"Type\"])\n",
    "\n",
    "        img = torch.tensor(np.expand_dims(img, 0))\n",
    "        torch.save((img, PD, sex, study, scanner_type), os.path.join(save_dir, f\"{i}\"))\n",
    "\n",
    "\n",
    "img_dir = \"/data/Data/PD/images\"\n",
    "\n",
    "prepare(\"/data/Data/PD/train.csv\", img_dir, \"/data/Data/PD/train\")\n",
    "prepare(\"/data/Data/PD/val.csv\", img_dir, \"/data/Data/PD/val\")\n",
    "prepare(\"/data/Data/PD/test.csv\", img_dir, \"/data/Data/PD/test\")"
   ]
  },
  {
   "cell_type": "code",
   "execution_count": null,
   "id": "74c56957",
   "metadata": {},
   "outputs": [],
   "source": []
  }
 ],
 "metadata": {
  "kernelspec": {
   "display_name": "deep",
   "language": "python",
   "name": "python3"
  },
  "language_info": {
   "codemirror_mode": {
    "name": "ipython",
    "version": 3
   },
   "file_extension": ".py",
   "mimetype": "text/x-python",
   "name": "python",
   "nbconvert_exporter": "python",
   "pygments_lexer": "ipython3",
   "version": "3.8.13"
  }
 },
 "nbformat": 4,
 "nbformat_minor": 5
}
