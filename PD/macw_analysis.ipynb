{
 "cells": [
  {
   "cell_type": "code",
   "execution_count": 35,
   "id": "initial_id",
   "metadata": {
    "ExecuteTime": {
     "end_time": "2024-12-14T22:08:40.685649Z",
     "start_time": "2024-12-14T22:08:40.246102Z"
    },
    "collapsed": true
   },
   "outputs": [],
   "source": [
    "import pandas as pd\n",
    "import torch\n",
    "from torch.utils.data import DataLoader\n",
    "\n",
    "from models.macaw import MACAW\n",
    "\n",
    "import sys\n",
    "\n",
    "sys.path.append(\"..\")\n",
    "\n",
    "\n",
    "from utils.datasets import TorchDataset as TD\n",
    "import matplotlib.pyplot as plt\n",
    "import seaborn as sns"
   ]
  },
  {
   "cell_type": "code",
   "execution_count": 36,
   "id": "189a1428486165c3",
   "metadata": {
    "ExecuteTime": {
     "end_time": "2024-12-14T22:08:41.565670Z",
     "start_time": "2024-12-14T22:08:40.686513Z"
    },
    "collapsed": false
   },
   "outputs": [],
   "source": [
    "mode = \"test\"\n",
    "test_block = \"flat\"\n",
    "nlatents = 64\n",
    "ncauses = 19\n",
    "sex_idx = 9\n",
    "PD_idx = 18\n",
    "\n",
    "checkpoint = torch.load(\"checkpoints/PD-SFCN/best_model.pt\")\n",
    "weights = checkpoint[\"model_state_dict\"][\"classifier.fc.weight\"].data.cpu().numpy()\n",
    "bias = checkpoint[\"model_state_dict\"][\"classifier.fc.bias\"].data.cpu().numpy()"
   ]
  },
  {
   "cell_type": "code",
   "execution_count": 37,
   "id": "6fe61544d81a122f",
   "metadata": {
    "ExecuteTime": {
     "end_time": "2024-12-14T22:08:41.629181Z",
     "start_time": "2024-12-14T22:08:41.570700Z"
    },
    "collapsed": false
   },
   "outputs": [
    {
     "data": {
      "text/plain": [
       "<All keys matched successfully>"
      ]
     },
     "execution_count": 37,
     "metadata": {},
     "output_type": "execute_result"
    }
   ],
   "source": [
    "model = MACAW(nlatents=nlatents).to(\"cuda\")\n",
    "checkpoint = torch.load(f\"checkpoints/act-macaw-{test_block}/best_model.pt\")\n",
    "model.load_state_dict(checkpoint[\"model_state_dict\"])"
   ]
  },
  {
   "cell_type": "code",
   "execution_count": 38,
   "id": "2c67ac7b",
   "metadata": {},
   "outputs": [],
   "source": [
    "ds = TD(f\"/data/Data/PD/activations_{test_block}_{mode}\")\n",
    "data_loader = DataLoader(ds, batch_size=128, shuffle=False)"
   ]
  },
  {
   "cell_type": "code",
   "execution_count": 39,
   "id": "aaadd84cd992cdc3",
   "metadata": {
    "ExecuteTime": {
     "end_time": "2024-12-14T22:08:42.137242Z",
     "start_time": "2024-12-14T22:08:42.134736Z"
    },
    "collapsed": false
   },
   "outputs": [],
   "source": [
    "def BinaryCrossEntropy(y_true, y_pred):\n",
    "    y_pred = np.clip(y_pred, 1e-7, 1 - 1e-7)\n",
    "    term_0 = (1 - y_true) * np.log(1 - y_pred + 1e-7)\n",
    "    term_1 = y_true * np.log(y_pred + 1e-7)\n",
    "    return -np.mean(term_0 + term_1, axis=0)\n",
    "\n",
    "\n",
    "def sigmoid(z):\n",
    "    return 1 / (1 + np.exp(-z))\n",
    "\n",
    "\n",
    "def accuracy(y_true, y_pred, threshold=0.5):\n",
    "    y_pred = y_pred > threshold\n",
    "    return np.mean(y_pred == y_true)\n"
   ]
  },
  {
   "cell_type": "code",
   "execution_count": 40,
   "id": "bda6b1b3",
   "metadata": {},
   "outputs": [],
   "source": [
    "import numpy as np\n",
    "\n",
    "g_dict = {\"Study\": np.arange(9), \"Sex\": [0, 1]}\n",
    "cf_dict = {}\n",
    "\n",
    "\n",
    "temp = {k: 0 for k in range(9)}\n",
    "model.eval()\n",
    "\n",
    "grp_mean = np.zeros((len(ds), nlatents + ncauses))\n",
    "for v in range(9):\n",
    "    obs = []\n",
    "    cfs = []\n",
    "    cf_vals = temp.copy()\n",
    "    cf_vals[v] = 1\n",
    "    for b in data_loader:\n",
    "        x_obs, x_cf = model.counterfactuals(b.to(\"cuda\"), cf_vals=cf_vals)\n",
    "        obs.append(x_obs)\n",
    "        cfs.append(x_cf)\n",
    "\n",
    "    obs = np.vstack(obs)\n",
    "    cf = np.vstack(cfs)\n",
    "    grp_mean += cf\n",
    "\n",
    "    cf_dict[f\"Study_{v}\"] = cf\n",
    "\n",
    "cf_dict[f\"Study_mean\"] = grp_mean / 9\n",
    "\n",
    "grp_mean = np.zeros((len(ds), nlatents + ncauses))\n",
    "for v in [0, 1]:\n",
    "    obs = []\n",
    "    cfs = []\n",
    "    for b in data_loader:\n",
    "        x_obs, x_cf = model.counterfactuals(b.to(\"cuda\"), cf_vals={sex_idx: v})\n",
    "        obs.append(x_obs)\n",
    "        cfs.append(x_cf)\n",
    "\n",
    "    obs = np.vstack(obs)\n",
    "    cf = np.vstack(cfs)\n",
    "    grp_mean += cf\n",
    "\n",
    "    cf_dict[f\"Sex_{v}\"] = cf\n",
    "\n",
    "cf_dict[f\"Sex_mean\"] = grp_mean / 2\n"
   ]
  },
  {
   "cell_type": "code",
   "execution_count": 41,
   "id": "f66f4a5be71af659",
   "metadata": {
    "ExecuteTime": {
     "end_time": "2024-12-14T22:08:45.555816Z",
     "start_time": "2024-12-14T22:08:45.471654Z"
    },
    "collapsed": false
   },
   "outputs": [
    {
     "name": "stdout",
     "output_type": "stream",
     "text": [
      "Obs- AUROC: 0.7362984218077474, BCE:0.6102814078330994\n"
     ]
    },
    {
     "data": {
      "text/html": [
       "<div>\n",
       "<style scoped>\n",
       "    .dataframe tbody tr th:only-of-type {\n",
       "        vertical-align: middle;\n",
       "    }\n",
       "\n",
       "    .dataframe tbody tr th {\n",
       "        vertical-align: top;\n",
       "    }\n",
       "\n",
       "    .dataframe thead th {\n",
       "        text-align: right;\n",
       "    }\n",
       "</style>\n",
       "<table border=\"1\" class=\"dataframe\">\n",
       "  <thead>\n",
       "    <tr style=\"text-align: right;\">\n",
       "      <th></th>\n",
       "      <th>pd_true</th>\n",
       "      <th>obs_pred</th>\n",
       "      <th>sex</th>\n",
       "      <th>study</th>\n",
       "      <th>scanner</th>\n",
       "    </tr>\n",
       "  </thead>\n",
       "  <tbody>\n",
       "    <tr>\n",
       "      <th>0</th>\n",
       "      <td>1.0</td>\n",
       "      <td>0.701383</td>\n",
       "      <td>1.0</td>\n",
       "      <td>3</td>\n",
       "      <td>2</td>\n",
       "    </tr>\n",
       "    <tr>\n",
       "      <th>1</th>\n",
       "      <td>0.0</td>\n",
       "      <td>0.348286</td>\n",
       "      <td>1.0</td>\n",
       "      <td>1</td>\n",
       "      <td>1</td>\n",
       "    </tr>\n",
       "    <tr>\n",
       "      <th>2</th>\n",
       "      <td>0.0</td>\n",
       "      <td>0.422487</td>\n",
       "      <td>1.0</td>\n",
       "      <td>0</td>\n",
       "      <td>0</td>\n",
       "    </tr>\n",
       "    <tr>\n",
       "      <th>3</th>\n",
       "      <td>0.0</td>\n",
       "      <td>0.681636</td>\n",
       "      <td>0.0</td>\n",
       "      <td>8</td>\n",
       "      <td>7</td>\n",
       "    </tr>\n",
       "    <tr>\n",
       "      <th>4</th>\n",
       "      <td>0.0</td>\n",
       "      <td>0.648173</td>\n",
       "      <td>1.0</td>\n",
       "      <td>6</td>\n",
       "      <td>5</td>\n",
       "    </tr>\n",
       "    <tr>\n",
       "      <th>...</th>\n",
       "      <td>...</td>\n",
       "      <td>...</td>\n",
       "      <td>...</td>\n",
       "      <td>...</td>\n",
       "      <td>...</td>\n",
       "    </tr>\n",
       "    <tr>\n",
       "      <th>329</th>\n",
       "      <td>1.0</td>\n",
       "      <td>0.871718</td>\n",
       "      <td>1.0</td>\n",
       "      <td>4</td>\n",
       "      <td>3</td>\n",
       "    </tr>\n",
       "    <tr>\n",
       "      <th>330</th>\n",
       "      <td>1.0</td>\n",
       "      <td>0.470091</td>\n",
       "      <td>0.0</td>\n",
       "      <td>5</td>\n",
       "      <td>4</td>\n",
       "    </tr>\n",
       "    <tr>\n",
       "      <th>331</th>\n",
       "      <td>0.0</td>\n",
       "      <td>0.651817</td>\n",
       "      <td>0.0</td>\n",
       "      <td>1</td>\n",
       "      <td>1</td>\n",
       "    </tr>\n",
       "    <tr>\n",
       "      <th>332</th>\n",
       "      <td>1.0</td>\n",
       "      <td>0.488814</td>\n",
       "      <td>1.0</td>\n",
       "      <td>8</td>\n",
       "      <td>7</td>\n",
       "    </tr>\n",
       "    <tr>\n",
       "      <th>333</th>\n",
       "      <td>1.0</td>\n",
       "      <td>0.821846</td>\n",
       "      <td>1.0</td>\n",
       "      <td>5</td>\n",
       "      <td>4</td>\n",
       "    </tr>\n",
       "  </tbody>\n",
       "</table>\n",
       "<p>334 rows × 5 columns</p>\n",
       "</div>"
      ],
      "text/plain": [
       "     pd_true  obs_pred  sex  study  scanner\n",
       "0        1.0  0.701383  1.0      3        2\n",
       "1        0.0  0.348286  1.0      1        1\n",
       "2        0.0  0.422487  1.0      0        0\n",
       "3        0.0  0.681636  0.0      8        7\n",
       "4        0.0  0.648173  1.0      6        5\n",
       "..       ...       ...  ...    ...      ...\n",
       "329      1.0  0.871718  1.0      4        3\n",
       "330      1.0  0.470091  0.0      5        4\n",
       "331      0.0  0.651817  0.0      1        1\n",
       "332      1.0  0.488814  1.0      8        7\n",
       "333      1.0  0.821846  1.0      5        4\n",
       "\n",
       "[334 rows x 5 columns]"
      ]
     },
     "execution_count": 41,
     "metadata": {},
     "output_type": "execute_result"
    }
   ],
   "source": [
    "from sklearn.metrics import roc_curve, auc\n",
    "\n",
    "obs_pred = sigmoid(obs[:, ncauses:] @ weights.T + bias).squeeze()\n",
    "fpr, tpr, thresholds = roc_curve(obs[:, PD_idx], obs_pred)\n",
    "obs_roc_auc = auc(fpr, tpr)\n",
    "obs_bce = BinaryCrossEntropy(obs[:, PD_idx], obs_pred)\n",
    "print(f\"Obs- AUROC: {obs_roc_auc}, BCE:{obs_bce}\")\n",
    "\n",
    "df = pd.DataFrame(\n",
    "    {\n",
    "        \"pd_true\": obs[:, PD_idx],\n",
    "        \"obs_pred\": obs_pred,\n",
    "        \"sex\": obs[:, sex_idx],\n",
    "        \"study\": np.argmax(obs[:, :9], axis=1),\n",
    "        \"scanner\": np.argmax(obs[:, 10:18], axis=1),\n",
    "    }\n",
    ")\n",
    "df"
   ]
  },
  {
   "cell_type": "code",
   "execution_count": 42,
   "id": "6f918fb11d0df136",
   "metadata": {
    "ExecuteTime": {
     "end_time": "2024-12-14T22:08:48.389470Z",
     "start_time": "2024-12-14T22:08:48.381190Z"
    },
    "collapsed": false
   },
   "outputs": [
    {
     "name": "stdout",
     "output_type": "stream",
     "text": [
      "Study- AUROC: 0.6549856527977045, BCE:0.6684383013995925\n",
      "Sex- AUROC: 0.7361908177905309, BCE:0.6097329350261164\n"
     ]
    }
   ],
   "source": [
    "for k, v in g_dict.items():\n",
    "    mean_pred = sigmoid(cf_dict[f\"{k}_mean\"][:, ncauses:] @ weights.T + bias).squeeze()\n",
    "    fpr, tpr, thresholds = roc_curve(obs[:, PD_idx], mean_pred)\n",
    "    obs_roc_auc = auc(fpr, tpr)\n",
    "    obs_bce = BinaryCrossEntropy(obs[:, PD_idx], mean_pred)\n",
    "    print(f\"{k}- AUROC: {obs_roc_auc}, BCE:{obs_bce}\")\n",
    "    df[f\"{k}_pred\"] = mean_pred"
   ]
  },
  {
   "cell_type": "code",
   "execution_count": 47,
   "id": "65b52bde80f125d3",
   "metadata": {
    "ExecuteTime": {
     "end_time": "2024-12-14T22:09:49.625851Z",
     "start_time": "2024-12-14T22:09:49.620021Z"
    },
    "collapsed": false
   },
   "outputs": [],
   "source": [
    "def compute_subgroup_metrics(\n",
    "    df, y_true_col=\"pd_true\", y_prob_col=\"pd_pred\", subgroup_col=\"scanner\"\n",
    "):\n",
    "    unique_scanners = df[subgroup_col].unique()\n",
    "\n",
    "    subgroup_metrics = {}\n",
    "    for subgroup in unique_scanners:\n",
    "        scanner_df = df[df[subgroup_col] == subgroup]\n",
    "        y_true = scanner_df[y_true_col]\n",
    "        y_prob = scanner_df[y_prob_col]\n",
    "\n",
    "        try:\n",
    "            fpr, tpr, thresholds = roc_curve(y_true, y_prob)\n",
    "            roc_auc = auc(fpr, tpr)\n",
    "\n",
    "            subgroup_metrics[subgroup] = {\n",
    "                \"fpr\": fpr,\n",
    "                \"tpr\": tpr,\n",
    "                \"thresholds\": thresholds,\n",
    "                \"auc\": roc_auc,\n",
    "                \"total_samples\": len(scanner_df),\n",
    "            }\n",
    "\n",
    "        except ValueError as e:\n",
    "            print(f\"Error computing ROC for {subgroup_col} {subgroup}: {e}\")\n",
    "\n",
    "    return subgroup_metrics"
   ]
  },
  {
   "cell_type": "code",
   "execution_count": 78,
   "id": "63c9d17145a95729",
   "metadata": {
    "ExecuteTime": {
     "end_time": "2024-12-14T22:10:06.247312Z",
     "start_time": "2024-12-14T22:10:05.236966Z"
    },
    "collapsed": false
   },
   "outputs": [],
   "source": [
    "study_obs_metrics = compute_subgroup_metrics(\n",
    "    df, y_true_col=\"pd_true\", y_prob_col=\"obs_pred\", subgroup_col=\"study\"\n",
    ")\n",
    "\n",
    "sex_obs_metrics = compute_subgroup_metrics(\n",
    "    df, y_true_col=\"pd_true\", y_prob_col=\"obs_pred\", subgroup_col=\"sex\"\n",
    ")\n",
    "\n",
    "study_cf_study_metrics = compute_subgroup_metrics(\n",
    "    df, y_true_col=\"pd_true\", y_prob_col=\"Study_pred\", subgroup_col=\"study\"\n",
    ")\n",
    "\n",
    "sex_cf_sex_metrics = compute_subgroup_metrics(\n",
    "    df, y_true_col=\"pd_true\", y_prob_col=\"Sex_pred\", subgroup_col=\"sex\"\n",
    ")"
   ]
  },
  {
   "cell_type": "code",
   "execution_count": 79,
   "id": "b50fc544a74b583e",
   "metadata": {
    "ExecuteTime": {
     "end_time": "2024-12-14T22:10:09.192037Z",
     "start_time": "2024-12-14T22:10:09.189612Z"
    },
    "collapsed": false
   },
   "outputs": [],
   "source": [
    "cf_study_study_auc = {}\n",
    "\n",
    "for a in study_obs_metrics.keys():\n",
    "    cf_study_study_auc[a] = (\n",
    "        study_cf_study_metrics[a][\"auc\"] - study_obs_metrics[a][\"auc\"]\n",
    "    )\n",
    "\n",
    "cf_sex_sex_auc = {}\n",
    "\n",
    "for a in sex_obs_metrics.keys():\n",
    "    cf_sex_sex_auc[a] = sex_cf_sex_metrics[a][\"auc\"] - sex_obs_metrics[a][\"auc\"]"
   ]
  },
  {
   "cell_type": "code",
   "execution_count": 83,
   "id": "d1c00e956b4771e9",
   "metadata": {
    "ExecuteTime": {
     "end_time": "2024-12-14T22:19:36.606954Z",
     "start_time": "2024-12-14T22:19:36.382854Z"
    },
    "collapsed": false
   },
   "outputs": [
    {
     "data": {
      "image/png": "[encoded data removed]",
      "text/plain": [
       "<Figure size 288x288 with 2 Axes>"
      ]
     },
     "metadata": {
      "needs_background": "light"
     },
     "output_type": "display_data"
    }
   ],
   "source": [
    "fig, ax = plt.subplots(1, 2, figsize=(4, 4), gridspec_kw={\"width_ratios\": [5, 1]})\n",
    "\n",
    "# Create bar plot with custom colors\n",
    "bars = ax[0].bar(cf_study_study_auc.keys(), cf_study_study_auc.values())\n",
    "\n",
    "# Color bars based on positive/negative values\n",
    "for i, value in enumerate(cf_study_study_auc.values()):\n",
    "    if value >= 0:\n",
    "        bars[i].set_color(\"#5B5F97\")\n",
    "    else:\n",
    "        bars[i].set_color(\"#FFC145\")\n",
    "\n",
    "# Customize the plot\n",
    "fig.suptitle(\n",
    "    \"AUROC difference in PD classification after \\n counterfactually removing protected attributes\",\n",
    "    fontsize=11,\n",
    ")\n",
    "ax[0].set(xlabel=\"Site\", ylabel=\"AUROC\")\n",
    "\n",
    "bars = plt.bar(cf_sex_sex_auc.keys(), cf_sex_sex_auc.values())\n",
    "\n",
    "\n",
    "# Color bars based on positive/negative values\n",
    "for i, value in enumerate(cf_sex_sex_auc.values()):\n",
    "    if value >= 0:\n",
    "        bars[i].set_color(\"#5B5F97\")\n",
    "    else:\n",
    "        bars[i].set_color(\"#FFC145\")\n",
    "\n",
    "# Customize the plot\n",
    "ax[1].set(xlabel=\"Sex\", ylim=[-0.08, 0.04], xticks=[0, 1], yticks=[])\n",
    "\n",
    "# Show the plot\n",
    "plt.tight_layout()\n",
    "plt.savefig(f\"/data/Papers/MICCAI-biases/macaw-analysis/cf_diff.pdf\", dpi=300)\n",
    "plt.show()"
   ]
  },
  {
   "cell_type": "code",
   "execution_count": 84,
   "id": "6e73adfc",
   "metadata": {},
   "outputs": [
    {
     "data": {
      "text/plain": [
       "{3: {'fpr': array([0.  , 0.25, 0.25, 0.5 , 0.5 , 0.75, 0.75, 1.  , 1.  ]),\n",
       "  'tpr': array([0.        , 0.        , 0.14814815, 0.14814815, 0.62962963,\n",
       "         0.62962963, 0.77777778, 0.77777778, 1.        ]),\n",
       "  'thresholds': array([1.8852546 , 0.8852547 , 0.7588297 , 0.7522411 , 0.6217069 ,\n",
       "         0.60135275, 0.54978925, 0.54217863, 0.30881652], dtype=float32),\n",
       "  'auc': 0.3888888888888889,\n",
       "  'total_samples': 31},\n",
       " 1: {'fpr': array([0.        , 0.        , 0.01265823, 0.01265823, 0.02531646,\n",
       "         0.02531646, 0.05063291, 0.05063291, 0.07594937, 0.07594937,\n",
       "         0.12658228, 0.12658228, 0.17721519, 0.17721519, 0.20253165,\n",
       "         0.20253165, 0.25316456, 0.25316456, 0.27848101, 0.27848101,\n",
       "         0.30379747, 0.30379747, 0.36708861, 0.36708861, 0.40506329,\n",
       "         0.40506329, 0.4556962 , 0.4556962 , 0.46835443, 0.46835443,\n",
       "         0.62025316, 0.62025316, 0.69620253, 0.69620253, 0.89873418,\n",
       "         0.89873418, 0.92405063, 0.92405063, 1.        ]),\n",
       "  'tpr': array([0.        , 0.05263158, 0.05263158, 0.10526316, 0.10526316,\n",
       "         0.15789474, 0.15789474, 0.21052632, 0.21052632, 0.26315789,\n",
       "         0.26315789, 0.31578947, 0.31578947, 0.36842105, 0.36842105,\n",
       "         0.42105263, 0.42105263, 0.47368421, 0.47368421, 0.52631579,\n",
       "         0.52631579, 0.57894737, 0.57894737, 0.63157895, 0.63157895,\n",
       "         0.68421053, 0.68421053, 0.73684211, 0.73684211, 0.78947368,\n",
       "         0.78947368, 0.84210526, 0.84210526, 0.89473684, 0.89473684,\n",
       "         0.94736842, 0.94736842, 1.        , 1.        ]),\n",
       "  'thresholds': array([1.8077304 , 0.80773044, 0.74342036, 0.7235724 , 0.7167545 ,\n",
       "         0.70804244, 0.6518171 , 0.6455294 , 0.6174192 , 0.6141394 ,\n",
       "         0.55397856, 0.5469709 , 0.5096128 , 0.50410825, 0.49288252,\n",
       "         0.49206212, 0.45957693, 0.45691872, 0.45038363, 0.4490826 ,\n",
       "         0.43797708, 0.42873043, 0.40847638, 0.39898401, 0.39481756,\n",
       "         0.39112902, 0.37493962, 0.37468433, 0.3732171 , 0.3715291 ,\n",
       "         0.331923  , 0.33067936, 0.30715305, 0.30582786, 0.25015062,\n",
       "         0.24058753, 0.23475334, 0.22566867, 0.17599373], dtype=float32),\n",
       "  'auc': 0.6662225183211193,\n",
       "  'total_samples': 98},\n",
       " 0: {'fpr': array([0.        , 0.        , 0.        , 0.11764706, 0.11764706,\n",
       "         0.41176471, 0.41176471, 0.47058824, 0.47058824, 0.52941176,\n",
       "         0.52941176, 0.58823529, 0.58823529, 0.70588235, 0.70588235,\n",
       "         0.76470588, 0.76470588, 0.82352941, 0.82352941, 1.        ]),\n",
       "  'tpr': array([0.        , 0.03225806, 0.4516129 , 0.4516129 , 0.48387097,\n",
       "         0.48387097, 0.64516129, 0.64516129, 0.67741935, 0.67741935,\n",
       "         0.70967742, 0.70967742, 0.74193548, 0.74193548, 0.90322581,\n",
       "         0.90322581, 0.93548387, 0.93548387, 1.        , 1.        ]),\n",
       "  'thresholds': array([1.794135  , 0.794135  , 0.6393233 , 0.63430804, 0.6312372 ,\n",
       "         0.5968719 , 0.5595109 , 0.5369113 , 0.52887034, 0.51187474,\n",
       "         0.49239126, 0.49203613, 0.48684183, 0.47053227, 0.4363204 ,\n",
       "         0.42343727, 0.423199  , 0.42248726, 0.40372676, 0.34725362],\n",
       "        dtype=float32),\n",
       "  'auc': 0.6869070208728653,\n",
       "  'total_samples': 48},\n",
       " 8: {'fpr': array([0.        , 0.        , 0.        , 0.10526316, 0.10526316,\n",
       "         0.21052632, 0.21052632, 0.26315789, 0.26315789, 0.31578947,\n",
       "         0.31578947, 0.36842105, 0.36842105, 0.57894737, 0.57894737,\n",
       "         0.63157895, 0.63157895, 0.68421053, 0.68421053, 1.        ]),\n",
       "  'tpr': array([0.        , 0.05555556, 0.11111111, 0.11111111, 0.27777778,\n",
       "         0.27777778, 0.44444444, 0.44444444, 0.55555556, 0.55555556,\n",
       "         0.72222222, 0.72222222, 0.77777778, 0.77777778, 0.88888889,\n",
       "         0.88888889, 0.94444444, 0.94444444, 1.        , 1.        ]),\n",
       "  'thresholds': array([1.7644384 , 0.7644384 , 0.68675154, 0.68163574, 0.6394995 ,\n",
       "         0.6119949 , 0.589567  , 0.5888154 , 0.5791646 , 0.5790744 ,\n",
       "         0.5661751 , 0.5455918 , 0.5414484 , 0.52160704, 0.49614176,\n",
       "         0.4907155 , 0.4888139 , 0.48394156, 0.4773737 , 0.35261714],\n",
       "        dtype=float32),\n",
       "  'auc': 0.7076023391812865,\n",
       "  'total_samples': 37},\n",
       " 6: {'fpr': array([0.   , 0.   , 0.   , 0.25 , 0.25 , 0.375, 0.375, 0.5  , 0.5  ,\n",
       "         0.875, 0.875, 1.   , 1.   ]),\n",
       "  'tpr': array([0.    , 0.0625, 0.125 , 0.125 , 0.4375, 0.4375, 0.75  , 0.75  ,\n",
       "         0.8125, 0.8125, 0.875 , 0.875 , 1.    ]),\n",
       "  'thresholds': array([1.9111    , 0.91110003, 0.86598974, 0.80713266, 0.76066417,\n",
       "         0.75605994, 0.694702  , 0.6868831 , 0.6498368 , 0.61017025,\n",
       "         0.57135177, 0.5697512 , 0.52540565], dtype=float32),\n",
       "  'auc': 0.59375,\n",
       "  'total_samples': 24},\n",
       " 2: {'fpr': array([0.    , 0.    , 0.    , 0.0625, 0.0625, 0.125 , 0.125 , 0.1875,\n",
       "         0.1875, 0.25  , 0.25  , 0.4375, 0.4375, 0.5   , 0.5   , 0.8125,\n",
       "         0.8125, 1.    ]),\n",
       "  'tpr': array([0.        , 0.03333333, 0.16666667, 0.16666667, 0.36666667,\n",
       "         0.36666667, 0.56666667, 0.56666667, 0.76666667, 0.76666667,\n",
       "         0.8       , 0.8       , 0.9       , 0.9       , 0.96666667,\n",
       "         0.96666667, 1.        , 1.        ]),\n",
       "  'thresholds': array([1.8451164 , 0.84511644, 0.6529001 , 0.6518971 , 0.5864675 ,\n",
       "         0.57846653, 0.52680176, 0.5215342 , 0.45101842, 0.431687  ,\n",
       "         0.42995748, 0.4152693 , 0.36197725, 0.35411066, 0.33575335,\n",
       "         0.29968312, 0.29174188, 0.18589693], dtype=float32),\n",
       "  'auc': 0.8125,\n",
       "  'total_samples': 46},\n",
       " 5: {'fpr': array([0.        , 0.        , 0.        , 0.16666667, 0.16666667,\n",
       "         0.33333333, 0.33333333, 0.83333333, 0.83333333, 1.        ]),\n",
       "  'tpr': array([0.        , 0.08333333, 0.33333333, 0.33333333, 0.66666667,\n",
       "         0.66666667, 0.83333333, 0.83333333, 1.        , 1.        ]),\n",
       "  'thresholds': array([1.8218462 , 0.8218463 , 0.60801184, 0.56420016, 0.4700912 ,\n",
       "         0.4489361 , 0.41484126, 0.36149156, 0.35494632, 0.3351667 ],\n",
       "        dtype=float32),\n",
       "  'auc': 0.75,\n",
       "  'total_samples': 18},\n",
       " 7: {'fpr': array([0.   , 0.125, 0.125, 0.25 , 0.25 , 0.375, 0.375, 0.5  , 0.5  ,\n",
       "         1.   , 1.   ]),\n",
       "  'tpr': array([0.        , 0.        , 0.28571429, 0.28571429, 0.42857143,\n",
       "         0.42857143, 0.71428571, 0.71428571, 0.85714286, 0.85714286,\n",
       "         1.        ]),\n",
       "  'thresholds': array([1.7091099 , 0.7091099 , 0.6593166 , 0.6085392 , 0.58265513,\n",
       "         0.5440475 , 0.5003138 , 0.46282256, 0.42727718, 0.36759606,\n",
       "         0.33448717], dtype=float32),\n",
       "  'auc': 0.6071428571428571,\n",
       "  'total_samples': 15},\n",
       " 4: {'fpr': array([0.        , 0.        , 0.        , 0.28571429, 0.28571429,\n",
       "         0.71428571, 0.71428571, 1.        , 1.        ]),\n",
       "  'tpr': array([0. , 0.1, 0.6, 0.6, 0.7, 0.7, 0.9, 0.9, 1. ]),\n",
       "  'thresholds': array([1.8717182 , 0.8717181 , 0.79740053, 0.79145724, 0.790167  ,\n",
       "         0.7280777 , 0.65664226, 0.5646605 , 0.5629334 ], dtype=float32),\n",
       "  'auc': 0.7285714285714285,\n",
       "  'total_samples': 17}}"
      ]
     },
     "execution_count": 84,
     "metadata": {},
     "output_type": "execute_result"
    }
   ],
   "source": [
    "study_obs_metrics"
   ]
  },
  {
   "cell_type": "code",
   "execution_count": 86,
   "id": "e1f2795c",
   "metadata": {},
   "outputs": [
    {
     "ename": "KeyError",
     "evalue": "'auc'",
     "output_type": "error",
     "traceback": [
      "\u001b[0;31m---------------------------------------------------------------------------\u001b[0m",
      "\u001b[0;31mKeyError\u001b[0m                                  Traceback (most recent call last)",
      "Cell \u001b[0;32mIn [86], line 1\u001b[0m\n\u001b[0;32m----> 1\u001b[0m \u001b[43mstudy_cf_study_metrics\u001b[49m\u001b[43m[\u001b[49m\u001b[38;5;124;43m\"\u001b[39;49m\u001b[38;5;124;43mauc\u001b[39;49m\u001b[38;5;124;43m\"\u001b[39;49m\u001b[43m]\u001b[49m, study_obs_metrics[\u001b[38;5;124m\"\u001b[39m\u001b[38;5;124mauc\u001b[39m\u001b[38;5;124m\"\u001b[39m]\n",
      "\u001b[0;31mKeyError\u001b[0m: 'auc'"
     ]
    }
   ],
   "source": [
    "study_cf_study_metrics[\"auc\"], study_obs_metrics[\"auc\"]"
   ]
  },
  {
   "cell_type": "code",
   "execution_count": null,
   "id": "e6d47773",
   "metadata": {},
   "outputs": [],
   "source": []
  }
 ],
 "metadata": {
  "kernelspec": {
   "display_name": "Python 3",
   "language": "python",
   "name": "python3"
  },
  "language_info": {
   "codemirror_mode": {
    "name": "ipython",
    "version": 2
   },
   "file_extension": ".py",
   "mimetype": "text/x-python",
   "name": "python",
   "nbconvert_exporter": "python",
   "pygments_lexer": "ipython2",
   "version": "2.7.6"
  }
 },
 "nbformat": 4,
 "nbformat_minor": 5
}
