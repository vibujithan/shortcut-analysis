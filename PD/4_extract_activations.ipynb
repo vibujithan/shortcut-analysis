{
 "cells": [
  {
   "cell_type": "code",
   "execution_count": 25,
   "id": "initial_id",
   "metadata": {
    "ExecuteTime": {
     "end_time": "2024-12-12T20:55:17.112694Z",
     "start_time": "2024-12-12T20:55:16.773651Z"
    },
    "collapsed": true
   },
   "outputs": [],
   "source": [
    "import torch\n",
    "from tqdm import tqdm\n",
    "import sys\n",
    "\n",
    "sys.path.append(\"..\")\n",
    "\n",
    "from models.sfcn import SFCN\n",
    "from utils.datasets import TorchDataset as TD"
   ]
  },
  {
   "cell_type": "code",
   "execution_count": 26,
   "id": "a1275a0f3af9acfc",
   "metadata": {
    "ExecuteTime": {
     "end_time": "2024-12-12T20:55:17.115103Z",
     "start_time": "2024-12-12T20:55:17.113557Z"
    },
    "collapsed": false
   },
   "outputs": [],
   "source": [
    "mode = \"test\"\n",
    "test_block = \"flat\"\n",
    "model_name = \"PD-SFCN-GroupDRO\""
   ]
  },
  {
   "cell_type": "code",
   "execution_count": 27,
   "id": "6fe61544d81a122f",
   "metadata": {
    "ExecuteTime": {
     "end_time": "2024-12-12T20:55:17.843025Z",
     "start_time": "2024-12-12T20:55:17.115632Z"
    },
    "collapsed": false
   },
   "outputs": [
    {
     "data": {
      "text/plain": [
       "<All keys matched successfully>"
      ]
     },
     "execution_count": 27,
     "metadata": {},
     "output_type": "execute_result"
    }
   ],
   "source": [
    "model = SFCN(output_dim=1, channel_number=[28, 58, 128, 256, 256, 64]).to(\"cuda\")\n",
    "checkpoint = torch.load(f\"checkpoints/{model_name}/best_model.pt\")\n",
    "model.load_state_dict(checkpoint[\"model_state_dict\"])"
   ]
  },
  {
   "cell_type": "code",
   "execution_count": 28,
   "id": "3cd0d441f95da1ef",
   "metadata": {
    "ExecuteTime": {
     "end_time": "2024-12-12T20:55:17.845411Z",
     "start_time": "2024-12-12T20:55:17.843701Z"
    },
    "collapsed": false
   },
   "outputs": [],
   "source": [
    "block_dict = {\"flat\": model.classifier.flatten}"
   ]
  },
  {
   "cell_type": "code",
   "execution_count": 29,
   "id": "29d9cc319bcfa32d",
   "metadata": {
    "ExecuteTime": {
     "end_time": "2024-12-12T20:55:25.793847Z",
     "start_time": "2024-12-12T20:55:17.846070Z"
    },
    "collapsed": false
   },
   "outputs": [
    {
     "name": "stderr",
     "output_type": "stream",
     "text": [
      "100%|██████████| 42/42 [00:08<00:00,  5.00it/s]\n"
     ]
    }
   ],
   "source": [
    "import torch\n",
    "import numpy as np\n",
    "from sklearn.decomposition import PCA\n",
    "import seaborn as sns\n",
    "import matplotlib.pyplot as plt\n",
    "from torch.utils.data import DataLoader\n",
    "\n",
    "model.eval()\n",
    "\n",
    "activations = []\n",
    "PD = []\n",
    "sex = []\n",
    "study = []\n",
    "scanner_type = []\n",
    "\n",
    "\n",
    "def hook_fn(module, input, module_output):\n",
    "    activations.append(module_output.cpu().detach().numpy())\n",
    "\n",
    "\n",
    "hook = block_dict[test_block].register_forward_hook(hook_fn)\n",
    "\n",
    "td = TD(f\"/data/Data/PD/{mode}\")\n",
    "test_loader = DataLoader(td, batch_size=8, shuffle=False)\n",
    "# Collect activations\n",
    "with torch.no_grad():\n",
    "    for batch in tqdm(test_loader):\n",
    "        _ = model(batch[0].to(\"cuda\"))\n",
    "        PD.extend(batch[1])\n",
    "        sex.extend(batch[2])\n",
    "        study.extend(batch[3])\n",
    "        scanner_type.extend(batch[4])\n",
    "    hook.remove()"
   ]
  },
  {
   "cell_type": "code",
   "execution_count": 30,
   "id": "b5e34f3f",
   "metadata": {},
   "outputs": [],
   "source": [
    "def to_onehot(labels, num_classes=None):\n",
    "    # Convert to numpy array if not already\n",
    "    labels = np.array(labels)\n",
    "\n",
    "    # Determine number of classes if not provided\n",
    "    if num_classes is None:\n",
    "        num_classes = np.max(labels) + 1\n",
    "\n",
    "    # Create zero matrix of shape (samples, num_classes)\n",
    "    onehot = np.zeros((len(labels), num_classes))\n",
    "\n",
    "    # Set 1s at the appropriate positions\n",
    "    onehot[np.arange(len(labels)), labels] = 1\n",
    "\n",
    "    return onehot"
   ]
  },
  {
   "cell_type": "code",
   "execution_count": 31,
   "id": "8fe4c6b0349a7e23",
   "metadata": {
    "ExecuteTime": {
     "end_time": "2024-12-12T20:55:25.799313Z",
     "start_time": "2024-12-12T20:55:25.794493Z"
    },
    "collapsed": false
   },
   "outputs": [],
   "source": [
    "activations = np.vstack(activations).reshape(td.__len__(), -1).squeeze()\n",
    "PD = np.array(PD)\n",
    "sex = np.array(sex)\n",
    "study = to_onehot(np.array(study))\n",
    "scanner_type = to_onehot(np.array(scanner_type))"
   ]
  },
  {
   "cell_type": "code",
   "execution_count": 32,
   "id": "ae811f27aefd4a3a",
   "metadata": {
    "ExecuteTime": {
     "end_time": "2024-12-12T20:55:25.821731Z",
     "start_time": "2024-12-12T20:55:25.799923Z"
    },
    "collapsed": false
   },
   "outputs": [],
   "source": [
    "import os\n",
    "\n",
    "act_save_dir = f\"/data/Data/PD/{model_name}_activations_{test_block}_{mode}\"\n",
    "os.makedirs(act_save_dir, exist_ok=True)\n",
    "\n",
    "for i in range(len(activations)):\n",
    "    ten2 = torch.tensor(\n",
    "        np.hstack([study[i], sex[i], scanner_type[i], PD[i], activations[i]])\n",
    "    ).to(torch.float)\n",
    "    torch.save(ten2, os.path.join(act_save_dir, f\"{i}\"))"
   ]
  }
 ],
 "metadata": {
  "kernelspec": {
   "display_name": "deep",
   "language": "python",
   "name": "python3"
  },
  "language_info": {
   "codemirror_mode": {
    "name": "ipython",
    "version": 3
   },
   "file_extension": ".py",
   "mimetype": "text/x-python",
   "name": "python",
   "nbconvert_exporter": "python",
   "pygments_lexer": "ipython3",
   "version": "3.8.13"
  }
 },
 "nbformat": 4,
 "nbformat_minor": 5
}
