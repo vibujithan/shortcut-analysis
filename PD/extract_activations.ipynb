{
 "cells": [
  {
   "cell_type": "code",
   "execution_count": 1,
   "id": "initial_id",
   "metadata": {
    "collapsed": true,
    "ExecuteTime": {
     "end_time": "2024-12-12T20:55:17.112694Z",
     "start_time": "2024-12-12T20:55:16.773651Z"
    }
   },
   "outputs": [],
   "source": [
    "import torch\n",
    "from tqdm import tqdm\n",
    "\n",
    "from models.sfcn_original import SFCN\n",
    "from utils.datasets import TorchDataset as TD"
   ]
  },
  {
   "cell_type": "code",
   "outputs": [],
   "source": [
    "mode = 'test'\n",
    "test_block = 'flat'"
   ],
   "metadata": {
    "collapsed": false,
    "ExecuteTime": {
     "end_time": "2024-12-12T20:55:17.115103Z",
     "start_time": "2024-12-12T20:55:17.113557Z"
    }
   },
   "id": "a1275a0f3af9acfc",
   "execution_count": 2
  },
  {
   "cell_type": "code",
   "outputs": [
    {
     "data": {
      "text/plain": "<All keys matched successfully>"
     },
     "execution_count": 3,
     "metadata": {},
     "output_type": "execute_result"
    }
   ],
   "source": [
    "model = SFCN(output_dim=1, channel_number=[28, 58, 128, 256, 256, 64]).to('cuda')\n",
    "checkpoint = torch.load('checkpoints/PD-SFCN/best_model.pt')\n",
    "model.load_state_dict(checkpoint['model_state_dict'])"
   ],
   "metadata": {
    "collapsed": false,
    "ExecuteTime": {
     "end_time": "2024-12-12T20:55:17.843025Z",
     "start_time": "2024-12-12T20:55:17.115632Z"
    }
   },
   "id": "6fe61544d81a122f",
   "execution_count": 3
  },
  {
   "cell_type": "code",
   "outputs": [],
   "source": [
    "block_dict = {'flat': model.classifier.flatten}"
   ],
   "metadata": {
    "collapsed": false,
    "ExecuteTime": {
     "end_time": "2024-12-12T20:55:17.845411Z",
     "start_time": "2024-12-12T20:55:17.843701Z"
    }
   },
   "id": "3cd0d441f95da1ef",
   "execution_count": 4
  },
  {
   "cell_type": "code",
   "outputs": [
    {
     "name": "stderr",
     "output_type": "stream",
     "text": [
      "100%|██████████| 21/21 [00:07<00:00,  2.66it/s]\n"
     ]
    }
   ],
   "source": [
    "import torch\n",
    "import numpy as np\n",
    "from sklearn.decomposition import PCA\n",
    "import seaborn as sns\n",
    "import matplotlib.pyplot as plt\n",
    "from torch.utils.data import DataLoader\n",
    "\n",
    "model.eval()\n",
    "\n",
    "activations = []\n",
    "PD = []\n",
    "sex = []\n",
    "study = []\n",
    "scanner_type = []\n",
    "\n",
    "\n",
    "def hook_fn(module, input, module_output):\n",
    "    activations.append(module_output.cpu().detach().numpy())\n",
    "\n",
    "\n",
    "hook = block_dict[test_block].register_forward_hook(hook_fn)\n",
    "\n",
    "td = TD(f'/data/Data/PD/{mode}')\n",
    "test_loader = DataLoader(td, batch_size=8, shuffle=False)\n",
    "# Collect activations\n",
    "with torch.no_grad():\n",
    "    for batch in tqdm(test_loader):\n",
    "        _ = model(batch[0].to('cuda'))\n",
    "        PD.extend(batch[1])\n",
    "        sex.extend(batch[2])\n",
    "        study.extend(batch[3])\n",
    "        scanner_type.extend(batch[4])\n",
    "    hook.remove()"
   ],
   "metadata": {
    "collapsed": false,
    "ExecuteTime": {
     "end_time": "2024-12-12T20:55:25.793847Z",
     "start_time": "2024-12-12T20:55:17.846070Z"
    }
   },
   "id": "29d9cc319bcfa32d",
   "execution_count": 5
  },
  {
   "cell_type": "code",
   "outputs": [],
   "source": [
    "activations = np.vstack(activations).reshape(td.__len__(), -1).squeeze()\n",
    "PD = np.array(PD)\n",
    "sex = np.array(sex)\n",
    "study = np.array(study)\n",
    "scanner_type = np.array(scanner_type)"
   ],
   "metadata": {
    "collapsed": false,
    "ExecuteTime": {
     "end_time": "2024-12-12T20:55:25.799313Z",
     "start_time": "2024-12-12T20:55:25.794493Z"
    }
   },
   "id": "8fe4c6b0349a7e23",
   "execution_count": 6
  },
  {
   "cell_type": "code",
   "outputs": [],
   "source": [
    "import os\n",
    "\n",
    "act_save_dir = f'/data/Data/PD/activations_{test_block}_{mode}'\n",
    "os.makedirs(act_save_dir, exist_ok=True)\n",
    "\n",
    "for i in range(len(activations)):\n",
    "    ten2 = torch.tensor(np.hstack([study[i], sex[i], scanner_type[i], PD[i], activations[i]])).to(torch.float)\n",
    "    torch.save(ten2, os.path.join(act_save_dir, f'{i}'))"
   ],
   "metadata": {
    "collapsed": false,
    "ExecuteTime": {
     "end_time": "2024-12-12T20:55:25.821731Z",
     "start_time": "2024-12-12T20:55:25.799923Z"
    }
   },
   "id": "ae811f27aefd4a3a",
   "execution_count": 7
  }
 ],
 "metadata": {
  "kernelspec": {
   "display_name": "Python 3",
   "language": "python",
   "name": "python3"
  },
  "language_info": {
   "codemirror_mode": {
    "name": "ipython",
    "version": 2
   },
   "file_extension": ".py",
   "mimetype": "text/x-python",
   "name": "python",
   "nbconvert_exporter": "python",
   "pygments_lexer": "ipython2",
   "version": "2.7.6"
  }
 },
 "nbformat": 4,
 "nbformat_minor": 5
}
