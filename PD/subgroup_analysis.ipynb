{
 "cells": [
  {
   "cell_type": "code",
   "execution_count": 13,
   "id": "initial_id",
   "metadata": {
    "ExecuteTime": {
     "end_time": "2024-12-12T20:52:37.195616Z",
     "start_time": "2024-12-12T20:52:36.844375Z"
    },
    "collapsed": true
   },
   "outputs": [],
   "source": [
    "import matplotlib.pyplot as plt\n",
    "import numpy as np\n",
    "import seaborn as sns\n",
    "import torch\n",
    "from sklearn.metrics import roc_curve, auc\n",
    "from torch.cuda.amp import autocast\n",
    "from torch.utils.data import DataLoader\n",
    "from tqdm import tqdm\n",
    "\n",
    "from models.sfcn_original import SFCN\n",
    "\n",
    "import sys\n",
    "\n",
    "sys.path.append(\"..\")\n",
    "from utils.datasets import TorchDataset as TD"
   ]
  },
  {
   "cell_type": "code",
   "execution_count": 14,
   "id": "a1275a0f3af9acfc",
   "metadata": {
    "ExecuteTime": {
     "end_time": "2024-12-12T20:52:37.198288Z",
     "start_time": "2024-12-12T20:52:37.196365Z"
    },
    "collapsed": false
   },
   "outputs": [],
   "source": [
    "mode = \"test\"\n",
    "dataloader = DataLoader(TD(f\"/data/Data/PD/{mode}\"), batch_size=8, shuffle=False)"
   ]
  },
  {
   "cell_type": "code",
   "execution_count": 15,
   "id": "6fe61544d81a122f",
   "metadata": {
    "ExecuteTime": {
     "end_time": "2024-12-12T20:52:38.717609Z",
     "start_time": "2024-12-12T20:52:37.904432Z"
    },
    "collapsed": false
   },
   "outputs": [
    {
     "data": {
      "text/plain": [
       "<All keys matched successfully>"
      ]
     },
     "execution_count": 15,
     "metadata": {},
     "output_type": "execute_result"
    }
   ],
   "source": [
    "model = SFCN(output_dim=1, channel_number=[28, 58, 128, 256, 256, 64]).to(\"cuda\")\n",
    "checkpoint = torch.load(\"checkpoints/PD-SFCN/best_model.pt\")\n",
    "model.load_state_dict(checkpoint[\"model_state_dict\"])"
   ]
  },
  {
   "cell_type": "code",
   "execution_count": 16,
   "id": "6c8a5d48ab5e3b30",
   "metadata": {
    "ExecuteTime": {
     "end_time": "2024-12-12T20:52:43.066364Z",
     "start_time": "2024-12-12T20:52:43.063848Z"
    },
    "collapsed": false
   },
   "outputs": [],
   "source": [
    "def sigmoid(z):\n",
    "    return 1 / (1 + np.exp(-z))\n",
    "\n",
    "\n",
    "def accuracy(y_true, y_pred, threshold=0.5):\n",
    "    y_pred = y_pred > threshold\n",
    "    return np.mean(y_pred == y_true)"
   ]
  },
  {
   "cell_type": "code",
   "execution_count": 17,
   "id": "4d7f288cf27516b",
   "metadata": {
    "ExecuteTime": {
     "end_time": "2024-12-12T20:52:43.499303Z",
     "start_time": "2024-12-12T20:52:43.495410Z"
    },
    "collapsed": false
   },
   "outputs": [],
   "source": [
    "@torch.no_grad()\n",
    "def test(model, dataloader, device=\"cuda\"):\n",
    "    model.eval()\n",
    "\n",
    "    pd_true = []\n",
    "    pd_pred = []\n",
    "    study = []\n",
    "    sex = []\n",
    "    scanner = []\n",
    "    for batch in tqdm(dataloader, desc=\"Test\"):\n",
    "        x = batch[0].to(device)\n",
    "        pd_true += batch[1].tolist()\n",
    "        sex += batch[2].tolist()\n",
    "        study += batch[3].tolist()\n",
    "        scanner += batch[4].tolist()\n",
    "\n",
    "        # Forward pass with mixed precision\n",
    "        with autocast():\n",
    "            pd_pred += model(x).detach().cpu().tolist()\n",
    "\n",
    "    return pd_true, pd_pred, sex, study, scanner"
   ]
  },
  {
   "cell_type": "code",
   "execution_count": 18,
   "id": "9e79692b2184bb20",
   "metadata": {
    "ExecuteTime": {
     "end_time": "2024-12-12T20:52:51.013842Z",
     "start_time": "2024-12-12T20:52:44.336682Z"
    },
    "collapsed": false
   },
   "outputs": [
    {
     "name": "stderr",
     "output_type": "stream",
     "text": [
      "Test: 100%|██████████| 42/42 [00:07<00:00,  5.92it/s]\n"
     ]
    }
   ],
   "source": [
    "pd_true, pd_pred, sex, study, scanner = test(model, dataloader)"
   ]
  },
  {
   "cell_type": "code",
   "execution_count": 19,
   "id": "d01087ccefaed4b0",
   "metadata": {
    "ExecuteTime": {
     "end_time": "2024-12-12T20:52:51.993060Z",
     "start_time": "2024-12-12T20:52:51.989750Z"
    },
    "collapsed": false
   },
   "outputs": [],
   "source": [
    "pd_pred = sigmoid(np.array(pd_pred).flatten())\n",
    "pd_true = np.array(pd_true).flatten()\n",
    "acc = accuracy(pd_true, pd_pred)"
   ]
  },
  {
   "cell_type": "code",
   "execution_count": 20,
   "id": "868706e55a0716f9",
   "metadata": {
    "ExecuteTime": {
     "end_time": "2024-12-12T20:52:52.949855Z",
     "start_time": "2024-12-12T20:52:52.658121Z"
    },
    "collapsed": false
   },
   "outputs": [
    {
     "data": {
      "image/png": "[encoded data removed]",
      "text/plain": [
       "<Figure size 432x288 with 1 Axes>"
      ]
     },
     "metadata": {
      "needs_background": "light"
     },
     "output_type": "display_data"
    }
   ],
   "source": [
    "fpr, tpr, thresholds = roc_curve(pd_true, pd_pred)\n",
    "roc_auc = auc(fpr, tpr)\n",
    "\n",
    "plt.plot(fpr, tpr, label=f\"Overall ROC curve (area = {roc_auc})\")\n",
    "plt.xlim([0.0, 1.0])\n",
    "plt.ylim([0.0, 1.05])\n",
    "plt.xlabel(\"False Positive Rate\", fontsize=12)\n",
    "plt.ylabel(\"True Positive Rate\", fontsize=12)\n",
    "plt.title(\n",
    "    f\"Overall ROC Curve (area = {round(roc_auc, 2)}, accuracy = {round(acc, 3)})\",\n",
    "    fontsize=14,\n",
    ")\n",
    "plt.savefig(f\"/data/Papers/MICCAI-biases/subgroup-analysis/overall.pdf\", dpi=300)"
   ]
  },
  {
   "cell_type": "code",
   "execution_count": 21,
   "id": "b5159e65f960dda6",
   "metadata": {
    "ExecuteTime": {
     "end_time": "2024-12-12T20:52:59.020546Z",
     "start_time": "2024-12-12T20:52:59.010405Z"
    },
    "collapsed": false
   },
   "outputs": [
    {
     "data": {
      "text/html": [
       "<div>\n",
       "<style scoped>\n",
       "    .dataframe tbody tr th:only-of-type {\n",
       "        vertical-align: middle;\n",
       "    }\n",
       "\n",
       "    .dataframe tbody tr th {\n",
       "        vertical-align: top;\n",
       "    }\n",
       "\n",
       "    .dataframe thead th {\n",
       "        text-align: right;\n",
       "    }\n",
       "</style>\n",
       "<table border=\"1\" class=\"dataframe\">\n",
       "  <thead>\n",
       "    <tr style=\"text-align: right;\">\n",
       "      <th></th>\n",
       "      <th>pd_true</th>\n",
       "      <th>pd_pred</th>\n",
       "      <th>Sex</th>\n",
       "      <th>Site</th>\n",
       "      <th>scanner</th>\n",
       "    </tr>\n",
       "  </thead>\n",
       "  <tbody>\n",
       "    <tr>\n",
       "      <th>0</th>\n",
       "      <td>1</td>\n",
       "      <td>0.702224</td>\n",
       "      <td>1</td>\n",
       "      <td>3</td>\n",
       "      <td>2</td>\n",
       "    </tr>\n",
       "    <tr>\n",
       "      <th>1</th>\n",
       "      <td>0</td>\n",
       "      <td>0.349089</td>\n",
       "      <td>1</td>\n",
       "      <td>1</td>\n",
       "      <td>1</td>\n",
       "    </tr>\n",
       "    <tr>\n",
       "      <th>2</th>\n",
       "      <td>0</td>\n",
       "      <td>0.423220</td>\n",
       "      <td>1</td>\n",
       "      <td>0</td>\n",
       "      <td>0</td>\n",
       "    </tr>\n",
       "    <tr>\n",
       "      <th>3</th>\n",
       "      <td>0</td>\n",
       "      <td>0.682468</td>\n",
       "      <td>0</td>\n",
       "      <td>8</td>\n",
       "      <td>7</td>\n",
       "    </tr>\n",
       "    <tr>\n",
       "      <th>4</th>\n",
       "      <td>0</td>\n",
       "      <td>0.649134</td>\n",
       "      <td>1</td>\n",
       "      <td>6</td>\n",
       "      <td>5</td>\n",
       "    </tr>\n",
       "    <tr>\n",
       "      <th>...</th>\n",
       "      <td>...</td>\n",
       "      <td>...</td>\n",
       "      <td>...</td>\n",
       "      <td>...</td>\n",
       "      <td>...</td>\n",
       "    </tr>\n",
       "    <tr>\n",
       "      <th>329</th>\n",
       "      <td>1</td>\n",
       "      <td>0.871803</td>\n",
       "      <td>1</td>\n",
       "      <td>4</td>\n",
       "      <td>3</td>\n",
       "    </tr>\n",
       "    <tr>\n",
       "      <th>330</th>\n",
       "      <td>1</td>\n",
       "      <td>0.470144</td>\n",
       "      <td>0</td>\n",
       "      <td>5</td>\n",
       "      <td>4</td>\n",
       "    </tr>\n",
       "    <tr>\n",
       "      <th>331</th>\n",
       "      <td>0</td>\n",
       "      <td>0.651909</td>\n",
       "      <td>0</td>\n",
       "      <td>1</td>\n",
       "      <td>1</td>\n",
       "    </tr>\n",
       "    <tr>\n",
       "      <th>332</th>\n",
       "      <td>1</td>\n",
       "      <td>0.489099</td>\n",
       "      <td>1</td>\n",
       "      <td>8</td>\n",
       "      <td>7</td>\n",
       "    </tr>\n",
       "    <tr>\n",
       "      <th>333</th>\n",
       "      <td>1</td>\n",
       "      <td>0.821903</td>\n",
       "      <td>1</td>\n",
       "      <td>5</td>\n",
       "      <td>4</td>\n",
       "    </tr>\n",
       "  </tbody>\n",
       "</table>\n",
       "<p>334 rows × 5 columns</p>\n",
       "</div>"
      ],
      "text/plain": [
       "     pd_true   pd_pred  Sex  Site  scanner\n",
       "0          1  0.702224    1     3        2\n",
       "1          0  0.349089    1     1        1\n",
       "2          0  0.423220    1     0        0\n",
       "3          0  0.682468    0     8        7\n",
       "4          0  0.649134    1     6        5\n",
       "..       ...       ...  ...   ...      ...\n",
       "329        1  0.871803    1     4        3\n",
       "330        1  0.470144    0     5        4\n",
       "331        0  0.651909    0     1        1\n",
       "332        1  0.489099    1     8        7\n",
       "333        1  0.821903    1     5        4\n",
       "\n",
       "[334 rows x 5 columns]"
      ]
     },
     "execution_count": 21,
     "metadata": {},
     "output_type": "execute_result"
    }
   ],
   "source": [
    "import pandas as pd\n",
    "\n",
    "df = pd.DataFrame(\n",
    "    {\n",
    "        \"pd_true\": pd_true,\n",
    "        \"pd_pred\": pd_pred,\n",
    "        \"Sex\": sex,\n",
    "        \"Site\": study,\n",
    "        \"scanner\": scanner,\n",
    "    }\n",
    ")\n",
    "df"
   ]
  },
  {
   "cell_type": "code",
   "execution_count": 27,
   "id": "1e6f75b2edd0737b",
   "metadata": {
    "ExecuteTime": {
     "end_time": "2024-12-12T20:53:08.479649Z",
     "start_time": "2024-12-12T20:53:08.466044Z"
    },
    "collapsed": false
   },
   "outputs": [],
   "source": [
    "def compute_subgroup_rocs(\n",
    "    df, y_true_col=\"pd_true\", y_prob_col=\"pd_pred\", subgroup_col=\"scanner\"\n",
    "):\n",
    "    unique_scanners = df[subgroup_col].unique()\n",
    "\n",
    "    metrics = {}\n",
    "    for scanner in unique_scanners:\n",
    "        scanner_df = df[df[subgroup_col] == scanner]\n",
    "        y_true = scanner_df[y_true_col]\n",
    "        y_prob = scanner_df[y_prob_col]\n",
    "\n",
    "        try:\n",
    "            fpr, tpr, thresholds = roc_curve(y_true, y_prob)\n",
    "            roc_auc = auc(fpr, tpr)\n",
    "\n",
    "            metrics[scanner] = {\n",
    "                \"fpr\": fpr,\n",
    "                \"tpr\": tpr,\n",
    "                \"thresholds\": thresholds,\n",
    "                \"auc\": roc_auc,\n",
    "                \"total_samples\": len(scanner_df),\n",
    "            }\n",
    "\n",
    "        except ValueError as e:\n",
    "            print(f\"Error computing ROC for {subgroup_col} {scanner}: {e}\")\n",
    "\n",
    "    return metrics"
   ]
  },
  {
   "cell_type": "code",
   "execution_count": 28,
   "id": "35b2c9c4445ac9a",
   "metadata": {
    "ExecuteTime": {
     "end_time": "2024-12-12T20:57:36.275691Z",
     "start_time": "2024-12-12T20:57:35.366046Z"
    },
    "collapsed": false
   },
   "outputs": [],
   "source": [
    "site_metrics = compute_subgroup_rocs(df, subgroup_col=\"Site\")\n",
    "sex_metrics = compute_subgroup_rocs(df, subgroup_col=\"Sex\")"
   ]
  },
  {
   "cell_type": "code",
   "execution_count": 32,
   "id": "b6e2cdaa019e84f3",
   "metadata": {
    "collapsed": false
   },
   "outputs": [],
   "source": [
    "site_rocs = [site_metrics[i][\"auc\"] for i in range(len(site_metrics))]\n",
    "sex_rocs = [sex_metrics[0][\"auc\"], sex_metrics[1][\"auc\"]]"
   ]
  },
  {
   "cell_type": "code",
   "execution_count": 56,
   "id": "78658c12",
   "metadata": {},
   "outputs": [
    {
     "data": {
      "text/plain": [
       "[0.6575342465753424, 0.7943331178625296]"
      ]
     },
     "execution_count": 56,
     "metadata": {},
     "output_type": "execute_result"
    }
   ],
   "source": [
    "sex_rocs"
   ]
  },
  {
   "cell_type": "code",
   "execution_count": 57,
   "id": "821f44f1",
   "metadata": {},
   "outputs": [
    {
     "data": {
      "text/plain": [
       "<Figure size 720x288 with 0 Axes>"
      ]
     },
     "metadata": {},
     "output_type": "display_data"
    },
    {
     "data": {
      "image/png": "[encoded data removed]",
      "text/plain": [
       "<Figure size 432x288 with 2 Axes>"
      ]
     },
     "metadata": {
      "needs_background": "light"
     },
     "output_type": "display_data"
    }
   ],
   "source": [
    "plt.figure(figsize=(10, 4))\n",
    "fig, ax = plt.subplots(1, 2)\n",
    "sns.barplot(x=np.arange(9), y=site_rocs, ax=ax[0], color=\"skyblue\")\n",
    "ax[0].set(xlabel=\"Site\", ylabel=\"AUROC\")\n",
    "ax[0].axhline(0.5, color=\"red\", linestyle=\"--\", label=\"Chance level\")\n",
    "\n",
    "sns.barplot(x=[\"Female\", \"Male\"], y=sex_rocs, ax=ax[1], color=\"plum\")\n",
    "ax[1].set(xlabel=\"Sex\")\n",
    "ax[1].axhline(0.5, color=\"red\", linestyle=\"--\", label=\"Chance level\")\n",
    "\n",
    "fig.suptitle(\"PD classification AUROCs by subgroups\")\n",
    "\n",
    "plt.savefig(f\"/data/Papers/MICCAI-biases/subgroup-analysis/subgroups.pdf\", dpi=300)\n"
   ]
  },
  {
   "cell_type": "code",
   "execution_count": null,
   "id": "ee4dd569",
   "metadata": {},
   "outputs": [],
   "source": []
  }
 ],
 "metadata": {
  "kernelspec": {
   "display_name": "deep",
   "language": "python",
   "name": "python3"
  },
  "language_info": {
   "codemirror_mode": {
    "name": "ipython",
    "version": 3
   },
   "file_extension": ".py",
   "mimetype": "text/x-python",
   "name": "python",
   "nbconvert_exporter": "python",
   "pygments_lexer": "ipython3",
   "version": "3.8.13"
  }
 },
 "nbformat": 4,
 "nbformat_minor": 5
}
