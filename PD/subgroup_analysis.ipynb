{
 "cells": [
  {
   "cell_type": "code",
   "execution_count": 108,
   "id": "initial_id",
   "metadata": {
    "collapsed": true,
    "ExecuteTime": {
     "end_time": "2024-12-07T16:50:09.153843Z",
     "start_time": "2024-12-07T16:50:09.150845Z"
    }
   },
   "outputs": [],
   "source": [
    "\n",
    "import matplotlib.pyplot as plt\n",
    "import numpy as np\n",
    "import seaborn as sns\n",
    "import torch\n",
    "from sklearn.metrics import roc_curve, auc\n",
    "from torch.cuda.amp import autocast\n",
    "from torch.utils.data import DataLoader\n",
    "from tqdm import tqdm\n",
    "\n",
    "from models.sfcn_original import SFCN\n",
    "from utils.datasets import TorchDataset as TD"
   ]
  },
  {
   "cell_type": "code",
   "outputs": [],
   "source": [
    "mode = 'test'\n",
    "dataloader = DataLoader(TD(f'/data/Data/PD/{mode}'), batch_size=8, shuffle=False)"
   ],
   "metadata": {
    "collapsed": false,
    "ExecuteTime": {
     "end_time": "2024-12-07T00:37:30.648533Z",
     "start_time": "2024-12-07T00:37:30.645931Z"
    }
   },
   "id": "a1275a0f3af9acfc",
   "execution_count": 8
  },
  {
   "cell_type": "code",
   "outputs": [
    {
     "data": {
      "text/plain": "<All keys matched successfully>"
     },
     "execution_count": 9,
     "metadata": {},
     "output_type": "execute_result"
    }
   ],
   "source": [
    "model = SFCN(output_dim=1, channel_number=[28, 58, 128, 256, 256, 64]).to('cuda')\n",
    "checkpoint = torch.load('checkpoints/PD-SFCN/best_model.pt')\n",
    "model.load_state_dict(checkpoint['model_state_dict'])"
   ],
   "metadata": {
    "collapsed": false,
    "ExecuteTime": {
     "end_time": "2024-12-07T00:37:31.094789Z",
     "start_time": "2024-12-07T00:37:31.042866Z"
    }
   },
   "id": "6fe61544d81a122f",
   "execution_count": 9
  },
  {
   "cell_type": "code",
   "outputs": [
    {
     "name": "stdout",
     "output_type": "stream",
     "text": [
      "Shape of output from Conv3d: torch.Size([8, 28, 160, 192, 160])\n",
      "Shape of output from Conv3d: torch.Size([8, 28, 160, 192, 160])\n",
      "Shape of output from Conv3d: torch.Size([8, 28, 160, 192, 160])\n",
      "Shape of output from BatchNorm3d: torch.Size([8, 28, 160, 192, 160])\n",
      "Shape of output from BatchNorm3d: torch.Size([8, 28, 160, 192, 160])\n",
      "Shape of output from BatchNorm3d: torch.Size([8, 28, 160, 192, 160])\n",
      "Shape of output from MaxPool3d: torch.Size([8, 28, 80, 96, 80])\n",
      "Shape of output from MaxPool3d: torch.Size([8, 28, 80, 96, 80])\n",
      "Shape of output from MaxPool3d: torch.Size([8, 28, 80, 96, 80])\n",
      "Shape of output from ReLU: torch.Size([8, 28, 80, 96, 80])\n",
      "Shape of output from ReLU: torch.Size([8, 28, 80, 96, 80])\n",
      "Shape of output from ReLU: torch.Size([8, 28, 80, 96, 80])\n",
      "Shape of output from Sequential: torch.Size([8, 28, 80, 96, 80])\n",
      "Shape of output from Sequential: torch.Size([8, 28, 80, 96, 80])\n",
      "Shape of output from Sequential: torch.Size([8, 28, 80, 96, 80])\n",
      "Shape of output from Conv3d: torch.Size([8, 58, 80, 96, 80])\n",
      "Shape of output from Conv3d: torch.Size([8, 58, 80, 96, 80])\n",
      "Shape of output from Conv3d: torch.Size([8, 58, 80, 96, 80])\n",
      "Shape of output from BatchNorm3d: torch.Size([8, 58, 80, 96, 80])\n",
      "Shape of output from BatchNorm3d: torch.Size([8, 58, 80, 96, 80])\n",
      "Shape of output from BatchNorm3d: torch.Size([8, 58, 80, 96, 80])\n",
      "Shape of output from MaxPool3d: torch.Size([8, 58, 40, 48, 40])\n",
      "Shape of output from MaxPool3d: torch.Size([8, 58, 40, 48, 40])\n",
      "Shape of output from MaxPool3d: torch.Size([8, 58, 40, 48, 40])\n",
      "Shape of output from ReLU: torch.Size([8, 58, 40, 48, 40])\n",
      "Shape of output from ReLU: torch.Size([8, 58, 40, 48, 40])\n",
      "Shape of output from ReLU: torch.Size([8, 58, 40, 48, 40])\n",
      "Shape of output from Sequential: torch.Size([8, 58, 40, 48, 40])\n",
      "Shape of output from Sequential: torch.Size([8, 58, 40, 48, 40])\n",
      "Shape of output from Sequential: torch.Size([8, 58, 40, 48, 40])\n",
      "Shape of output from Conv3d: torch.Size([8, 128, 40, 48, 40])\n",
      "Shape of output from Conv3d: torch.Size([8, 128, 40, 48, 40])\n",
      "Shape of output from Conv3d: torch.Size([8, 128, 40, 48, 40])\n",
      "Shape of output from BatchNorm3d: torch.Size([8, 128, 40, 48, 40])\n",
      "Shape of output from BatchNorm3d: torch.Size([8, 128, 40, 48, 40])\n",
      "Shape of output from BatchNorm3d: torch.Size([8, 128, 40, 48, 40])\n",
      "Shape of output from MaxPool3d: torch.Size([8, 128, 20, 24, 20])\n",
      "Shape of output from MaxPool3d: torch.Size([8, 128, 20, 24, 20])\n",
      "Shape of output from MaxPool3d: torch.Size([8, 128, 20, 24, 20])\n",
      "Shape of output from ReLU: torch.Size([8, 128, 20, 24, 20])\n",
      "Shape of output from ReLU: torch.Size([8, 128, 20, 24, 20])\n",
      "Shape of output from ReLU: torch.Size([8, 128, 20, 24, 20])\n",
      "Shape of output from Sequential: torch.Size([8, 128, 20, 24, 20])\n",
      "Shape of output from Sequential: torch.Size([8, 128, 20, 24, 20])\n",
      "Shape of output from Sequential: torch.Size([8, 128, 20, 24, 20])\n",
      "Shape of output from Conv3d: torch.Size([8, 256, 20, 24, 20])\n",
      "Shape of output from Conv3d: torch.Size([8, 256, 20, 24, 20])\n",
      "Shape of output from Conv3d: torch.Size([8, 256, 20, 24, 20])\n",
      "Shape of output from BatchNorm3d: torch.Size([8, 256, 20, 24, 20])\n",
      "Shape of output from BatchNorm3d: torch.Size([8, 256, 20, 24, 20])\n",
      "Shape of output from BatchNorm3d: torch.Size([8, 256, 20, 24, 20])\n",
      "Shape of output from MaxPool3d: torch.Size([8, 256, 10, 12, 10])\n",
      "Shape of output from MaxPool3d: torch.Size([8, 256, 10, 12, 10])\n",
      "Shape of output from MaxPool3d: torch.Size([8, 256, 10, 12, 10])\n",
      "Shape of output from ReLU: torch.Size([8, 256, 10, 12, 10])\n",
      "Shape of output from ReLU: torch.Size([8, 256, 10, 12, 10])\n",
      "Shape of output from ReLU: torch.Size([8, 256, 10, 12, 10])\n",
      "Shape of output from Sequential: torch.Size([8, 256, 10, 12, 10])\n",
      "Shape of output from Sequential: torch.Size([8, 256, 10, 12, 10])\n",
      "Shape of output from Sequential: torch.Size([8, 256, 10, 12, 10])\n",
      "Shape of output from Conv3d: torch.Size([8, 256, 10, 12, 10])\n",
      "Shape of output from Conv3d: torch.Size([8, 256, 10, 12, 10])\n",
      "Shape of output from Conv3d: torch.Size([8, 256, 10, 12, 10])\n",
      "Shape of output from BatchNorm3d: torch.Size([8, 256, 10, 12, 10])\n",
      "Shape of output from BatchNorm3d: torch.Size([8, 256, 10, 12, 10])\n",
      "Shape of output from BatchNorm3d: torch.Size([8, 256, 10, 12, 10])\n",
      "Shape of output from MaxPool3d: torch.Size([8, 256, 5, 6, 5])\n",
      "Shape of output from MaxPool3d: torch.Size([8, 256, 5, 6, 5])\n",
      "Shape of output from MaxPool3d: torch.Size([8, 256, 5, 6, 5])\n",
      "Shape of output from ReLU: torch.Size([8, 256, 5, 6, 5])\n",
      "Shape of output from ReLU: torch.Size([8, 256, 5, 6, 5])\n",
      "Shape of output from ReLU: torch.Size([8, 256, 5, 6, 5])\n",
      "Shape of output from Sequential: torch.Size([8, 256, 5, 6, 5])\n",
      "Shape of output from Sequential: torch.Size([8, 256, 5, 6, 5])\n",
      "Shape of output from Sequential: torch.Size([8, 256, 5, 6, 5])\n",
      "Shape of output from Conv3d: torch.Size([8, 64, 5, 6, 5])\n",
      "Shape of output from Conv3d: torch.Size([8, 64, 5, 6, 5])\n",
      "Shape of output from Conv3d: torch.Size([8, 64, 5, 6, 5])\n",
      "Shape of output from BatchNorm3d: torch.Size([8, 64, 5, 6, 5])\n",
      "Shape of output from BatchNorm3d: torch.Size([8, 64, 5, 6, 5])\n",
      "Shape of output from BatchNorm3d: torch.Size([8, 64, 5, 6, 5])\n",
      "Shape of output from ReLU: torch.Size([8, 64, 5, 6, 5])\n",
      "Shape of output from ReLU: torch.Size([8, 64, 5, 6, 5])\n",
      "Shape of output from ReLU: torch.Size([8, 64, 5, 6, 5])\n",
      "Shape of output from Sequential: torch.Size([8, 64, 5, 6, 5])\n",
      "Shape of output from Sequential: torch.Size([8, 64, 5, 6, 5])\n",
      "Shape of output from Sequential: torch.Size([8, 64, 5, 6, 5])\n",
      "Shape of output from Sequential: torch.Size([8, 64, 5, 6, 5])\n",
      "Shape of output from Sequential: torch.Size([8, 64, 5, 6, 5])\n",
      "Shape of output from Sequential: torch.Size([8, 64, 5, 6, 5])\n",
      "Shape of output from AvgPool3d: torch.Size([8, 64, 1, 1, 1])\n",
      "Shape of output from AvgPool3d: torch.Size([8, 64, 1, 1, 1])\n",
      "Shape of output from AvgPool3d: torch.Size([8, 64, 1, 1, 1])\n",
      "Shape of output from Dropout: torch.Size([8, 64, 1, 1, 1])\n",
      "Shape of output from Dropout: torch.Size([8, 64, 1, 1, 1])\n",
      "Shape of output from Dropout: torch.Size([8, 64, 1, 1, 1])\n",
      "Shape of output from Conv3d: torch.Size([8, 1, 1, 1, 1])\n",
      "Shape of output from Conv3d: torch.Size([8, 1, 1, 1, 1])\n",
      "Shape of output from Conv3d: torch.Size([8, 1, 1, 1, 1])\n",
      "Shape of output from Sequential: torch.Size([8, 1, 1, 1, 1])\n",
      "Shape of output from Sequential: torch.Size([8, 1, 1, 1, 1])\n",
      "Shape of output from Sequential: torch.Size([8, 1, 1, 1, 1])\n",
      "Shape of output from SFCN: torch.Size([8, 1, 1, 1, 1])\n",
      "Shape of output from SFCN: torch.Size([8, 1, 1, 1, 1])\n",
      "Shape of output from SFCN: torch.Size([8, 1, 1, 1, 1])\n"
     ]
    }
   ],
   "source": [
    "import torch\n",
    "\n",
    "def print_shape_hook(self, input, output):\n",
    "  print(f\"Shape of output from {self.__class__.__name__}: {output.shape}\")\n",
    "  \n",
    "# Assuming you have a model named 'model'\n",
    "for name, module in model.named_modules():\n",
    "  module.register_forward_hook(print_shape_hook)\n",
    "  \n",
    "# Assuming 'input_data' is your input tensor\n",
    "output = model(next(iter(dataloader))[0].cuda())"
   ],
   "metadata": {
    "collapsed": false,
    "ExecuteTime": {
     "end_time": "2024-12-09T17:00:27.520404Z",
     "start_time": "2024-12-09T17:00:27.369438Z"
    }
   },
   "id": "c49d5f4e3dab1ba9",
   "execution_count": 124
  },
  {
   "cell_type": "code",
   "outputs": [
    {
     "name": "stdout",
     "output_type": "stream",
     "text": [
      "Sequential(\n",
      "  (conv_0): Sequential(\n",
      "    (0): Conv3d(1, 28, kernel_size=(3, 3, 3), stride=(1, 1, 1), padding=(1, 1, 1))\n",
      "    (1): BatchNorm3d(28, eps=1e-05, momentum=0.1, affine=True, track_running_stats=True)\n",
      "    (2): MaxPool3d(kernel_size=2, stride=2, padding=0, dilation=1, ceil_mode=False)\n",
      "    (3): ReLU()\n",
      "  )\n",
      "  (conv_1): Sequential(\n",
      "    (0): Conv3d(28, 58, kernel_size=(3, 3, 3), stride=(1, 1, 1), padding=(1, 1, 1))\n",
      "    (1): BatchNorm3d(58, eps=1e-05, momentum=0.1, affine=True, track_running_stats=True)\n",
      "    (2): MaxPool3d(kernel_size=2, stride=2, padding=0, dilation=1, ceil_mode=False)\n",
      "    (3): ReLU()\n",
      "  )\n",
      "  (conv_2): Sequential(\n",
      "    (0): Conv3d(58, 128, kernel_size=(3, 3, 3), stride=(1, 1, 1), padding=(1, 1, 1))\n",
      "    (1): BatchNorm3d(128, eps=1e-05, momentum=0.1, affine=True, track_running_stats=True)\n",
      "    (2): MaxPool3d(kernel_size=2, stride=2, padding=0, dilation=1, ceil_mode=False)\n",
      "    (3): ReLU()\n",
      "  )\n",
      "  (conv_3): Sequential(\n",
      "    (0): Conv3d(128, 256, kernel_size=(3, 3, 3), stride=(1, 1, 1), padding=(1, 1, 1))\n",
      "    (1): BatchNorm3d(256, eps=1e-05, momentum=0.1, affine=True, track_running_stats=True)\n",
      "    (2): MaxPool3d(kernel_size=2, stride=2, padding=0, dilation=1, ceil_mode=False)\n",
      "    (3): ReLU()\n",
      "  )\n",
      "  (conv_4): Sequential(\n",
      "    (0): Conv3d(256, 256, kernel_size=(3, 3, 3), stride=(1, 1, 1), padding=(1, 1, 1))\n",
      "    (1): BatchNorm3d(256, eps=1e-05, momentum=0.1, affine=True, track_running_stats=True)\n",
      "    (2): MaxPool3d(kernel_size=2, stride=2, padding=0, dilation=1, ceil_mode=False)\n",
      "    (3): ReLU()\n",
      "  )\n",
      "  (conv_5): Sequential(\n",
      "    (0): Conv3d(256, 64, kernel_size=(1, 1, 1), stride=(1, 1, 1))\n",
      "    (1): BatchNorm3d(64, eps=1e-05, momentum=0.1, affine=True, track_running_stats=True)\n",
      "    (2): ReLU()\n",
      "  )\n",
      ")\n",
      "Sequential(\n",
      "  (average_pool): AvgPool3d(kernel_size=[5, 6, 5], stride=[5, 6, 5], padding=0)\n",
      "  (dropout): Dropout(p=0.5, inplace=False)\n",
      "  (conv_6): Conv3d(64, 1, kernel_size=(1, 1, 1), stride=(1, 1, 1))\n",
      ")\n"
     ]
    }
   ],
   "source": [
    "for m in model.children():\n",
    "    print(m)"
   ],
   "metadata": {
    "collapsed": false,
    "ExecuteTime": {
     "end_time": "2024-12-07T16:59:21.930628Z",
     "start_time": "2024-12-07T16:59:21.927274Z"
    }
   },
   "id": "2937b02c94ce01a3",
   "execution_count": 121
  },
  {
   "cell_type": "code",
   "outputs": [],
   "source": [
    "def sigmoid(z):\n",
    "    return 1 / (1 + np.exp(-z))\n",
    "\n",
    "\n",
    "def accuracy(y_true, y_pred, threshold=0.5):\n",
    "    y_pred = y_pred > threshold\n",
    "    return np.mean(y_pred == y_true)"
   ],
   "metadata": {
    "collapsed": false,
    "ExecuteTime": {
     "end_time": "2024-12-07T00:43:43.941903Z",
     "start_time": "2024-12-07T00:43:43.936404Z"
    }
   },
   "id": "6c8a5d48ab5e3b30",
   "execution_count": 27
  },
  {
   "cell_type": "code",
   "outputs": [],
   "source": [
    "@torch.no_grad()\n",
    "def test(model, dataloader, device='cuda'):\n",
    "    model.eval()\n",
    "\n",
    "    pd_true = []\n",
    "    pd_pred = []\n",
    "    study = []\n",
    "    sex = []\n",
    "    scanner = []\n",
    "    for batch in tqdm(dataloader, desc='Test'):\n",
    "        x = batch[0].to(device)\n",
    "        pd_true += batch[1].tolist()\n",
    "        sex += batch[2].tolist()\n",
    "        study += batch[3].tolist()\n",
    "        scanner += batch[4].tolist()\n",
    "\n",
    "        # Forward pass with mixed precision\n",
    "        with autocast():\n",
    "            pd_pred += model(x).detach().cpu().tolist()\n",
    "\n",
    "    return pd_true, pd_pred, sex, study, scanner"
   ],
   "metadata": {
    "collapsed": false,
    "ExecuteTime": {
     "end_time": "2024-12-07T00:43:52.325894Z",
     "start_time": "2024-12-07T00:43:52.322366Z"
    }
   },
   "id": "4d7f288cf27516b",
   "execution_count": 29
  },
  {
   "cell_type": "code",
   "outputs": [
    {
     "name": "stderr",
     "output_type": "stream",
     "text": [
      "Test: 100%|██████████| 33/33 [00:05<00:00,  5.67it/s]\n"
     ]
    }
   ],
   "source": [
    "pd_true, pd_pred, sex, study, scanner = test(model, dataloader)"
   ],
   "metadata": {
    "collapsed": false,
    "ExecuteTime": {
     "end_time": "2024-12-07T00:43:59.556290Z",
     "start_time": "2024-12-07T00:43:53.724685Z"
    }
   },
   "id": "9e79692b2184bb20",
   "execution_count": 30
  },
  {
   "cell_type": "code",
   "outputs": [
    {
     "data": {
      "text/plain": "0.816793893129771"
     },
     "execution_count": 31,
     "metadata": {},
     "output_type": "execute_result"
    }
   ],
   "source": [
    "pd_pred = sigmoid(np.array(pd_pred).flatten())\n",
    "pd_true = np.array(pd_true).flatten()\n",
    "acc = accuracy(pd_true, pd_pred)"
   ],
   "metadata": {
    "collapsed": false,
    "ExecuteTime": {
     "end_time": "2024-12-07T00:44:00.128990Z",
     "start_time": "2024-12-07T00:44:00.125253Z"
    }
   },
   "id": "d01087ccefaed4b0",
   "execution_count": 31
  },
  {
   "cell_type": "code",
   "outputs": [
    {
     "data": {
      "text/plain": "<Figure size 432x288 with 1 Axes>",
      "image/png": "[encoded data removed]"
     },
     "metadata": {
      "needs_background": "light"
     },
     "output_type": "display_data"
    }
   ],
   "source": [
    "fpr, tpr, thresholds = roc_curve(pd_true, pd_pred)\n",
    "roc_auc = auc(fpr, tpr)\n",
    "\n",
    "plt.plot(fpr, tpr, label=f'Overall ROC curve (area = {roc_auc})')\n",
    "plt.xlim([0.0, 1.0])\n",
    "plt.ylim([0.0, 1.05])\n",
    "plt.xlabel('False Positive Rate', fontsize=12)\n",
    "plt.ylabel('True Positive Rate', fontsize=12)\n",
    "plt.title(f'Overall ROC Curve (area = {round(roc_auc,2)}, accuracy = {round(acc,2)})', fontsize=14)\n",
    "plt.savefig(f'/data/Papers/MICCAI-biases/subgroup-analysis/overall.pdf', dpi=300)"
   ],
   "metadata": {
    "collapsed": false,
    "ExecuteTime": {
     "end_time": "2024-12-07T16:54:59.489386Z",
     "start_time": "2024-12-07T16:54:59.350181Z"
    }
   },
   "id": "868706e55a0716f9",
   "execution_count": 117
  },
  {
   "cell_type": "code",
   "outputs": [
    {
     "data": {
      "text/plain": "     pd_true   pd_pred  sex  study  scanner\n0          1  0.061199    1      0        0\n1          0  0.314261    1      0        0\n2          1  0.943660    1     11        9\n3          1  0.571886    0      4        4\n4          0  0.152032    1      0        0\n..       ...       ...  ...    ...      ...\n257        0  0.011072    0      6        5\n258        1  0.103386    1      0        0\n259        0  0.010209    1      6        5\n260        1  0.885235    1     11        9\n261        0  0.015604    0      6        5\n\n[262 rows x 5 columns]",
      "text/html": "<div>\n<style scoped>\n    .dataframe tbody tr th:only-of-type {\n        vertical-align: middle;\n    }\n\n    .dataframe tbody tr th {\n        vertical-align: top;\n    }\n\n    .dataframe thead th {\n        text-align: right;\n    }\n</style>\n<table border=\"1\" class=\"dataframe\">\n  <thead>\n    <tr style=\"text-align: right;\">\n      <th></th>\n      <th>pd_true</th>\n      <th>pd_pred</th>\n      <th>sex</th>\n      <th>study</th>\n      <th>scanner</th>\n    </tr>\n  </thead>\n  <tbody>\n    <tr>\n      <th>0</th>\n      <td>1</td>\n      <td>0.061199</td>\n      <td>1</td>\n      <td>0</td>\n      <td>0</td>\n    </tr>\n    <tr>\n      <th>1</th>\n      <td>0</td>\n      <td>0.314261</td>\n      <td>1</td>\n      <td>0</td>\n      <td>0</td>\n    </tr>\n    <tr>\n      <th>2</th>\n      <td>1</td>\n      <td>0.943660</td>\n      <td>1</td>\n      <td>11</td>\n      <td>9</td>\n    </tr>\n    <tr>\n      <th>3</th>\n      <td>1</td>\n      <td>0.571886</td>\n      <td>0</td>\n      <td>4</td>\n      <td>4</td>\n    </tr>\n    <tr>\n      <th>4</th>\n      <td>0</td>\n      <td>0.152032</td>\n      <td>1</td>\n      <td>0</td>\n      <td>0</td>\n    </tr>\n    <tr>\n      <th>...</th>\n      <td>...</td>\n      <td>...</td>\n      <td>...</td>\n      <td>...</td>\n      <td>...</td>\n    </tr>\n    <tr>\n      <th>257</th>\n      <td>0</td>\n      <td>0.011072</td>\n      <td>0</td>\n      <td>6</td>\n      <td>5</td>\n    </tr>\n    <tr>\n      <th>258</th>\n      <td>1</td>\n      <td>0.103386</td>\n      <td>1</td>\n      <td>0</td>\n      <td>0</td>\n    </tr>\n    <tr>\n      <th>259</th>\n      <td>0</td>\n      <td>0.010209</td>\n      <td>1</td>\n      <td>6</td>\n      <td>5</td>\n    </tr>\n    <tr>\n      <th>260</th>\n      <td>1</td>\n      <td>0.885235</td>\n      <td>1</td>\n      <td>11</td>\n      <td>9</td>\n    </tr>\n    <tr>\n      <th>261</th>\n      <td>0</td>\n      <td>0.015604</td>\n      <td>0</td>\n      <td>6</td>\n      <td>5</td>\n    </tr>\n  </tbody>\n</table>\n<p>262 rows × 5 columns</p>\n</div>"
     },
     "execution_count": 32,
     "metadata": {},
     "output_type": "execute_result"
    }
   ],
   "source": [
    "import pandas as pd\n",
    "\n",
    "df = pd.DataFrame({'pd_true': pd_true, 'pd_pred': pd_pred, 'sex': sex, 'study': study, 'scanner': scanner})\n",
    "df"
   ],
   "metadata": {
    "collapsed": false,
    "ExecuteTime": {
     "end_time": "2024-12-07T00:44:04.089853Z",
     "start_time": "2024-12-07T00:44:04.082702Z"
    }
   },
   "id": "b5159e65f960dda6",
   "execution_count": 32
  },
  {
   "cell_type": "code",
   "outputs": [],
   "source": [
    "\n",
    "\n",
    "def compute_scanner_roc(df, y_true_col='pd_true', y_prob_col='pd_pred',\n",
    "                        subgroup_col='scanner'):\n",
    "    unique_scanners = df[subgroup_col].unique()\n",
    "\n",
    "    scanner_roc_metrics = {}\n",
    "    accuracy = {}\n",
    "    for scanner in unique_scanners:\n",
    "        # Filter dataframe for current scanner\n",
    "        scanner_df = df[df[subgroup_col] == scanner]\n",
    "\n",
    "        # Extract true labels and probabilities\n",
    "        y_true = scanner_df[y_true_col]\n",
    "        y_prob = scanner_df[y_prob_col]\n",
    "        acc = np.mean(y_true == (1 * y_prob > 0.5))\n",
    "        accuracy[scanner] = acc\n",
    "\n",
    "        print(f'Accuracy for {subgroup_col} {scanner}: {acc} ')\n",
    "\n",
    "        try:\n",
    "            # Compute ROC curve\n",
    "            fpr, tpr, thresholds = roc_curve(y_true, y_prob)\n",
    "            roc_auc = auc(fpr, tpr)\n",
    "\n",
    "            # Store metrics\n",
    "            scanner_roc_metrics[scanner] = {\n",
    "                'fpr': fpr,\n",
    "                'tpr': tpr,\n",
    "                'thresholds': thresholds,\n",
    "                'auc': roc_auc,\n",
    "                'total_samples': len(scanner_df)\n",
    "            }\n",
    "\n",
    "        except ValueError as e:\n",
    "            print(f\"Error computing ROC for {subgroup_col} {scanner}: {e}\")\n",
    "\n",
    "    return scanner_roc_metrics, accuracy\n",
    "\n",
    "\n",
    "def plot_scanner_roc_curves(df, y_true_col='y_true', y_prob_col='y_pred',\n",
    "                            subgroup_col='scanner', figsize=(12, 6)):\n",
    "    # Compute ROC metrics for each scanner\n",
    "    scanner_roc_metrics, accuracy = compute_scanner_roc(\n",
    "        df, y_true_col, y_prob_col, subgroup_col\n",
    "    )\n",
    "\n",
    "    fig, axs = plt.subplots(1, 2, figsize=figsize)\n",
    "    colors = sns.color_palette('husl', len(scanner_roc_metrics))\n",
    "\n",
    "    # Plot ROC for each scanner\n",
    "    for (scanner, metrics), color in zip(scanner_roc_metrics.items(), colors):\n",
    "        axs[0].plot(metrics['fpr'], metrics['tpr'],\n",
    "                    label=f'{scanner} (AUC = {metrics[\"auc\"]:.3f}, n={metrics[\"total_samples\"]})',\n",
    "                    color=color)\n",
    "\n",
    "    # Plot random classifier line\n",
    "    axs[0].plot([0, 1], [0, 1], 'k--', label='Random Classifier')\n",
    "\n",
    "    # Customize plot\n",
    "    axs[0].set_xlim([0.0, 1.0])\n",
    "    axs[0].set_ylim([0.0, 1.05])\n",
    "    axs[0].set_xlabel('False Positive Rate', fontsize=12)\n",
    "    axs[0].set_ylabel('True Positive Rate', fontsize=12)\n",
    "    axs[0].set_title(f'ROC Curves by {subgroup_col}', fontsize=14)\n",
    "    axs[0].legend(loc=\"lower right\", fontsize=10)\n",
    "    axs[0].grid(True, linestyle='--', alpha=0.7)\n",
    "\n",
    "    axs[1].bar(accuracy.keys(), accuracy.values(), color=colors)\n",
    "    axs[1].set_xlabel(f'{subgroup_col}', fontsize=12)\n",
    "    axs[1].set_ylabel('Accuracy (threshold=0.5)', fontsize=12)\n",
    "    axs[1].set_title(f'Accuracy by {subgroup_col}', fontsize=14)\n",
    "\n",
    "    plt.tight_layout()\n",
    "    plt.savefig(f'/data/Papers/MICCAI-biases/subgroup-analysis/{subgroup_col}.pdf', dpi=300)\n",
    "    plt.show()\n",
    "\n",
    "    return scanner_roc_metrics\n",
    "\n",
    "\n",
    "# Comprehensive analysis function\n",
    "def comprehensive_scanner_performance(df, y_true_col='pd_true', y_prob_col='pd_pred',\n",
    "                                      subgroup_col='scanner', thresholds=None):\n",
    "    if thresholds is None:\n",
    "        thresholds = np.linspace(0, 1, 100)\n",
    "\n",
    "    # Compute ROC curves\n",
    "    roc_metrics = plot_scanner_roc_curves(df, y_true_col, y_prob_col, subgroup_col)\n",
    "\n",
    "    return roc_metrics"
   ],
   "metadata": {
    "collapsed": false,
    "ExecuteTime": {
     "end_time": "2024-12-07T16:48:57.497461Z",
     "start_time": "2024-12-07T16:48:57.488464Z"
    }
   },
   "id": "1e6f75b2edd0737b",
   "execution_count": 106
  },
  {
   "cell_type": "code",
   "outputs": [
    {
     "name": "stdout",
     "output_type": "stream",
     "text": [
      "Accuracy for sex 1: 0.8466257668711656 \n",
      "Accuracy for sex 0: 0.7676767676767676 \n"
     ]
    },
    {
     "data": {
      "text/plain": "<Figure size 864x432 with 2 Axes>",
      "image/png": "[encoded data removed]"
     },
     "metadata": {
      "needs_background": "light"
     },
     "output_type": "display_data"
    },
    {
     "name": "stdout",
     "output_type": "stream",
     "text": [
      "\n",
      "Scanner 1:\n",
      "AUC: 0.925\n",
      "Total Samples: 163\n",
      "\n",
      "Scanner 0:\n",
      "AUC: 0.870\n",
      "Total Samples: 99\n"
     ]
    }
   ],
   "source": [
    "scanner_metrics = comprehensive_scanner_performance(df, subgroup_col='sex')\n",
    "\n",
    "for scanner, metrics in scanner_metrics.items():\n",
    "    print(f\"\\nScanner {scanner}:\")\n",
    "    print(f\"AUC: {metrics['auc']:.3f}\")\n",
    "    print(f\"Total Samples: {metrics['total_samples']}\")"
   ],
   "metadata": {
    "collapsed": false,
    "ExecuteTime": {
     "end_time": "2024-12-07T16:56:18.483840Z",
     "start_time": "2024-12-07T16:56:18.129185Z"
    }
   },
   "id": "35b2c9c4445ac9a",
   "execution_count": 119
  },
  {
   "cell_type": "code",
   "outputs": [],
   "source": [],
   "metadata": {
    "collapsed": false
   },
   "id": "689de993b9656111"
  }
 ],
 "metadata": {
  "kernelspec": {
   "display_name": "Python 3",
   "language": "python",
   "name": "python3"
  },
  "language_info": {
   "codemirror_mode": {
    "name": "ipython",
    "version": 2
   },
   "file_extension": ".py",
   "mimetype": "text/x-python",
   "name": "python",
   "nbconvert_exporter": "python",
   "pygments_lexer": "ipython2",
   "version": "2.7.6"
  }
 },
 "nbformat": 4,
 "nbformat_minor": 5
}
