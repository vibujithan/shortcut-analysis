{
 "cells": [
  {
   "cell_type": "code",
   "execution_count": 1,
   "id": "initial_id",
   "metadata": {
    "collapsed": true,
    "ExecuteTime": {
     "end_time": "2024-12-06T21:17:39.020315Z",
     "start_time": "2024-12-06T21:17:38.232290Z"
    }
   },
   "outputs": [],
   "source": [
    "import numpy as np\n",
    "import torch\n",
    "from torch.cuda.amp import autocast\n",
    "from torch.utils.data import DataLoader\n",
    "from tqdm import tqdm\n",
    "from utils.preprocessing import crop_center\n",
    "from models.sfcn_original import SFCN\n",
    "from utils.datasets import TorchDataset as TD\n",
    "import torch.nn.functional as F\n"
   ]
  },
  {
   "cell_type": "code",
   "outputs": [],
   "source": [
    "mode = 'test'\n",
    "dataloader = DataLoader(TD(f'/data/Data/PD/{mode}'), batch_size=8, shuffle=False)"
   ],
   "metadata": {
    "collapsed": false,
    "ExecuteTime": {
     "end_time": "2024-12-06T21:17:39.022980Z",
     "start_time": "2024-12-06T21:17:39.021172Z"
    }
   },
   "id": "a1275a0f3af9acfc",
   "execution_count": 2
  },
  {
   "cell_type": "code",
   "outputs": [
    {
     "data": {
      "text/plain": "torch.Size([1, 160, 192, 160])"
     },
     "execution_count": 3,
     "metadata": {},
     "output_type": "execute_result"
    }
   ],
   "source": [
    "next(iter(dataloader))[0][0].shape"
   ],
   "metadata": {
    "collapsed": false,
    "ExecuteTime": {
     "end_time": "2024-12-06T21:17:39.148873Z",
     "start_time": "2024-12-06T21:17:39.023726Z"
    }
   },
   "id": "9dc7dea83c14d97f",
   "execution_count": 3
  },
  {
   "cell_type": "code",
   "outputs": [
    {
     "name": "stderr",
     "output_type": "stream",
     "text": [
      "100%|██████████| 33/33 [00:05<00:00,  5.78it/s]\n"
     ]
    }
   ],
   "source": [
    "model = SFCN(output_dim=2, channel_number=[28, 58, 128, 256, 256, 64])\n",
    "model = torch.nn.DataParallel(model)\n",
    "fp_ = 'checkpoints/sfcn-pretrained/run_20191008_00_epoch_last.p'\n",
    "model.load_state_dict(torch.load(fp_))\n",
    "model.cuda()\n",
    "model.eval() # Don't forget this. BatchNorm will be affected if not in eval mode.\n",
    "\n",
    "y_true = []\n",
    "y_pred = []\n",
    "# Example data: some random brain in the MNI152 1mm std space\n",
    "for batch in tqdm(dataloader):\n",
    "    y_true += batch[2].cpu().tolist()\n",
    "    input_data =batch[0]\n",
    "\n",
    "    with torch.no_grad():\n",
    "        output = model(input_data)\n",
    "\n",
    "    y_pred += output"
   ],
   "metadata": {
    "collapsed": false,
    "ExecuteTime": {
     "end_time": "2024-12-06T21:17:46.459814Z",
     "start_time": "2024-12-06T21:17:39.936228Z"
    }
   },
   "id": "3f8e9ae0eb2481d6",
   "execution_count": 4
  },
  {
   "cell_type": "code",
   "outputs": [
    {
     "data": {
      "text/plain": "torch.Size([2, 1, 1, 1])"
     },
     "execution_count": 5,
     "metadata": {},
     "output_type": "execute_result"
    }
   ],
   "source": [
    "y_pred[0].shape"
   ],
   "metadata": {
    "collapsed": false,
    "ExecuteTime": {
     "end_time": "2024-12-06T21:17:46.462754Z",
     "start_time": "2024-12-06T21:17:46.460565Z"
    }
   },
   "id": "b3f6815110e84a5c",
   "execution_count": 5
  },
  {
   "cell_type": "code",
   "outputs": [
    {
     "ename": "TypeError",
     "evalue": "can't convert cuda:0 device type tensor to numpy. Use Tensor.cpu() to copy the tensor to host memory first.",
     "output_type": "error",
     "traceback": [
      "\u001B[0;31m---------------------------------------------------------------------------\u001B[0m",
      "\u001B[0;31mTypeError\u001B[0m                                 Traceback (most recent call last)",
      "Cell \u001B[0;32mIn [6], line 1\u001B[0m\n\u001B[0;32m----> 1\u001B[0m y_pred \u001B[38;5;241m=\u001B[39m np\u001B[38;5;241m.\u001B[39mexp(\u001B[43mnp\u001B[49m\u001B[38;5;241;43m.\u001B[39;49m\u001B[43mvstack\u001B[49m\u001B[43m(\u001B[49m\u001B[43my_pred\u001B[49m\u001B[43m)\u001B[49m)\n\u001B[1;32m      2\u001B[0m y_pred_bin \u001B[38;5;241m=\u001B[39m np\u001B[38;5;241m.\u001B[39margmax(y_pred, axis\u001B[38;5;241m=\u001B[39m\u001B[38;5;241m1\u001B[39m)\n\u001B[1;32m      3\u001B[0m y_true \u001B[38;5;241m=\u001B[39m np\u001B[38;5;241m.\u001B[39marray(y_true)\n",
      "File \u001B[0;32m<__array_function__ internals>:180\u001B[0m, in \u001B[0;36mvstack\u001B[0;34m(*args, **kwargs)\u001B[0m\n",
      "File \u001B[0;32m~/anaconda3/envs/deep/lib/python3.8/site-packages/numpy/core/shape_base.py:279\u001B[0m, in \u001B[0;36mvstack\u001B[0;34m(tup)\u001B[0m\n\u001B[1;32m    276\u001B[0m \u001B[38;5;28;01mif\u001B[39;00m \u001B[38;5;129;01mnot\u001B[39;00m overrides\u001B[38;5;241m.\u001B[39mARRAY_FUNCTION_ENABLED:\n\u001B[1;32m    277\u001B[0m     \u001B[38;5;66;03m# raise warning if necessary\u001B[39;00m\n\u001B[1;32m    278\u001B[0m     _arrays_for_stack_dispatcher(tup, stacklevel\u001B[38;5;241m=\u001B[39m\u001B[38;5;241m2\u001B[39m)\n\u001B[0;32m--> 279\u001B[0m arrs \u001B[38;5;241m=\u001B[39m \u001B[43matleast_2d\u001B[49m\u001B[43m(\u001B[49m\u001B[38;5;241;43m*\u001B[39;49m\u001B[43mtup\u001B[49m\u001B[43m)\u001B[49m\n\u001B[1;32m    280\u001B[0m \u001B[38;5;28;01mif\u001B[39;00m \u001B[38;5;129;01mnot\u001B[39;00m \u001B[38;5;28misinstance\u001B[39m(arrs, \u001B[38;5;28mlist\u001B[39m):\n\u001B[1;32m    281\u001B[0m     arrs \u001B[38;5;241m=\u001B[39m [arrs]\n",
      "File \u001B[0;32m<__array_function__ internals>:180\u001B[0m, in \u001B[0;36matleast_2d\u001B[0;34m(*args, **kwargs)\u001B[0m\n",
      "File \u001B[0;32m~/anaconda3/envs/deep/lib/python3.8/site-packages/numpy/core/shape_base.py:121\u001B[0m, in \u001B[0;36matleast_2d\u001B[0;34m(*arys)\u001B[0m\n\u001B[1;32m    119\u001B[0m res \u001B[38;5;241m=\u001B[39m []\n\u001B[1;32m    120\u001B[0m \u001B[38;5;28;01mfor\u001B[39;00m ary \u001B[38;5;129;01min\u001B[39;00m arys:\n\u001B[0;32m--> 121\u001B[0m     ary \u001B[38;5;241m=\u001B[39m \u001B[43masanyarray\u001B[49m\u001B[43m(\u001B[49m\u001B[43mary\u001B[49m\u001B[43m)\u001B[49m\n\u001B[1;32m    122\u001B[0m     \u001B[38;5;28;01mif\u001B[39;00m ary\u001B[38;5;241m.\u001B[39mndim \u001B[38;5;241m==\u001B[39m \u001B[38;5;241m0\u001B[39m:\n\u001B[1;32m    123\u001B[0m         result \u001B[38;5;241m=\u001B[39m ary\u001B[38;5;241m.\u001B[39mreshape(\u001B[38;5;241m1\u001B[39m, \u001B[38;5;241m1\u001B[39m)\n",
      "File \u001B[0;32m~/anaconda3/envs/deep/lib/python3.8/site-packages/torch/_tensor.py:757\u001B[0m, in \u001B[0;36mTensor.__array__\u001B[0;34m(self, dtype)\u001B[0m\n\u001B[1;32m    755\u001B[0m     \u001B[38;5;28;01mreturn\u001B[39;00m handle_torch_function(Tensor\u001B[38;5;241m.\u001B[39m__array__, (\u001B[38;5;28mself\u001B[39m,), \u001B[38;5;28mself\u001B[39m, dtype\u001B[38;5;241m=\u001B[39mdtype)\n\u001B[1;32m    756\u001B[0m \u001B[38;5;28;01mif\u001B[39;00m dtype \u001B[38;5;129;01mis\u001B[39;00m \u001B[38;5;28;01mNone\u001B[39;00m:\n\u001B[0;32m--> 757\u001B[0m     \u001B[38;5;28;01mreturn\u001B[39;00m \u001B[38;5;28;43mself\u001B[39;49m\u001B[38;5;241;43m.\u001B[39;49m\u001B[43mnumpy\u001B[49m\u001B[43m(\u001B[49m\u001B[43m)\u001B[49m\n\u001B[1;32m    758\u001B[0m \u001B[38;5;28;01melse\u001B[39;00m:\n\u001B[1;32m    759\u001B[0m     \u001B[38;5;28;01mreturn\u001B[39;00m \u001B[38;5;28mself\u001B[39m\u001B[38;5;241m.\u001B[39mnumpy()\u001B[38;5;241m.\u001B[39mastype(dtype, copy\u001B[38;5;241m=\u001B[39m\u001B[38;5;28;01mFalse\u001B[39;00m)\n",
      "\u001B[0;31mTypeError\u001B[0m: can't convert cuda:0 device type tensor to numpy. Use Tensor.cpu() to copy the tensor to host memory first."
     ]
    }
   ],
   "source": [
    "y_pred = np.exp(np.vstack(y_pred))\n",
    "y_pred_bin = np.argmax(y_pred, axis=1)\n",
    "y_true = np.array(y_true)\n",
    "np.mean(y_pred_bin==y_true)"
   ],
   "metadata": {
    "collapsed": false,
    "ExecuteTime": {
     "end_time": "2024-12-06T21:17:47.992475Z",
     "start_time": "2024-12-06T21:17:47.488320Z"
    }
   },
   "id": "a38363aa2e663b34",
   "execution_count": 6
  },
  {
   "cell_type": "code",
   "outputs": [
    {
     "data": {
      "text/plain": "0"
     },
     "execution_count": 28,
     "metadata": {},
     "output_type": "execute_result"
    }
   ],
   "source": [
    "np.max(y_pred_bin)"
   ],
   "metadata": {
    "collapsed": false,
    "ExecuteTime": {
     "end_time": "2024-12-06T20:16:18.890588Z",
     "start_time": "2024-12-06T20:16:18.885904Z"
    }
   },
   "id": "74967edd4328e978",
   "execution_count": 28
  },
  {
   "cell_type": "code",
   "outputs": [],
   "source": [],
   "metadata": {
    "collapsed": false
   },
   "id": "f7e0c11a8af0c7bd"
  }
 ],
 "metadata": {
  "kernelspec": {
   "display_name": "Python 3",
   "language": "python",
   "name": "python3"
  },
  "language_info": {
   "codemirror_mode": {
    "name": "ipython",
    "version": 2
   },
   "file_extension": ".py",
   "mimetype": "text/x-python",
   "name": "python",
   "nbconvert_exporter": "python",
   "pygments_lexer": "ipython2",
   "version": "2.7.6"
  }
 },
 "nbformat": 4,
 "nbformat_minor": 5
}
